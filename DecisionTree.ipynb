{
 "cells": [
  {
   "cell_type": "markdown",
   "id": "6a4b70d9-af00-48d4-b1b0-46ce1fb83d0d",
   "metadata": {
    "tags": []
   },
   "source": [
    "## Decision Tree"
   ]
  },
  {
   "cell_type": "code",
   "execution_count": 33,
   "id": "64cfa364-4503-4f1c-b2f2-143731c059e5",
   "metadata": {
    "tags": []
   },
   "outputs": [
    {
     "name": "stdout",
     "output_type": "stream",
     "text": [
      "Mean Squared Error: 32867.44296122022\n",
      "R-squared Score: 0.27173542404721596\n",
      "Mean Absolute Error: 121.60847840103158\n"
     ]
    }
   ],
   "source": [
    "import pandas as pd\n",
    "from sklearn.model_selection import train_test_split\n",
    "from sklearn.tree import DecisionTreeRegressor\n",
    "from sklearn.metrics import mean_squared_error, r2_score, mean_absolute_error\n",
    "\n",
    "# Load the data\n",
    "data_path = 'train_data_knn_imputed.csv'  \n",
    "data = pd.read_csv(data_path)\n",
    "\n",
    "# Selecting features and target variable\n",
    "features = [\n",
    "    \"CurrentSessionLength\", \"CurrentGameMode_LabelEncoded\", \"CurrentTask_TargetEncoded\",\n",
    "    \"LastTaskCompleted_TargetEncoded\", \"LevelProgressionAmount\", \"Month\",\n",
    "    \"WeekendFlag\", \"PeriodOfDay_Night\", \"QuestionTiming_System Initiated\",\"UserAvgResponse\"\n",
    "]\n",
    "X = data[features]\n",
    "y = data['ResponseValue']\n",
    "\n",
    "# Splitting the data into train and test sets\n",
    "X_train, X_test, y_train, y_test = train_test_split(X, y, test_size=0.2, random_state=42)\n",
    "\n",
    "# Creating and training the decision tree model\n",
    "model = DecisionTreeRegressor(random_state=42)\n",
    "model.fit(X_train, y_train)\n",
    "\n",
    "# Predicting and evaluating the model\n",
    "y_pred = model.predict(X_test)\n",
    "mse = mean_squared_error(y_test, y_pred)\n",
    "r2 = r2_score(y_test, y_pred)\n",
    "mae = mean_absolute_error(y_test, y_pred)\n",
    "\n",
    "# Print the evaluation results\n",
    "print(f\"Mean Squared Error: {mse}\")\n",
    "print(f\"R-squared Score: {r2}\")\n",
    "print(f\"Mean Absolute Error: {mae}\")"
   ]
  }
 ],
 "metadata": {
  "kernelspec": {
   "display_name": "Python 3 (ipykernel)",
   "language": "python",
   "name": "python3"
  },
  "language_info": {
   "codemirror_mode": {
    "name": "ipython",
    "version": 3
   },
   "file_extension": ".py",
   "mimetype": "text/x-python",
   "name": "python",
   "nbconvert_exporter": "python",
   "pygments_lexer": "ipython3",
   "version": "3.11.5"
  }
 },
 "nbformat": 4,
 "nbformat_minor": 5
}
