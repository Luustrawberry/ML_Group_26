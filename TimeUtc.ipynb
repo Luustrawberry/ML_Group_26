{
 "cells": [
  {
   "cell_type": "code",
   "execution_count": 60,
   "id": "e9a00c18-8b19-4e2e-9fc1-5ccaf34ec8a1",
   "metadata": {
    "tags": []
   },
   "outputs": [],
   "source": [
    "import numpy as np\n",
    "import pandas as pd"
   ]
  },
  {
   "cell_type": "code",
   "execution_count": 61,
   "id": "a5580e4f-3ee4-421c-afa9-9b37edc4bb1b",
   "metadata": {
    "tags": []
   },
   "outputs": [],
   "source": [
    "train_data = pd.read_csv(\"data/train_data.csv\")"
   ]
  },
  {
   "cell_type": "code",
   "execution_count": 62,
   "id": "55fd425c-8a62-40b5-9112-c3e5ec86982e",
   "metadata": {
    "tags": []
   },
   "outputs": [],
   "source": [
    "# Ensure TimeUtc is a datetime type\n",
    "train_data['TimeUtc'] = pd.to_datetime(train_data['TimeUtc'])\n",
    "\n",
    "# Extract components\n",
    "train_data['Year'] = train_data['TimeUtc'].dt.year\n",
    "train_data['Month'] = train_data['TimeUtc'].dt.month\n",
    "train_data['Day'] = train_data['TimeUtc'].dt.day\n",
    "train_data['Hour'] = train_data['TimeUtc'].dt.hour\n",
    "train_data['Minute'] = train_data['TimeUtc'].dt.minute\n",
    "train_data['Second'] = train_data['TimeUtc'].dt.second"
   ]
  },
  {
   "cell_type": "code",
   "execution_count": 63,
   "id": "8f977dc3-1181-4e25-8377-6e3eb06dc1df",
   "metadata": {
    "tags": []
   },
   "outputs": [],
   "source": [
    "# Separate weekday and weekend days\n",
    "train_data['Weekday'] = train_data['TimeUtc'].dt.dayofweek\n",
    "train_data['WeekendFlag'] = (train_data['TimeUtc'].dt.weekday >= 5).astype(int)\n",
    "\n",
    "# Categorize different times of day into periods\n",
    "time_bins = [0, 6, 12, 18, 24]  # Define time_bins as 0-6, 6-12, 12-18, 18-24\n",
    "time_labels = ['Night', 'Morning', 'Afternoon', 'Evening']\n",
    "train_data['PeriodOfDay'] = pd.cut(train_data['TimeUtc'].dt.hour, bins=time_bins, labels=time_labels, right=False)\n",
    "\n",
    "# Remove the original Timestamp column to avoid redundancy\n",
    "train_data.drop('TimeUtc', axis=1, inplace=True)"
   ]
  },
  {
   "cell_type": "code",
   "execution_count": 64,
   "id": "76e0f886-6ee0-40a1-a44b-acab89a20599",
   "metadata": {
    "tags": []
   },
   "outputs": [
    {
     "data": {
      "text/html": [
       "<div>\n",
       "<style scoped>\n",
       "    .dataframe tbody tr th:only-of-type {\n",
       "        vertical-align: middle;\n",
       "    }\n",
       "\n",
       "    .dataframe tbody tr th {\n",
       "        vertical-align: top;\n",
       "    }\n",
       "\n",
       "    .dataframe thead th {\n",
       "        text-align: right;\n",
       "    }\n",
       "</style>\n",
       "<table border=\"1\" class=\"dataframe\">\n",
       "  <thead>\n",
       "    <tr style=\"text-align: right;\">\n",
       "      <th></th>\n",
       "      <th>UserID</th>\n",
       "      <th>QuestionTiming</th>\n",
       "      <th>CurrentGameMode</th>\n",
       "      <th>CurrentTask</th>\n",
       "      <th>CurrentSessionLength</th>\n",
       "      <th>LastTaskCompleted</th>\n",
       "      <th>LevelProgressionAmount</th>\n",
       "      <th>QuestionType</th>\n",
       "      <th>ResponseValue</th>\n",
       "      <th>Year</th>\n",
       "      <th>Month</th>\n",
       "      <th>Day</th>\n",
       "      <th>Hour</th>\n",
       "      <th>Minute</th>\n",
       "      <th>Second</th>\n",
       "      <th>Weekday</th>\n",
       "      <th>WeekendFlag</th>\n",
       "      <th>PeriodOfDay</th>\n",
       "    </tr>\n",
       "  </thead>\n",
       "  <tbody>\n",
       "    <tr>\n",
       "      <th>0</th>\n",
       "      <td>p1</td>\n",
       "      <td>User Initiated</td>\n",
       "      <td>NaN</td>\n",
       "      <td>NaN</td>\n",
       "      <td>2</td>\n",
       "      <td>NaN</td>\n",
       "      <td>NaN</td>\n",
       "      <td>Wellbeing</td>\n",
       "      <td>509.0</td>\n",
       "      <td>2022</td>\n",
       "      <td>8</td>\n",
       "      <td>18</td>\n",
       "      <td>22</td>\n",
       "      <td>55</td>\n",
       "      <td>27</td>\n",
       "      <td>3</td>\n",
       "      <td>0</td>\n",
       "      <td>Evening</td>\n",
       "    </tr>\n",
       "    <tr>\n",
       "      <th>1</th>\n",
       "      <td>p1</td>\n",
       "      <td>System Initiated</td>\n",
       "      <td>NaN</td>\n",
       "      <td>NaN</td>\n",
       "      <td>0</td>\n",
       "      <td>NaN</td>\n",
       "      <td>NaN</td>\n",
       "      <td>Wellbeing</td>\n",
       "      <td>653.0</td>\n",
       "      <td>2022</td>\n",
       "      <td>8</td>\n",
       "      <td>18</td>\n",
       "      <td>23</td>\n",
       "      <td>38</td>\n",
       "      <td>31</td>\n",
       "      <td>3</td>\n",
       "      <td>0</td>\n",
       "      <td>Evening</td>\n",
       "    </tr>\n",
       "    <tr>\n",
       "      <th>2</th>\n",
       "      <td>p1</td>\n",
       "      <td>User Initiated</td>\n",
       "      <td>Career</td>\n",
       "      <td>HOME_VAN</td>\n",
       "      <td>1</td>\n",
       "      <td>WASH_PWVan</td>\n",
       "      <td>1.000000</td>\n",
       "      <td>Wellbeing</td>\n",
       "      <td>705.0</td>\n",
       "      <td>2022</td>\n",
       "      <td>8</td>\n",
       "      <td>18</td>\n",
       "      <td>23</td>\n",
       "      <td>39</td>\n",
       "      <td>24</td>\n",
       "      <td>3</td>\n",
       "      <td>0</td>\n",
       "      <td>Evening</td>\n",
       "    </tr>\n",
       "    <tr>\n",
       "      <th>3</th>\n",
       "      <td>p1</td>\n",
       "      <td>System Initiated</td>\n",
       "      <td>Career</td>\n",
       "      <td>RESIDENTIALSMALL_BACKYARD</td>\n",
       "      <td>6</td>\n",
       "      <td>WASH_PWVan</td>\n",
       "      <td>0.168267</td>\n",
       "      <td>Wellbeing</td>\n",
       "      <td>817.0</td>\n",
       "      <td>2022</td>\n",
       "      <td>8</td>\n",
       "      <td>18</td>\n",
       "      <td>23</td>\n",
       "      <td>45</td>\n",
       "      <td>1</td>\n",
       "      <td>3</td>\n",
       "      <td>0</td>\n",
       "      <td>Evening</td>\n",
       "    </tr>\n",
       "    <tr>\n",
       "      <th>4</th>\n",
       "      <td>p1</td>\n",
       "      <td>System Initiated</td>\n",
       "      <td>Career</td>\n",
       "      <td>RESIDENTIALSMALL_BACKYARD</td>\n",
       "      <td>13</td>\n",
       "      <td>WASH_PWVan</td>\n",
       "      <td>0.429364</td>\n",
       "      <td>Wellbeing</td>\n",
       "      <td>810.0</td>\n",
       "      <td>2022</td>\n",
       "      <td>8</td>\n",
       "      <td>18</td>\n",
       "      <td>23</td>\n",
       "      <td>51</td>\n",
       "      <td>22</td>\n",
       "      <td>3</td>\n",
       "      <td>0</td>\n",
       "      <td>Evening</td>\n",
       "    </tr>\n",
       "  </tbody>\n",
       "</table>\n",
       "</div>"
      ],
      "text/plain": [
       "  UserID    QuestionTiming CurrentGameMode                CurrentTask  \\\n",
       "0     p1    User Initiated             NaN                        NaN   \n",
       "1     p1  System Initiated             NaN                        NaN   \n",
       "2     p1    User Initiated          Career                   HOME_VAN   \n",
       "3     p1  System Initiated          Career  RESIDENTIALSMALL_BACKYARD   \n",
       "4     p1  System Initiated          Career  RESIDENTIALSMALL_BACKYARD   \n",
       "\n",
       "   CurrentSessionLength LastTaskCompleted  LevelProgressionAmount  \\\n",
       "0                     2               NaN                     NaN   \n",
       "1                     0               NaN                     NaN   \n",
       "2                     1        WASH_PWVan                1.000000   \n",
       "3                     6        WASH_PWVan                0.168267   \n",
       "4                    13        WASH_PWVan                0.429364   \n",
       "\n",
       "  QuestionType  ResponseValue  Year  Month  Day  Hour  Minute  Second  \\\n",
       "0    Wellbeing          509.0  2022      8   18    22      55      27   \n",
       "1    Wellbeing          653.0  2022      8   18    23      38      31   \n",
       "2    Wellbeing          705.0  2022      8   18    23      39      24   \n",
       "3    Wellbeing          817.0  2022      8   18    23      45       1   \n",
       "4    Wellbeing          810.0  2022      8   18    23      51      22   \n",
       "\n",
       "   Weekday  WeekendFlag PeriodOfDay  \n",
       "0        3            0     Evening  \n",
       "1        3            0     Evening  \n",
       "2        3            0     Evening  \n",
       "3        3            0     Evening  \n",
       "4        3            0     Evening  "
      ]
     },
     "execution_count": 64,
     "metadata": {},
     "output_type": "execute_result"
    }
   ],
   "source": [
    "train_data.head()"
   ]
  },
  {
   "cell_type": "code",
   "execution_count": 65,
   "id": "81ad37e7-c243-4dac-a4e4-3a39c1018d55",
   "metadata": {
    "tags": []
   },
   "outputs": [],
   "source": [
    "#encoding for TimeOfDay.\n",
    "train_data = pd.get_dummies(train_data, columns=['PeriodOfDay'], drop_first=False)"
   ]
  },
  {
   "cell_type": "code",
   "execution_count": 66,
   "id": "43db25d2-2554-4c0a-bed7-512cccf6dc4a",
   "metadata": {
    "tags": []
   },
   "outputs": [
    {
     "data": {
      "text/html": [
       "<div>\n",
       "<style scoped>\n",
       "    .dataframe tbody tr th:only-of-type {\n",
       "        vertical-align: middle;\n",
       "    }\n",
       "\n",
       "    .dataframe tbody tr th {\n",
       "        vertical-align: top;\n",
       "    }\n",
       "\n",
       "    .dataframe thead th {\n",
       "        text-align: right;\n",
       "    }\n",
       "</style>\n",
       "<table border=\"1\" class=\"dataframe\">\n",
       "  <thead>\n",
       "    <tr style=\"text-align: right;\">\n",
       "      <th></th>\n",
       "      <th>UserID</th>\n",
       "      <th>QuestionTiming</th>\n",
       "      <th>CurrentGameMode</th>\n",
       "      <th>CurrentTask</th>\n",
       "      <th>CurrentSessionLength</th>\n",
       "      <th>LastTaskCompleted</th>\n",
       "      <th>LevelProgressionAmount</th>\n",
       "      <th>QuestionType</th>\n",
       "      <th>ResponseValue</th>\n",
       "      <th>Year</th>\n",
       "      <th>...</th>\n",
       "      <th>Day</th>\n",
       "      <th>Hour</th>\n",
       "      <th>Minute</th>\n",
       "      <th>Second</th>\n",
       "      <th>Weekday</th>\n",
       "      <th>WeekendFlag</th>\n",
       "      <th>PeriodOfDay_Night</th>\n",
       "      <th>PeriodOfDay_Morning</th>\n",
       "      <th>PeriodOfDay_Afternoon</th>\n",
       "      <th>PeriodOfDay_Evening</th>\n",
       "    </tr>\n",
       "  </thead>\n",
       "  <tbody>\n",
       "    <tr>\n",
       "      <th>0</th>\n",
       "      <td>p1</td>\n",
       "      <td>User Initiated</td>\n",
       "      <td>NaN</td>\n",
       "      <td>NaN</td>\n",
       "      <td>2</td>\n",
       "      <td>NaN</td>\n",
       "      <td>NaN</td>\n",
       "      <td>Wellbeing</td>\n",
       "      <td>509.0</td>\n",
       "      <td>2022</td>\n",
       "      <td>...</td>\n",
       "      <td>18</td>\n",
       "      <td>22</td>\n",
       "      <td>55</td>\n",
       "      <td>27</td>\n",
       "      <td>3</td>\n",
       "      <td>0</td>\n",
       "      <td>False</td>\n",
       "      <td>False</td>\n",
       "      <td>False</td>\n",
       "      <td>True</td>\n",
       "    </tr>\n",
       "    <tr>\n",
       "      <th>1</th>\n",
       "      <td>p1</td>\n",
       "      <td>System Initiated</td>\n",
       "      <td>NaN</td>\n",
       "      <td>NaN</td>\n",
       "      <td>0</td>\n",
       "      <td>NaN</td>\n",
       "      <td>NaN</td>\n",
       "      <td>Wellbeing</td>\n",
       "      <td>653.0</td>\n",
       "      <td>2022</td>\n",
       "      <td>...</td>\n",
       "      <td>18</td>\n",
       "      <td>23</td>\n",
       "      <td>38</td>\n",
       "      <td>31</td>\n",
       "      <td>3</td>\n",
       "      <td>0</td>\n",
       "      <td>False</td>\n",
       "      <td>False</td>\n",
       "      <td>False</td>\n",
       "      <td>True</td>\n",
       "    </tr>\n",
       "    <tr>\n",
       "      <th>2</th>\n",
       "      <td>p1</td>\n",
       "      <td>User Initiated</td>\n",
       "      <td>Career</td>\n",
       "      <td>HOME_VAN</td>\n",
       "      <td>1</td>\n",
       "      <td>WASH_PWVan</td>\n",
       "      <td>1.000000</td>\n",
       "      <td>Wellbeing</td>\n",
       "      <td>705.0</td>\n",
       "      <td>2022</td>\n",
       "      <td>...</td>\n",
       "      <td>18</td>\n",
       "      <td>23</td>\n",
       "      <td>39</td>\n",
       "      <td>24</td>\n",
       "      <td>3</td>\n",
       "      <td>0</td>\n",
       "      <td>False</td>\n",
       "      <td>False</td>\n",
       "      <td>False</td>\n",
       "      <td>True</td>\n",
       "    </tr>\n",
       "    <tr>\n",
       "      <th>3</th>\n",
       "      <td>p1</td>\n",
       "      <td>System Initiated</td>\n",
       "      <td>Career</td>\n",
       "      <td>RESIDENTIALSMALL_BACKYARD</td>\n",
       "      <td>6</td>\n",
       "      <td>WASH_PWVan</td>\n",
       "      <td>0.168267</td>\n",
       "      <td>Wellbeing</td>\n",
       "      <td>817.0</td>\n",
       "      <td>2022</td>\n",
       "      <td>...</td>\n",
       "      <td>18</td>\n",
       "      <td>23</td>\n",
       "      <td>45</td>\n",
       "      <td>1</td>\n",
       "      <td>3</td>\n",
       "      <td>0</td>\n",
       "      <td>False</td>\n",
       "      <td>False</td>\n",
       "      <td>False</td>\n",
       "      <td>True</td>\n",
       "    </tr>\n",
       "    <tr>\n",
       "      <th>4</th>\n",
       "      <td>p1</td>\n",
       "      <td>System Initiated</td>\n",
       "      <td>Career</td>\n",
       "      <td>RESIDENTIALSMALL_BACKYARD</td>\n",
       "      <td>13</td>\n",
       "      <td>WASH_PWVan</td>\n",
       "      <td>0.429364</td>\n",
       "      <td>Wellbeing</td>\n",
       "      <td>810.0</td>\n",
       "      <td>2022</td>\n",
       "      <td>...</td>\n",
       "      <td>18</td>\n",
       "      <td>23</td>\n",
       "      <td>51</td>\n",
       "      <td>22</td>\n",
       "      <td>3</td>\n",
       "      <td>0</td>\n",
       "      <td>False</td>\n",
       "      <td>False</td>\n",
       "      <td>False</td>\n",
       "      <td>True</td>\n",
       "    </tr>\n",
       "  </tbody>\n",
       "</table>\n",
       "<p>5 rows × 21 columns</p>\n",
       "</div>"
      ],
      "text/plain": [
       "  UserID    QuestionTiming CurrentGameMode                CurrentTask  \\\n",
       "0     p1    User Initiated             NaN                        NaN   \n",
       "1     p1  System Initiated             NaN                        NaN   \n",
       "2     p1    User Initiated          Career                   HOME_VAN   \n",
       "3     p1  System Initiated          Career  RESIDENTIALSMALL_BACKYARD   \n",
       "4     p1  System Initiated          Career  RESIDENTIALSMALL_BACKYARD   \n",
       "\n",
       "   CurrentSessionLength LastTaskCompleted  LevelProgressionAmount  \\\n",
       "0                     2               NaN                     NaN   \n",
       "1                     0               NaN                     NaN   \n",
       "2                     1        WASH_PWVan                1.000000   \n",
       "3                     6        WASH_PWVan                0.168267   \n",
       "4                    13        WASH_PWVan                0.429364   \n",
       "\n",
       "  QuestionType  ResponseValue  Year  ...  Day  Hour  Minute  Second  Weekday  \\\n",
       "0    Wellbeing          509.0  2022  ...   18    22      55      27        3   \n",
       "1    Wellbeing          653.0  2022  ...   18    23      38      31        3   \n",
       "2    Wellbeing          705.0  2022  ...   18    23      39      24        3   \n",
       "3    Wellbeing          817.0  2022  ...   18    23      45       1        3   \n",
       "4    Wellbeing          810.0  2022  ...   18    23      51      22        3   \n",
       "\n",
       "   WeekendFlag  PeriodOfDay_Night  PeriodOfDay_Morning  PeriodOfDay_Afternoon  \\\n",
       "0            0              False                False                  False   \n",
       "1            0              False                False                  False   \n",
       "2            0              False                False                  False   \n",
       "3            0              False                False                  False   \n",
       "4            0              False                False                  False   \n",
       "\n",
       "   PeriodOfDay_Evening  \n",
       "0                 True  \n",
       "1                 True  \n",
       "2                 True  \n",
       "3                 True  \n",
       "4                 True  \n",
       "\n",
       "[5 rows x 21 columns]"
      ]
     },
     "execution_count": 66,
     "metadata": {},
     "output_type": "execute_result"
    }
   ],
   "source": [
    "train_data.head()"
   ]
  },
  {
   "cell_type": "markdown",
   "id": "ef455df6-f44c-43a8-bc75-3b129e1017b8",
   "metadata": {},
   "source": [
    "## 1. Weekday"
   ]
  },
  {
   "cell_type": "code",
   "execution_count": 29,
   "id": "a360fda0-2863-4cd1-8e67-8e5f0ab57f3a",
   "metadata": {
    "tags": []
   },
   "outputs": [
    {
     "name": "stdout",
     "output_type": "stream",
     "text": [
      "[3 4 5 6 0 2 1]\n",
      "F-statistic: 9.982346547601745\n",
      "P-value: 4.757252476160118e-11\n"
     ]
    }
   ],
   "source": [
    "weekday_unique_values = train_data['Weekday'].unique()\n",
    "print(weekday_unique_values)\n",
    "\n",
    "from scipy.stats import f_oneway\n",
    "\n",
    "grouped_data = [train_data[train_data['Weekday'] == i]['ResponseValue'] for i in range(7)]\n",
    "\n",
    "f_stat, p_val = f_oneway(*grouped_data)\n",
    "print('F-statistic:', f_stat)\n",
    "print('P-value:', p_val)\n"
   ]
  },
  {
   "cell_type": "code",
   "execution_count": 31,
   "id": "15b4f519-00a7-480b-b7d7-0b1863bea6f7",
   "metadata": {
    "tags": []
   },
   "outputs": [
    {
     "data": {
      "image/png": "[encoded data removed]",
      "text/plain": [
       "<Figure size 1000x600 with 1 Axes>"
      ]
     },
     "metadata": {},
     "output_type": "display_data"
    }
   ],
   "source": [
    "import seaborn as sns\n",
    "import matplotlib.pyplot as plt\n",
    "\n",
    "plt.figure(figsize=(10, 6))\n",
    "sns.boxplot(x='Weekday', y='ResponseValue', data=train_data)\n",
    "plt.title('ResponseValue by Weekday')\n",
    "plt.xlabel('Weekday')\n",
    "plt.ylabel('ResponseValue')\n",
    "plt.show()\n",
    "\n"
   ]
  },
  {
   "cell_type": "code",
   "execution_count": 32,
   "id": "c8e56052-540d-44cd-949e-1ba2d6b2a58e",
   "metadata": {
    "tags": []
   },
   "outputs": [
    {
     "name": "stdout",
     "output_type": "stream",
     "text": [
      " Multiple Comparison of Means - Tukey HSD, FWER=0.05 \n",
      "=====================================================\n",
      "group1 group2 meandiff p-adj   lower    upper  reject\n",
      "-----------------------------------------------------\n",
      "     0      1  -4.5432 0.4142 -11.2391  2.1527  False\n",
      "     0      2  -0.6859 0.9999   -7.377  6.0052  False\n",
      "     0      3  -3.1834 0.7864  -9.7533  3.3864  False\n",
      "     0      4   0.2729    1.0  -6.0571  6.6029  False\n",
      "     0      5   6.4562 0.0382   0.1944  12.718   True\n",
      "     0      6   8.4067 0.0017   2.0817 14.7317   True\n",
      "     1      2   3.8573 0.6415  -2.9846 10.6992  False\n",
      "     1      3   1.3598 0.9969  -5.3636  8.0832  False\n",
      "     1      4   4.8161 0.3018  -1.6731 11.3053  False\n",
      "     1      5  10.9994    0.0   4.5767 17.4221   True\n",
      "     1      6  12.9499    0.0   6.4655 19.4343   True\n",
      "     2      3  -2.4975 0.9295  -9.2161  4.2211  False\n",
      "     2      4   0.9588 0.9995  -5.5255  7.4431  False\n",
      "     2      5   7.1421 0.0179   0.7243 13.5598   True\n",
      "     2      6   9.0926 0.0007   2.6132 15.5721   True\n",
      "     3      4   3.4563 0.6808  -2.9028  9.8154  False\n",
      "     3      5   9.6396 0.0001   3.3484 15.9308   True\n",
      "     3      6  11.5901    0.0    5.236 17.9443   True\n",
      "     4      5   6.1833 0.0408    0.143 12.2236   True\n",
      "     4      6   8.1338 0.0017    2.028 14.2397   True\n",
      "     5      6   1.9505 0.9637  -4.0846  7.9857  False\n",
      "-----------------------------------------------------\n"
     ]
    },
    {
     "data": {
      "image/png": "[encoded data removed]",
      "text/plain": [
       "<Figure size 1000x600 with 1 Axes>"
      ]
     },
     "metadata": {},
     "output_type": "display_data"
    }
   ],
   "source": [
    "from statsmodels.stats.multicomp import pairwise_tukeyhsd\n",
    "\n",
    "tukey = pairwise_tukeyhsd(endog=train_data['ResponseValue'], groups=train_data['Weekday'], alpha=0.05)\n",
    "print(tukey)\n",
    "\n",
    "tukey.plot_simultaneous()\n",
    "plt.show()\n"
   ]
  },
  {
   "cell_type": "markdown",
   "id": "5fa6d2aa-6811-408b-90f5-e8ecbf430a80",
   "metadata": {},
   "source": [
    "### Suggestion\n",
    "Significant difference: There is a significant difference in ResponseValue between specific Weekday groups. In particular, the ResponseValue is significantly different on Sunday (Group 6) compared to other days (0, 1, 2, 3, 4, 5).\n",
    "The effect of Sunday is obvious: The significant difference between Sunday (Group 6) and other days shows that the ResponseValue of Sunday is significantly higher than that of other days."
   ]
  },
  {
   "cell_type": "markdown",
   "id": "94935844-067f-4aa8-ba15-cab7b1803608",
   "metadata": {},
   "source": [
    "## 2. Weekend"
   ]
  },
  {
   "cell_type": "code",
   "execution_count": 35,
   "id": "ca1311ec-5701-4d54-8a67-86c4b3779b1b",
   "metadata": {
    "tags": []
   },
   "outputs": [
    {
     "name": "stdout",
     "output_type": "stream",
     "text": [
      "[0 1]\n",
      "Point-Biserial Correlation: 0.019626286413512523, P-value: 6.187889079493329e-13\n",
      "Mean on Weekdays: 756.1773873369965, Mean on Weekends: 765.1190305497098\n",
      "T-statistic: -7.196983488263627, P-value: 6.187889079510141e-13\n"
     ]
    },
    {
     "data": {
      "image/png": "[encoded data removed]",
      "text/plain": [
       "<Figure size 800x600 with 1 Axes>"
      ]
     },
     "metadata": {},
     "output_type": "display_data"
    }
   ],
   "source": [
    "WeekendFlag_unique_values = train_data['WeekendFlag'].unique()\n",
    "print(WeekendFlag_unique_values)\n",
    "\n",
    "import pandas as pd\n",
    "from scipy.stats import pointbiserialr, ttest_ind\n",
    "import seaborn as sns\n",
    "import matplotlib.pyplot as plt\n",
    "\n",
    "\n",
    "correlation, p_value = pointbiserialr(train_data['WeekendFlag'], train_data['ResponseValue'])\n",
    "print(f\"Point-Biserial Correlation: {correlation}, P-value: {p_value}\")\n",
    "\n",
    "mean_weekday = train_data[train_data['WeekendFlag'] == 0]['ResponseValue'].mean()\n",
    "mean_weekend = train_data[train_data['WeekendFlag'] == 1]['ResponseValue'].mean()\n",
    "print(f\"Mean on Weekdays: {mean_weekday}, Mean on Weekends: {mean_weekend}\")\n",
    "\n",
    "group_weekday = train_data[train_data['WeekendFlag'] == 0]['ResponseValue']\n",
    "group_weekend = train_data[train_data['WeekendFlag'] == 1]['ResponseValue']\n",
    "t_stat, p_val = ttest_ind(group_weekday, group_weekend)\n",
    "print(f\"T-statistic: {t_stat}, P-value: {p_val}\")\n",
    "\n",
    "plt.figure(figsize=(8, 6))\n",
    "sns.boxplot(x='WeekendFlag', y='ResponseValue', data=train_data)\n",
    "plt.title('ResponseValue by WeekendFlag')\n",
    "plt.xlabel('WeekendFlag')\n",
    "plt.ylabel('ResponseValue')\n",
    "plt.show()\n",
    "\n"
   ]
  },
  {
   "cell_type": "markdown",
   "id": "e95ea82e-7edc-4fba-ac0e-14283a685f40",
   "metadata": {},
   "source": [
    "### Suggestion\n",
    "Although the linear correlation between WeekendFlag and ResponseValue is very weak, mean comparison and t-test found that there is a significant difference in ResponseValue between weekdays and weekends, and this difference is statistically significant."
   ]
  },
  {
   "cell_type": "markdown",
   "id": "a265dc8b-265d-4546-bfe9-3ea6c1f7ca13",
   "metadata": {},
   "source": [
    "## 3. PeriodOfDay"
   ]
  },
  {
   "cell_type": "code",
   "execution_count": 67,
   "id": "b5cd2e7b-da7a-4aae-84c9-8a5ff6714454",
   "metadata": {
    "tags": []
   },
   "outputs": [
    {
     "name": "stdout",
     "output_type": "stream",
     "text": [
      "                            OLS Regression Results                            \n",
      "==============================================================================\n",
      "Dep. Variable:          ResponseValue   R-squared:                       0.000\n",
      "Model:                            OLS   Adj. R-squared:                  0.000\n",
      "Method:                 Least Squares   F-statistic:                     14.86\n",
      "Date:                Thu, 16 May 2024   Prob (F-statistic):           1.13e-09\n",
      "Time:                        19:25:57   Log-Likelihood:            -9.1126e+05\n",
      "No. Observations:              134420   AIC:                         1.823e+06\n",
      "Df Residuals:                  134416   BIC:                         1.823e+06\n",
      "Df Model:                           3                                         \n",
      "Covariance Type:            nonrobust                                         \n",
      "=================================================================================================\n",
      "                                    coef    std err          t      P>|t|      [0.025      0.975]\n",
      "-------------------------------------------------------------------------------------------------\n",
      "Intercept                       758.8099      1.452    522.692      0.000     755.964     761.655\n",
      "PeriodOfDay_Afternoon[T.True]    -4.2965      1.899     -2.262      0.024      -8.019      -0.574\n",
      "PeriodOfDay_Evening[T.True]      -1.6446      1.780     -0.924      0.355      -5.132       1.843\n",
      "PeriodOfDay_Night[T.True]         5.8180      1.800      3.233      0.001       2.290       9.346\n",
      "==============================================================================\n",
      "Omnibus:                    14513.912   Durbin-Watson:                   0.638\n",
      "Prob(Omnibus):                  0.000   Jarque-Bera (JB):            19671.237\n",
      "Skew:                          -0.902   Prob(JB):                         0.00\n",
      "Kurtosis:                       3.508   Cond. No.                         5.90\n",
      "==============================================================================\n",
      "\n",
      "Notes:\n",
      "[1] Standard Errors assume that the covariance matrix of the errors is correctly specified.\n"
     ]
    }
   ],
   "source": [
    "import statsmodels.formula.api as smf\n",
    "\n",
    "formula = 'ResponseValue ~ PeriodOfDay_Afternoon + PeriodOfDay_Evening + PeriodOfDay_Night'\n",
    "\n",
    "model = smf.ols(formula, data=train_data).fit()\n",
    "\n",
    "print(model.summary())"
   ]
  },
  {
   "cell_type": "markdown",
   "id": "cc4a72da-3f39-4508-ba14-239e872ff64b",
   "metadata": {},
   "source": [
    "### Suggestion\n",
    "PeriodOfDay_Afternoon has a significant negative impact on ResponseValue. \n",
    "Compared with Morning, the ResponseValue of Afternoon period is about 4.3 lower on average.\n",
    "\n",
    "PeriodOfDay_Evening has no significant impact on ResponseValue. \n",
    "Compared with Morning, the ResponseValue of Evening period does not change significantly.\n",
    "\n",
    "PeriodOfDay_Night has a significant positive impact on ResponseValue. \n",
    "Compared to Morning, the ResponseValue in Night period increases by about 5.8 on average."
   ]
  },
  {
   "cell_type": "markdown",
   "id": "469c7590-e9ea-42bb-abdf-6bfebadba421",
   "metadata": {},
   "source": [
    "## 1.3 CurrentTask"
   ]
  },
  {
   "cell_type": "code",
   "execution_count": 10,
   "id": "8f81637c-fcf0-4bd7-8688-df61b8a82ca4",
   "metadata": {
    "tags": []
   },
   "outputs": [
    {
     "name": "stdout",
     "output_type": "stream",
     "text": [
      "   CurrentTask_encoded\n",
      "0           679.409393\n",
      "1           679.409393\n",
      "2           745.809113\n",
      "3           765.158454\n",
      "4           765.158454\n"
     ]
    }
   ],
   "source": [
    "from category_encoders import TargetEncoder\n",
    "\n",
    "train_data = pd.read_csv(\"data/train_data.csv\")\n",
    "\n",
    "encoder = TargetEncoder()\n",
    "train_data['CurrentTask_encoded'] = encoder.fit_transform(train_data['CurrentTask'], \n",
    "                                                               train_data['ResponseValue'])\n",
    "\n",
    "\n",
    "train_data.drop(['CurrentTask'], axis=1, inplace=True)\n",
    "\n",
    "print(train_data[['CurrentTask_encoded']].head())\n",
    "\n",
    "# encoding and drop original columns."
   ]
  },
  {
   "cell_type": "code",
   "execution_count": 16,
   "id": "39f162eb-1d1d-4ab2-b552-e61202dbf693",
   "metadata": {
    "tags": []
   },
   "outputs": [
    {
     "name": "stdout",
     "output_type": "stream",
     "text": [
      "Correlation between encoded CurrentTask and ResponseValue: 0.14800095938102786\n"
     ]
    }
   ],
   "source": [
    "correlation = train_data['CurrentTask_encoded'].corr(train_data['ResponseValue'])\n",
    "print(f'Correlation between encoded CurrentTask and ResponseValue: {correlation}')"
   ]
  },
  {
   "cell_type": "code",
   "execution_count": 14,
   "id": "4995422d-309b-46f3-bf0e-2599c4a30f56",
   "metadata": {
    "tags": []
   },
   "outputs": [
    {
     "data": {
      "image/png": "[encoded data removed]",
      "text/plain": [
       "<Figure size 640x480 with 1 Axes>"
      ]
     },
     "metadata": {},
     "output_type": "display_data"
    }
   ],
   "source": [
    "import matplotlib.pyplot as plt\n",
    "\n",
    "plt.scatter(train_data['CurrentTask_encoded'], train_data['ResponseValue'])\n",
    "plt.xlabel('CurrentTask_encoded')\n",
    "plt.ylabel('ResponseValue')\n",
    "plt.title('Scatter plot of CurrentTask_encoded vs ResponseValue')\n",
    "plt.show()\n"
   ]
  },
  {
   "cell_type": "markdown",
   "id": "dea916be-3640-45d4-bc61-7dbefb1b6fdf",
   "metadata": {},
   "source": [
    "### Interpretation\n",
    "1) Correlation close to 0, indicating a weak positive correlation.\n",
    "2) Since the distribution range of ResponseValue in each strip is very wide, it means that the impact of CurrentTask on ResponseValue is more complex and may be affected by other factors."
   ]
  }
 ],
 "metadata": {
  "kernelspec": {
   "display_name": "Python 3 (ipykernel)",
   "language": "python",
   "name": "python3"
  },
  "language_info": {
   "codemirror_mode": {
    "name": "ipython",
    "version": 3
   },
   "file_extension": ".py",
   "mimetype": "text/x-python",
   "name": "python",
   "nbconvert_exporter": "python",
   "pygments_lexer": "ipython3",
   "version": "3.11.5"
  }
 },
 "nbformat": 4,
 "nbformat_minor": 5
}
