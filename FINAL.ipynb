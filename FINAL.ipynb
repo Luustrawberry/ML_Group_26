{
 "cells": [
  {
   "cell_type": "code",
   "execution_count": 1,
   "id": "77460632-ff71-4f39-b8cf-109fc4fcfc90",
   "metadata": {
    "tags": []
   },
   "outputs": [],
   "source": [
    "import numpy as np\n",
    "import pandas as pd\n",
    "import statsmodels.api as sm\n",
    "from statsmodels.formula.api import ols"
   ]
  },
  {
   "cell_type": "markdown",
   "id": "d63d335a-8058-4507-ad7d-bacece398d41",
   "metadata": {
    "jp-MarkdownHeadingCollapsed": true,
    "tags": []
   },
   "source": [
    "## Train_data"
   ]
  },
  {
   "cell_type": "markdown",
   "id": "66bd16e5-b648-4744-9808-426a49566b0f",
   "metadata": {
    "tags": []
   },
   "source": [
    "### CurrentTask, LastTaskCompleted-Encoding "
   ]
  },
  {
   "cell_type": "code",
   "execution_count": 2,
   "id": "5644e3b9-b746-4169-9bdf-4a6026eaf598",
   "metadata": {
    "tags": []
   },
   "outputs": [],
   "source": [
    "import pandas as pd\n",
    "from sklearn.preprocessing import LabelEncoder\n",
    "\n",
    "train_data_path = 'data/train_data.csv'\n",
    "train_df = pd.read_csv(train_data_path)\n",
    "\n",
    "label_encoder = LabelEncoder()\n",
    "\n",
    "if train_df['CurrentTask'].dtype == 'object':\n",
    "    train_df['CurrentTask_TargetEncoded'] = label_encoder.fit_transform(train_df['CurrentTask'].astype(str))\n",
    "\n",
    "if train_df['LastTaskCompleted'].dtype == 'object':\n",
    "    train_df['LastTaskCompleted_TargetEncoded'] = label_encoder.fit_transform(train_df['LastTaskCompleted'].astype(str))\n",
    "\n",
    "output_file_path = 'train_data_knn_imputed.csv'\n",
    "train_df.to_csv(output_file_path, index=False)"
   ]
  },
  {
   "cell_type": "markdown",
   "id": "10f82597-1d5b-4cff-bd05-1fe064cef3a2",
   "metadata": {
    "tags": []
   },
   "source": [
    "### CurrentTask, LastTaskCompleted-KNN"
   ]
  },
  {
   "cell_type": "code",
   "execution_count": 3,
   "id": "fb2c6402-a594-49ee-8208-afb95644173c",
   "metadata": {
    "tags": []
   },
   "outputs": [
    {
     "name": "stdout",
     "output_type": "stream",
     "text": [
      "Processed training data with imputed values:\n",
      "  UserID    QuestionTiming              TimeUtc CurrentGameMode  \\\n",
      "0     p1    User Initiated  2022-08-18 22:55:27             NaN   \n",
      "1     p1  System Initiated  2022-08-18 23:38:31             NaN   \n",
      "2     p1    User Initiated  2022-08-18 23:39:24          Career   \n",
      "3     p1  System Initiated  2022-08-18 23:45:01          Career   \n",
      "4     p1  System Initiated  2022-08-18 23:51:22          Career   \n",
      "\n",
      "                 CurrentTask  CurrentSessionLength LastTaskCompleted  \\\n",
      "0                        NaN                     2               NaN   \n",
      "1                        NaN                     0               NaN   \n",
      "2                   HOME_VAN                     1        WASH_PWVan   \n",
      "3  RESIDENTIALSMALL_BACKYARD                     6        WASH_PWVan   \n",
      "4  RESIDENTIALSMALL_BACKYARD                    13        WASH_PWVan   \n",
      "\n",
      "   LevelProgressionAmount QuestionType  ResponseValue  \\\n",
      "0                     NaN    Wellbeing          509.0   \n",
      "1                     NaN    Wellbeing          653.0   \n",
      "2                1.000000    Wellbeing          705.0   \n",
      "3                0.168267    Wellbeing          817.0   \n",
      "4                0.429364    Wellbeing          810.0   \n",
      "\n",
      "   CurrentTask_TargetEncoded  LastTaskCompleted_TargetEncoded  \n",
      "0                       49.0                             51.0  \n",
      "1                       49.0                             51.0  \n",
      "2                       21.0                             32.0  \n",
      "3                       33.0                             32.0  \n",
      "4                       33.0                             32.0  \n"
     ]
    }
   ],
   "source": [
    "from sklearn.impute import KNNImputer\n",
    "\n",
    "train_data = pd.read_csv('train_data_knn_imputed.csv')\n",
    "\n",
    "# Select the two features 'CurrentTask_TargetEncoded' and 'LastTaskCompleted_TargetEncoded'\n",
    "features_to_impute = ['CurrentTask_TargetEncoded', 'LastTaskCompleted_TargetEncoded']\n",
    "\n",
    "# Initialize KNN imputer\n",
    "imputer = KNNImputer(n_neighbors=5)\n",
    "\n",
    "# Impute the missing values\n",
    "imputed_data = imputer.fit_transform(train_data[features_to_impute])\n",
    "\n",
    "# Transfer the filled data back to the DataFrame\n",
    "imputed_df = pd.DataFrame(imputed_data, columns=features_to_impute, index=train_data.index)\n",
    "\n",
    "# Re-assign the filled features back to the original dataset\n",
    "train_data[features_to_impute] = imputed_df[features_to_impute]\n",
    "\n",
    "print(\"Processed training data with imputed values:\")\n",
    "print(train_data.head())\n",
    "\n",
    "# Save the imputed data to a new csv file\n",
    "train_output_file_path = 'train_data_knn_imputed.csv'\n",
    "train_data.to_csv(train_output_file_path, index=False)\n"
   ]
  },
  {
   "cell_type": "markdown",
   "id": "86da5eaf-03ab-4ffa-9ec1-3fd41ee6c16b",
   "metadata": {
    "tags": []
   },
   "source": [
    "### CurrentGameMode-Encoding"
   ]
  },
  {
   "cell_type": "code",
   "execution_count": 4,
   "id": "dd7b6710-b938-4378-9145-f02ce562deff",
   "metadata": {
    "tags": []
   },
   "outputs": [
    {
     "name": "stdout",
     "output_type": "stream",
     "text": [
      "[nan 'Career' 'Special' 'FreePlay' 'Challenge']\n"
     ]
    },
    {
     "data": {
      "text/html": [
       "<div>\n",
       "<style scoped>\n",
       "    .dataframe tbody tr th:only-of-type {\n",
       "        vertical-align: middle;\n",
       "    }\n",
       "\n",
       "    .dataframe tbody tr th {\n",
       "        vertical-align: top;\n",
       "    }\n",
       "\n",
       "    .dataframe thead th {\n",
       "        text-align: right;\n",
       "    }\n",
       "</style>\n",
       "<table border=\"1\" class=\"dataframe\">\n",
       "  <thead>\n",
       "    <tr style=\"text-align: right;\">\n",
       "      <th></th>\n",
       "      <th>UserID</th>\n",
       "      <th>QuestionTiming</th>\n",
       "      <th>TimeUtc</th>\n",
       "      <th>CurrentGameMode</th>\n",
       "      <th>CurrentTask</th>\n",
       "      <th>CurrentSessionLength</th>\n",
       "      <th>LastTaskCompleted</th>\n",
       "      <th>LevelProgressionAmount</th>\n",
       "      <th>QuestionType</th>\n",
       "      <th>ResponseValue</th>\n",
       "      <th>CurrentTask_TargetEncoded</th>\n",
       "      <th>LastTaskCompleted_TargetEncoded</th>\n",
       "      <th>CurrentGameMode_LabelEncoded</th>\n",
       "    </tr>\n",
       "  </thead>\n",
       "  <tbody>\n",
       "    <tr>\n",
       "      <th>0</th>\n",
       "      <td>p1</td>\n",
       "      <td>User Initiated</td>\n",
       "      <td>2022-08-18 22:55:27</td>\n",
       "      <td>NaN</td>\n",
       "      <td>NaN</td>\n",
       "      <td>2</td>\n",
       "      <td>NaN</td>\n",
       "      <td>NaN</td>\n",
       "      <td>Wellbeing</td>\n",
       "      <td>509.0</td>\n",
       "      <td>49.0</td>\n",
       "      <td>51.0</td>\n",
       "      <td>4</td>\n",
       "    </tr>\n",
       "    <tr>\n",
       "      <th>1</th>\n",
       "      <td>p1</td>\n",
       "      <td>System Initiated</td>\n",
       "      <td>2022-08-18 23:38:31</td>\n",
       "      <td>NaN</td>\n",
       "      <td>NaN</td>\n",
       "      <td>0</td>\n",
       "      <td>NaN</td>\n",
       "      <td>NaN</td>\n",
       "      <td>Wellbeing</td>\n",
       "      <td>653.0</td>\n",
       "      <td>49.0</td>\n",
       "      <td>51.0</td>\n",
       "      <td>4</td>\n",
       "    </tr>\n",
       "    <tr>\n",
       "      <th>2</th>\n",
       "      <td>p1</td>\n",
       "      <td>User Initiated</td>\n",
       "      <td>2022-08-18 23:39:24</td>\n",
       "      <td>Career</td>\n",
       "      <td>HOME_VAN</td>\n",
       "      <td>1</td>\n",
       "      <td>WASH_PWVan</td>\n",
       "      <td>1.000000</td>\n",
       "      <td>Wellbeing</td>\n",
       "      <td>705.0</td>\n",
       "      <td>21.0</td>\n",
       "      <td>32.0</td>\n",
       "      <td>0</td>\n",
       "    </tr>\n",
       "    <tr>\n",
       "      <th>3</th>\n",
       "      <td>p1</td>\n",
       "      <td>System Initiated</td>\n",
       "      <td>2022-08-18 23:45:01</td>\n",
       "      <td>Career</td>\n",
       "      <td>RESIDENTIALSMALL_BACKYARD</td>\n",
       "      <td>6</td>\n",
       "      <td>WASH_PWVan</td>\n",
       "      <td>0.168267</td>\n",
       "      <td>Wellbeing</td>\n",
       "      <td>817.0</td>\n",
       "      <td>33.0</td>\n",
       "      <td>32.0</td>\n",
       "      <td>0</td>\n",
       "    </tr>\n",
       "    <tr>\n",
       "      <th>4</th>\n",
       "      <td>p1</td>\n",
       "      <td>System Initiated</td>\n",
       "      <td>2022-08-18 23:51:22</td>\n",
       "      <td>Career</td>\n",
       "      <td>RESIDENTIALSMALL_BACKYARD</td>\n",
       "      <td>13</td>\n",
       "      <td>WASH_PWVan</td>\n",
       "      <td>0.429364</td>\n",
       "      <td>Wellbeing</td>\n",
       "      <td>810.0</td>\n",
       "      <td>33.0</td>\n",
       "      <td>32.0</td>\n",
       "      <td>0</td>\n",
       "    </tr>\n",
       "  </tbody>\n",
       "</table>\n",
       "</div>"
      ],
      "text/plain": [
       "  UserID    QuestionTiming              TimeUtc CurrentGameMode  \\\n",
       "0     p1    User Initiated  2022-08-18 22:55:27             NaN   \n",
       "1     p1  System Initiated  2022-08-18 23:38:31             NaN   \n",
       "2     p1    User Initiated  2022-08-18 23:39:24          Career   \n",
       "3     p1  System Initiated  2022-08-18 23:45:01          Career   \n",
       "4     p1  System Initiated  2022-08-18 23:51:22          Career   \n",
       "\n",
       "                 CurrentTask  CurrentSessionLength LastTaskCompleted  \\\n",
       "0                        NaN                     2               NaN   \n",
       "1                        NaN                     0               NaN   \n",
       "2                   HOME_VAN                     1        WASH_PWVan   \n",
       "3  RESIDENTIALSMALL_BACKYARD                     6        WASH_PWVan   \n",
       "4  RESIDENTIALSMALL_BACKYARD                    13        WASH_PWVan   \n",
       "\n",
       "   LevelProgressionAmount QuestionType  ResponseValue  \\\n",
       "0                     NaN    Wellbeing          509.0   \n",
       "1                     NaN    Wellbeing          653.0   \n",
       "2                1.000000    Wellbeing          705.0   \n",
       "3                0.168267    Wellbeing          817.0   \n",
       "4                0.429364    Wellbeing          810.0   \n",
       "\n",
       "   CurrentTask_TargetEncoded  LastTaskCompleted_TargetEncoded  \\\n",
       "0                       49.0                             51.0   \n",
       "1                       49.0                             51.0   \n",
       "2                       21.0                             32.0   \n",
       "3                       33.0                             32.0   \n",
       "4                       33.0                             32.0   \n",
       "\n",
       "   CurrentGameMode_LabelEncoded  \n",
       "0                             4  \n",
       "1                             4  \n",
       "2                             0  \n",
       "3                             0  \n",
       "4                             0  "
      ]
     },
     "execution_count": 4,
     "metadata": {},
     "output_type": "execute_result"
    }
   ],
   "source": [
    "from sklearn.preprocessing import LabelEncoder\n",
    "\n",
    "# load the data\n",
    "train_data = pd.read_csv('train_data_knn_imputed.csv')\n",
    "print(train_data['CurrentGameMode'].unique())\n",
    "\n",
    "# Initialize LabelEncoder\n",
    "le = LabelEncoder()\n",
    "\n",
    "# Encoding 'CurrentGameMode' using Label Encoding\n",
    "train_data['CurrentGameMode_LabelEncoded'] = le.fit_transform(train_data['CurrentGameMode'])\n",
    "\n",
    "train_data.head()\n"
   ]
  },
  {
   "cell_type": "markdown",
   "id": "709ef0c3-f045-46fd-b200-be215f05e68b",
   "metadata": {
    "tags": []
   },
   "source": [
    "### CurrentGameMode-KNN"
   ]
  },
  {
   "cell_type": "code",
   "execution_count": 5,
   "id": "2b5b86f1-55ef-4c5f-b5e4-546e0c8f8046",
   "metadata": {
    "tags": []
   },
   "outputs": [
    {
     "name": "stdout",
     "output_type": "stream",
     "text": [
      "Processed training data with imputed CurrentGameMode:\n",
      "  UserID    QuestionTiming              TimeUtc CurrentGameMode  \\\n",
      "0     p1    User Initiated  2022-08-18 22:55:27             NaN   \n",
      "1     p1  System Initiated  2022-08-18 23:38:31             NaN   \n",
      "2     p1    User Initiated  2022-08-18 23:39:24          Career   \n",
      "3     p1  System Initiated  2022-08-18 23:45:01          Career   \n",
      "4     p1  System Initiated  2022-08-18 23:51:22          Career   \n",
      "\n",
      "                 CurrentTask  CurrentSessionLength LastTaskCompleted  \\\n",
      "0                        NaN                     2               NaN   \n",
      "1                        NaN                     0               NaN   \n",
      "2                   HOME_VAN                     1        WASH_PWVan   \n",
      "3  RESIDENTIALSMALL_BACKYARD                     6        WASH_PWVan   \n",
      "4  RESIDENTIALSMALL_BACKYARD                    13        WASH_PWVan   \n",
      "\n",
      "   LevelProgressionAmount QuestionType  ResponseValue  \\\n",
      "0                     NaN    Wellbeing          509.0   \n",
      "1                     NaN    Wellbeing          653.0   \n",
      "2                1.000000    Wellbeing          705.0   \n",
      "3                0.168267    Wellbeing          817.0   \n",
      "4                0.429364    Wellbeing          810.0   \n",
      "\n",
      "   CurrentTask_TargetEncoded  LastTaskCompleted_TargetEncoded  \\\n",
      "0                       49.0                             51.0   \n",
      "1                       49.0                             51.0   \n",
      "2                       21.0                             32.0   \n",
      "3                       33.0                             32.0   \n",
      "4                       33.0                             32.0   \n",
      "\n",
      "   CurrentGameMode_LabelEncoded  \n",
      "0                           4.0  \n",
      "1                           4.0  \n",
      "2                           0.0  \n",
      "3                           0.0  \n",
      "4                           0.0  \n"
     ]
    }
   ],
   "source": [
    "# Initialize KNN Imputer\n",
    "imputer = KNNImputer(n_neighbors=5)\n",
    "\n",
    "# Select feature 'CurrentGameMode_LabelEncoded' to be imputed\n",
    "features_to_impute = ['CurrentGameMode_LabelEncoded', 'CurrentTask_TargetEncoded']\n",
    "\n",
    "# Impute the missing values\n",
    "imputed_data = imputer.fit_transform(train_data[features_to_impute])\n",
    "\n",
    "# Transfer the filled data back to the DataFrame\n",
    "imputed_df = pd.DataFrame(imputed_data, columns=features_to_impute, index=train_data.index)\n",
    "\n",
    "# Re-new the original 'CurrentGameMode_LabelEncoded' data \n",
    "train_data['CurrentGameMode_LabelEncoded'] = imputed_df['CurrentGameMode_LabelEncoded']\n",
    "\n",
    "print(\"Processed training data with imputed CurrentGameMode:\")\n",
    "print(train_data.head())\n",
    "\n",
    "# Save and renew the file\n",
    "train_output_file_path = 'train_data_knn_imputed.csv'\n",
    "train_data.to_csv(train_output_file_path, index=False)"
   ]
  },
  {
   "cell_type": "markdown",
   "id": "d8b67935-9f94-44ff-9703-a9a2bd6ec8e7",
   "metadata": {
    "tags": []
   },
   "source": [
    "### TimeUtc-Convert Format"
   ]
  },
  {
   "cell_type": "code",
   "execution_count": 6,
   "id": "9bff60a9-76ef-41f5-b135-7c9427b6fa6e",
   "metadata": {
    "tags": []
   },
   "outputs": [
    {
     "data": {
      "text/html": [
       "<div>\n",
       "<style scoped>\n",
       "    .dataframe tbody tr th:only-of-type {\n",
       "        vertical-align: middle;\n",
       "    }\n",
       "\n",
       "    .dataframe tbody tr th {\n",
       "        vertical-align: top;\n",
       "    }\n",
       "\n",
       "    .dataframe thead th {\n",
       "        text-align: right;\n",
       "    }\n",
       "</style>\n",
       "<table border=\"1\" class=\"dataframe\">\n",
       "  <thead>\n",
       "    <tr style=\"text-align: right;\">\n",
       "      <th></th>\n",
       "      <th>UserID</th>\n",
       "      <th>QuestionTiming</th>\n",
       "      <th>CurrentGameMode</th>\n",
       "      <th>CurrentTask</th>\n",
       "      <th>CurrentSessionLength</th>\n",
       "      <th>LastTaskCompleted</th>\n",
       "      <th>LevelProgressionAmount</th>\n",
       "      <th>QuestionType</th>\n",
       "      <th>ResponseValue</th>\n",
       "      <th>CurrentTask_TargetEncoded</th>\n",
       "      <th>...</th>\n",
       "      <th>CurrentGameMode_LabelEncoded</th>\n",
       "      <th>Year</th>\n",
       "      <th>Month</th>\n",
       "      <th>Day</th>\n",
       "      <th>Hour</th>\n",
       "      <th>Minute</th>\n",
       "      <th>Second</th>\n",
       "      <th>Weekday</th>\n",
       "      <th>WeekendFlag</th>\n",
       "      <th>PeriodOfDay</th>\n",
       "    </tr>\n",
       "  </thead>\n",
       "  <tbody>\n",
       "    <tr>\n",
       "      <th>0</th>\n",
       "      <td>p1</td>\n",
       "      <td>User Initiated</td>\n",
       "      <td>NaN</td>\n",
       "      <td>NaN</td>\n",
       "      <td>2</td>\n",
       "      <td>NaN</td>\n",
       "      <td>NaN</td>\n",
       "      <td>Wellbeing</td>\n",
       "      <td>509.0</td>\n",
       "      <td>49.0</td>\n",
       "      <td>...</td>\n",
       "      <td>4.0</td>\n",
       "      <td>2022</td>\n",
       "      <td>8</td>\n",
       "      <td>18</td>\n",
       "      <td>22</td>\n",
       "      <td>55</td>\n",
       "      <td>27</td>\n",
       "      <td>3</td>\n",
       "      <td>0</td>\n",
       "      <td>Evening</td>\n",
       "    </tr>\n",
       "    <tr>\n",
       "      <th>1</th>\n",
       "      <td>p1</td>\n",
       "      <td>System Initiated</td>\n",
       "      <td>NaN</td>\n",
       "      <td>NaN</td>\n",
       "      <td>0</td>\n",
       "      <td>NaN</td>\n",
       "      <td>NaN</td>\n",
       "      <td>Wellbeing</td>\n",
       "      <td>653.0</td>\n",
       "      <td>49.0</td>\n",
       "      <td>...</td>\n",
       "      <td>4.0</td>\n",
       "      <td>2022</td>\n",
       "      <td>8</td>\n",
       "      <td>18</td>\n",
       "      <td>23</td>\n",
       "      <td>38</td>\n",
       "      <td>31</td>\n",
       "      <td>3</td>\n",
       "      <td>0</td>\n",
       "      <td>Evening</td>\n",
       "    </tr>\n",
       "    <tr>\n",
       "      <th>2</th>\n",
       "      <td>p1</td>\n",
       "      <td>User Initiated</td>\n",
       "      <td>Career</td>\n",
       "      <td>HOME_VAN</td>\n",
       "      <td>1</td>\n",
       "      <td>WASH_PWVan</td>\n",
       "      <td>1.000000</td>\n",
       "      <td>Wellbeing</td>\n",
       "      <td>705.0</td>\n",
       "      <td>21.0</td>\n",
       "      <td>...</td>\n",
       "      <td>0.0</td>\n",
       "      <td>2022</td>\n",
       "      <td>8</td>\n",
       "      <td>18</td>\n",
       "      <td>23</td>\n",
       "      <td>39</td>\n",
       "      <td>24</td>\n",
       "      <td>3</td>\n",
       "      <td>0</td>\n",
       "      <td>Evening</td>\n",
       "    </tr>\n",
       "    <tr>\n",
       "      <th>3</th>\n",
       "      <td>p1</td>\n",
       "      <td>System Initiated</td>\n",
       "      <td>Career</td>\n",
       "      <td>RESIDENTIALSMALL_BACKYARD</td>\n",
       "      <td>6</td>\n",
       "      <td>WASH_PWVan</td>\n",
       "      <td>0.168267</td>\n",
       "      <td>Wellbeing</td>\n",
       "      <td>817.0</td>\n",
       "      <td>33.0</td>\n",
       "      <td>...</td>\n",
       "      <td>0.0</td>\n",
       "      <td>2022</td>\n",
       "      <td>8</td>\n",
       "      <td>18</td>\n",
       "      <td>23</td>\n",
       "      <td>45</td>\n",
       "      <td>1</td>\n",
       "      <td>3</td>\n",
       "      <td>0</td>\n",
       "      <td>Evening</td>\n",
       "    </tr>\n",
       "    <tr>\n",
       "      <th>4</th>\n",
       "      <td>p1</td>\n",
       "      <td>System Initiated</td>\n",
       "      <td>Career</td>\n",
       "      <td>RESIDENTIALSMALL_BACKYARD</td>\n",
       "      <td>13</td>\n",
       "      <td>WASH_PWVan</td>\n",
       "      <td>0.429364</td>\n",
       "      <td>Wellbeing</td>\n",
       "      <td>810.0</td>\n",
       "      <td>33.0</td>\n",
       "      <td>...</td>\n",
       "      <td>0.0</td>\n",
       "      <td>2022</td>\n",
       "      <td>8</td>\n",
       "      <td>18</td>\n",
       "      <td>23</td>\n",
       "      <td>51</td>\n",
       "      <td>22</td>\n",
       "      <td>3</td>\n",
       "      <td>0</td>\n",
       "      <td>Evening</td>\n",
       "    </tr>\n",
       "  </tbody>\n",
       "</table>\n",
       "<p>5 rows × 21 columns</p>\n",
       "</div>"
      ],
      "text/plain": [
       "  UserID    QuestionTiming CurrentGameMode                CurrentTask  \\\n",
       "0     p1    User Initiated             NaN                        NaN   \n",
       "1     p1  System Initiated             NaN                        NaN   \n",
       "2     p1    User Initiated          Career                   HOME_VAN   \n",
       "3     p1  System Initiated          Career  RESIDENTIALSMALL_BACKYARD   \n",
       "4     p1  System Initiated          Career  RESIDENTIALSMALL_BACKYARD   \n",
       "\n",
       "   CurrentSessionLength LastTaskCompleted  LevelProgressionAmount  \\\n",
       "0                     2               NaN                     NaN   \n",
       "1                     0               NaN                     NaN   \n",
       "2                     1        WASH_PWVan                1.000000   \n",
       "3                     6        WASH_PWVan                0.168267   \n",
       "4                    13        WASH_PWVan                0.429364   \n",
       "\n",
       "  QuestionType  ResponseValue  CurrentTask_TargetEncoded  ...  \\\n",
       "0    Wellbeing          509.0                       49.0  ...   \n",
       "1    Wellbeing          653.0                       49.0  ...   \n",
       "2    Wellbeing          705.0                       21.0  ...   \n",
       "3    Wellbeing          817.0                       33.0  ...   \n",
       "4    Wellbeing          810.0                       33.0  ...   \n",
       "\n",
       "   CurrentGameMode_LabelEncoded  Year  Month  Day  Hour  Minute  Second  \\\n",
       "0                           4.0  2022      8   18    22      55      27   \n",
       "1                           4.0  2022      8   18    23      38      31   \n",
       "2                           0.0  2022      8   18    23      39      24   \n",
       "3                           0.0  2022      8   18    23      45       1   \n",
       "4                           0.0  2022      8   18    23      51      22   \n",
       "\n",
       "   Weekday  WeekendFlag  PeriodOfDay  \n",
       "0        3            0      Evening  \n",
       "1        3            0      Evening  \n",
       "2        3            0      Evening  \n",
       "3        3            0      Evening  \n",
       "4        3            0      Evening  \n",
       "\n",
       "[5 rows x 21 columns]"
      ]
     },
     "execution_count": 6,
     "metadata": {},
     "output_type": "execute_result"
    }
   ],
   "source": [
    "train_data = pd.read_csv(\"train_data_knn_imputed.csv\")\n",
    "\n",
    "# Ensure TimeUtc is a datetime type\n",
    "train_data['TimeUtc'] = pd.to_datetime(train_data['TimeUtc'])\n",
    "\n",
    "# Extract components\n",
    "train_data['Year'] = train_data['TimeUtc'].dt.year\n",
    "train_data['Month'] = train_data['TimeUtc'].dt.month\n",
    "train_data['Day'] = train_data['TimeUtc'].dt.day\n",
    "train_data['Hour'] = train_data['TimeUtc'].dt.hour\n",
    "train_data['Minute'] = train_data['TimeUtc'].dt.minute\n",
    "train_data['Second'] = train_data['TimeUtc'].dt.second\n",
    "\n",
    "# Separate weekday and weekend days\n",
    "train_data['Weekday'] = train_data['TimeUtc'].dt.dayofweek\n",
    "train_data['WeekendFlag'] = (train_data['TimeUtc'].dt.weekday >= 5).astype(int)\n",
    "\n",
    "# Categorize different times of day into periods\n",
    "time_bins = [0, 6, 12, 18, 24]  # Define time_bins as 0-6, 6-12, 12-18, 18-24\n",
    "time_labels = ['Night', 'Morning', 'Afternoon', 'Evening']\n",
    "train_data['PeriodOfDay'] = pd.cut(train_data['TimeUtc'].dt.hour, bins=time_bins, labels=time_labels, right=False)\n",
    "\n",
    "# Remove the original Timestamp column to avoid redundancy\n",
    "train_data.drop('TimeUtc', axis=1, inplace=True)\n",
    "\n",
    "train_data.head()"
   ]
  },
  {
   "cell_type": "markdown",
   "id": "23dec67d-b3bf-4268-90dc-17fc9b4c3d5f",
   "metadata": {
    "tags": []
   },
   "source": [
    "### TimeUtc-Encoding"
   ]
  },
  {
   "cell_type": "code",
   "execution_count": 7,
   "id": "e2156d07-c6aa-45a5-913a-cab3f43eaa46",
   "metadata": {
    "tags": []
   },
   "outputs": [
    {
     "data": {
      "text/html": [
       "<div>\n",
       "<style scoped>\n",
       "    .dataframe tbody tr th:only-of-type {\n",
       "        vertical-align: middle;\n",
       "    }\n",
       "\n",
       "    .dataframe tbody tr th {\n",
       "        vertical-align: top;\n",
       "    }\n",
       "\n",
       "    .dataframe thead th {\n",
       "        text-align: right;\n",
       "    }\n",
       "</style>\n",
       "<table border=\"1\" class=\"dataframe\">\n",
       "  <thead>\n",
       "    <tr style=\"text-align: right;\">\n",
       "      <th></th>\n",
       "      <th>UserID</th>\n",
       "      <th>QuestionTiming</th>\n",
       "      <th>CurrentGameMode</th>\n",
       "      <th>CurrentTask</th>\n",
       "      <th>CurrentSessionLength</th>\n",
       "      <th>LastTaskCompleted</th>\n",
       "      <th>LevelProgressionAmount</th>\n",
       "      <th>QuestionType</th>\n",
       "      <th>ResponseValue</th>\n",
       "      <th>CurrentTask_TargetEncoded</th>\n",
       "      <th>...</th>\n",
       "      <th>Day</th>\n",
       "      <th>Hour</th>\n",
       "      <th>Minute</th>\n",
       "      <th>Second</th>\n",
       "      <th>Weekday</th>\n",
       "      <th>WeekendFlag</th>\n",
       "      <th>PeriodOfDay_Night</th>\n",
       "      <th>PeriodOfDay_Morning</th>\n",
       "      <th>PeriodOfDay_Afternoon</th>\n",
       "      <th>PeriodOfDay_Evening</th>\n",
       "    </tr>\n",
       "  </thead>\n",
       "  <tbody>\n",
       "    <tr>\n",
       "      <th>0</th>\n",
       "      <td>p1</td>\n",
       "      <td>User Initiated</td>\n",
       "      <td>NaN</td>\n",
       "      <td>NaN</td>\n",
       "      <td>2</td>\n",
       "      <td>NaN</td>\n",
       "      <td>NaN</td>\n",
       "      <td>Wellbeing</td>\n",
       "      <td>509.0</td>\n",
       "      <td>49.0</td>\n",
       "      <td>...</td>\n",
       "      <td>18</td>\n",
       "      <td>22</td>\n",
       "      <td>55</td>\n",
       "      <td>27</td>\n",
       "      <td>3</td>\n",
       "      <td>0</td>\n",
       "      <td>False</td>\n",
       "      <td>False</td>\n",
       "      <td>False</td>\n",
       "      <td>True</td>\n",
       "    </tr>\n",
       "    <tr>\n",
       "      <th>1</th>\n",
       "      <td>p1</td>\n",
       "      <td>System Initiated</td>\n",
       "      <td>NaN</td>\n",
       "      <td>NaN</td>\n",
       "      <td>0</td>\n",
       "      <td>NaN</td>\n",
       "      <td>NaN</td>\n",
       "      <td>Wellbeing</td>\n",
       "      <td>653.0</td>\n",
       "      <td>49.0</td>\n",
       "      <td>...</td>\n",
       "      <td>18</td>\n",
       "      <td>23</td>\n",
       "      <td>38</td>\n",
       "      <td>31</td>\n",
       "      <td>3</td>\n",
       "      <td>0</td>\n",
       "      <td>False</td>\n",
       "      <td>False</td>\n",
       "      <td>False</td>\n",
       "      <td>True</td>\n",
       "    </tr>\n",
       "    <tr>\n",
       "      <th>2</th>\n",
       "      <td>p1</td>\n",
       "      <td>User Initiated</td>\n",
       "      <td>Career</td>\n",
       "      <td>HOME_VAN</td>\n",
       "      <td>1</td>\n",
       "      <td>WASH_PWVan</td>\n",
       "      <td>1.000000</td>\n",
       "      <td>Wellbeing</td>\n",
       "      <td>705.0</td>\n",
       "      <td>21.0</td>\n",
       "      <td>...</td>\n",
       "      <td>18</td>\n",
       "      <td>23</td>\n",
       "      <td>39</td>\n",
       "      <td>24</td>\n",
       "      <td>3</td>\n",
       "      <td>0</td>\n",
       "      <td>False</td>\n",
       "      <td>False</td>\n",
       "      <td>False</td>\n",
       "      <td>True</td>\n",
       "    </tr>\n",
       "    <tr>\n",
       "      <th>3</th>\n",
       "      <td>p1</td>\n",
       "      <td>System Initiated</td>\n",
       "      <td>Career</td>\n",
       "      <td>RESIDENTIALSMALL_BACKYARD</td>\n",
       "      <td>6</td>\n",
       "      <td>WASH_PWVan</td>\n",
       "      <td>0.168267</td>\n",
       "      <td>Wellbeing</td>\n",
       "      <td>817.0</td>\n",
       "      <td>33.0</td>\n",
       "      <td>...</td>\n",
       "      <td>18</td>\n",
       "      <td>23</td>\n",
       "      <td>45</td>\n",
       "      <td>1</td>\n",
       "      <td>3</td>\n",
       "      <td>0</td>\n",
       "      <td>False</td>\n",
       "      <td>False</td>\n",
       "      <td>False</td>\n",
       "      <td>True</td>\n",
       "    </tr>\n",
       "    <tr>\n",
       "      <th>4</th>\n",
       "      <td>p1</td>\n",
       "      <td>System Initiated</td>\n",
       "      <td>Career</td>\n",
       "      <td>RESIDENTIALSMALL_BACKYARD</td>\n",
       "      <td>13</td>\n",
       "      <td>WASH_PWVan</td>\n",
       "      <td>0.429364</td>\n",
       "      <td>Wellbeing</td>\n",
       "      <td>810.0</td>\n",
       "      <td>33.0</td>\n",
       "      <td>...</td>\n",
       "      <td>18</td>\n",
       "      <td>23</td>\n",
       "      <td>51</td>\n",
       "      <td>22</td>\n",
       "      <td>3</td>\n",
       "      <td>0</td>\n",
       "      <td>False</td>\n",
       "      <td>False</td>\n",
       "      <td>False</td>\n",
       "      <td>True</td>\n",
       "    </tr>\n",
       "  </tbody>\n",
       "</table>\n",
       "<p>5 rows × 24 columns</p>\n",
       "</div>"
      ],
      "text/plain": [
       "  UserID    QuestionTiming CurrentGameMode                CurrentTask  \\\n",
       "0     p1    User Initiated             NaN                        NaN   \n",
       "1     p1  System Initiated             NaN                        NaN   \n",
       "2     p1    User Initiated          Career                   HOME_VAN   \n",
       "3     p1  System Initiated          Career  RESIDENTIALSMALL_BACKYARD   \n",
       "4     p1  System Initiated          Career  RESIDENTIALSMALL_BACKYARD   \n",
       "\n",
       "   CurrentSessionLength LastTaskCompleted  LevelProgressionAmount  \\\n",
       "0                     2               NaN                     NaN   \n",
       "1                     0               NaN                     NaN   \n",
       "2                     1        WASH_PWVan                1.000000   \n",
       "3                     6        WASH_PWVan                0.168267   \n",
       "4                    13        WASH_PWVan                0.429364   \n",
       "\n",
       "  QuestionType  ResponseValue  CurrentTask_TargetEncoded  ...  Day  Hour  \\\n",
       "0    Wellbeing          509.0                       49.0  ...   18    22   \n",
       "1    Wellbeing          653.0                       49.0  ...   18    23   \n",
       "2    Wellbeing          705.0                       21.0  ...   18    23   \n",
       "3    Wellbeing          817.0                       33.0  ...   18    23   \n",
       "4    Wellbeing          810.0                       33.0  ...   18    23   \n",
       "\n",
       "   Minute  Second  Weekday  WeekendFlag  PeriodOfDay_Night  \\\n",
       "0      55      27        3            0              False   \n",
       "1      38      31        3            0              False   \n",
       "2      39      24        3            0              False   \n",
       "3      45       1        3            0              False   \n",
       "4      51      22        3            0              False   \n",
       "\n",
       "   PeriodOfDay_Morning  PeriodOfDay_Afternoon  PeriodOfDay_Evening  \n",
       "0                False                  False                 True  \n",
       "1                False                  False                 True  \n",
       "2                False                  False                 True  \n",
       "3                False                  False                 True  \n",
       "4                False                  False                 True  \n",
       "\n",
       "[5 rows x 24 columns]"
      ]
     },
     "execution_count": 7,
     "metadata": {},
     "output_type": "execute_result"
    }
   ],
   "source": [
    "#encoding for TimeOfDay.\n",
    "train_data = pd.get_dummies(train_data, columns=['PeriodOfDay'], drop_first=False)\n",
    "\n",
    "train_data.head()"
   ]
  },
  {
   "cell_type": "code",
   "execution_count": 8,
   "id": "1b5b0509-3cda-48bb-9ab1-71e0760fb37a",
   "metadata": {
    "tags": []
   },
   "outputs": [],
   "source": [
    "# Save the transformation and encoding for 'TimeUtc' to the 'train_data_knn_imputed.csv' \n",
    "train_output_file_path = 'train_data_knn_imputed.csv'\n",
    "train_data.to_csv(train_output_file_path, index=False)"
   ]
  },
  {
   "cell_type": "markdown",
   "id": "287f76b1-405e-4f3b-acfc-d71d5345b67e",
   "metadata": {
    "tags": []
   },
   "source": [
    "### LevelProgressionAmount-KNN"
   ]
  },
  {
   "cell_type": "code",
   "execution_count": 9,
   "id": "09a478e4-c476-487f-8011-e6bd6b999381",
   "metadata": {
    "tags": []
   },
   "outputs": [
    {
     "name": "stdout",
     "output_type": "stream",
     "text": [
      "Successfully encoded and performed KNN imputation on LevelProgressionAmount. The result has been saved back to the original file train_data_knn_imputed.csv\n"
     ]
    }
   ],
   "source": [
    "import pandas as pd\n",
    "from sklearn.impute import KNNImputer\n",
    "from sklearn.preprocessing import StandardScaler, LabelEncoder\n",
    "\n",
    "# Read the CSV file\n",
    "file_path = 'train_data_knn_imputed.csv'\n",
    "df = pd.read_csv(file_path)\n",
    "\n",
    "# Select the column to encode and impute\n",
    "column_to_encode_and_impute = 'LevelProgressionAmount'\n",
    "\n",
    "# Encode the column\n",
    "label_encoder = LabelEncoder()\n",
    "df[column_to_encode_and_impute] = label_encoder.fit_transform(df[column_to_encode_and_impute].astype(str))\n",
    "\n",
    "# Create KNNImputer instance\n",
    "imputer = KNNImputer(n_neighbors=5)\n",
    "\n",
    "# Perform KNN imputation on the selected column\n",
    "df[[column_to_encode_and_impute]] = imputer.fit_transform(df[[column_to_encode_and_impute]])\n",
    "\n",
    "# Standardize the imputed column\n",
    "scaler = StandardScaler()\n",
    "df[[column_to_encode_and_impute]] = scaler.fit_transform(df[[column_to_encode_and_impute]])\n",
    "\n",
    "# Save the modified data back to the original file\n",
    "df.to_csv(file_path, index=False)\n",
    "\n",
    "print(f'Successfully encoded and performed KNN imputation on {column_to_encode_and_impute}. The result has been saved back to the original file {file_path}')\n"
   ]
  },
  {
   "cell_type": "markdown",
   "id": "147667a2-13c5-4c1c-80c5-946f85080643",
   "metadata": {
    "tags": []
   },
   "source": [
    "### QuestionTiming-Dummy"
   ]
  },
  {
   "cell_type": "code",
   "execution_count": 10,
   "id": "231d75c8-277d-44b9-b7f7-53b080175eb4",
   "metadata": {
    "tags": []
   },
   "outputs": [
    {
     "name": "stdout",
     "output_type": "stream",
     "text": [
      "train_data_knn_imputed.csv\n"
     ]
    }
   ],
   "source": [
    "import pandas as pd\n",
    "\n",
    "file_path = 'train_data_knn_imputed.csv'\n",
    "df = pd.read_csv(file_path)\n",
    "\n",
    "df_encoded = pd.get_dummies(df, columns=['QuestionTiming'])\n",
    "\n",
    "df_encoded.to_csv(file_path, index=False)\n",
    "\n",
    "print(f'{file_path}')\n"
   ]
  },
  {
   "cell_type": "markdown",
   "id": "3de9be87-2a67-459e-bfef-88a5cd222846",
   "metadata": {},
   "source": [
    "### Mapping UserID with ResponseValue"
   ]
  },
  {
   "cell_type": "code",
   "execution_count": 11,
   "id": "49a753ad-716b-4e6f-9651-a3a88c32b005",
   "metadata": {
    "tags": []
   },
   "outputs": [
    {
     "name": "stdout",
     "output_type": "stream",
     "text": [
      "Successfully updated UserAvgResponse and saved the data back to the file train_data_knn_imputed.csv\n"
     ]
    }
   ],
   "source": [
    "file_path = 'train_data_knn_imputed.csv'\n",
    "df = pd.read_csv(file_path)\n",
    "\n",
    "# average responsevalue per user\n",
    "user_means = df.groupby('UserID')['ResponseValue'].mean()\n",
    "\n",
    "# overall average responsevalue\n",
    "global_mean = df['ResponseValue'].mean()\n",
    "\n",
    "# Creating new feature using average responsevalue per user\n",
    "df['UserAvgResponse'] = df['UserID'].map(user_means)\n",
    "\n",
    "# imputing missing value\n",
    "df['UserAvgResponse'].fillna(global_mean, inplace=True)\n",
    "\n",
    "# save new feature to file\n",
    "df.to_csv(file_path, index=False)\n",
    "\n",
    "print(f'Successfully updated UserAvgResponse and saved the data back to the file {file_path}')"
   ]
  },
  {
   "cell_type": "markdown",
   "id": "18d48f25-b981-4a87-bf50-4b0934df0627",
   "metadata": {
    "jp-MarkdownHeadingCollapsed": true,
    "tags": []
   },
   "source": [
    "## Test_data"
   ]
  },
  {
   "cell_type": "code",
   "execution_count": 12,
   "id": "850d958c-5ebc-4661-9c70-38d01cee8b01",
   "metadata": {
    "tags": []
   },
   "outputs": [],
   "source": [
    "test_data= pd.read_csv('data/test_data.csv')"
   ]
  },
  {
   "cell_type": "markdown",
   "id": "deb80caf-6450-4754-a38a-f1486ec10954",
   "metadata": {
    "tags": []
   },
   "source": [
    "### CurrentTask, LastTaskCompleted-Encoding "
   ]
  },
  {
   "cell_type": "code",
   "execution_count": 13,
   "id": "d00d565e-d4f3-4c7b-a21a-628f187f1dd2",
   "metadata": {
    "tags": []
   },
   "outputs": [],
   "source": [
    "import pandas as pd\n",
    "from sklearn.preprocessing import LabelEncoder\n",
    "\n",
    "test_data_path = 'data/test_data.csv'\n",
    "test_df = pd.read_csv(test_data_path)\n",
    "\n",
    "label_encoder = LabelEncoder()\n",
    "\n",
    "if test_df['CurrentTask'].dtype == 'object':\n",
    "    test_df['CurrentTask_TargetEncoded'] = label_encoder.fit_transform(test_df['CurrentTask'].astype(str))\n",
    "\n",
    "if test_df['LastTaskCompleted'].dtype == 'object':\n",
    "    test_df['LastTaskCompleted_TargetEncoded'] = label_encoder.fit_transform(test_df['LastTaskCompleted'].astype(str))\n",
    "\n",
    "output_file_path = 'test_data_knn_imputed.csv'\n",
    "test_df.to_csv(output_file_path, index=False)\n"
   ]
  },
  {
   "cell_type": "markdown",
   "id": "5fcd3df6-89b2-41aa-9add-426d47e0c013",
   "metadata": {
    "tags": []
   },
   "source": [
    "### CurrentTask, LastTaskCompleted-KNN"
   ]
  },
  {
   "cell_type": "code",
   "execution_count": 14,
   "id": "7bd8d389-a56d-438e-97a3-c80427f68711",
   "metadata": {
    "tags": []
   },
   "outputs": [
    {
     "name": "stdout",
     "output_type": "stream",
     "text": [
      "Processed testing data with imputed values:\n",
      "  UserID    QuestionTiming              TimeUtc CurrentGameMode  \\\n",
      "0     p1  System Initiated  2022-08-28 15:50:22             NaN   \n",
      "1     p1    User Initiated  2022-08-28 16:05:02          Career   \n",
      "2     p1    User Initiated  2022-09-07 03:31:50             NaN   \n",
      "3     p1  System Initiated  2022-09-08 01:30:05             NaN   \n",
      "4     p1  System Initiated  2022-09-08 01:43:45          Career   \n",
      "\n",
      "                  CurrentTask  CurrentSessionLength LastTaskCompleted  \\\n",
      "0                         NaN                     0               NaN   \n",
      "1  RECREATIONGROUND_SKATEPARK                    14               NaN   \n",
      "2                         NaN                     0               NaN   \n",
      "3                         NaN                     0               NaN   \n",
      "4  RECREATIONGROUND_SKATEPARK                    13               NaN   \n",
      "\n",
      "   LevelProgressionAmount QuestionType  CurrentTask_TargetEncoded  \\\n",
      "0                     NaN    Wellbeing                       50.0   \n",
      "1                0.563458    Wellbeing                       32.0   \n",
      "2                     NaN    Wellbeing                       50.0   \n",
      "3                     NaN    Wellbeing                       50.0   \n",
      "4                0.829827    Wellbeing                       32.0   \n",
      "\n",
      "   LastTaskCompleted_TargetEncoded  \n",
      "0                             51.0  \n",
      "1                             51.0  \n",
      "2                             51.0  \n",
      "3                             51.0  \n",
      "4                             51.0  \n"
     ]
    }
   ],
   "source": [
    "from sklearn.impute import KNNImputer\n",
    "\n",
    "test_data = pd.read_csv('test_data_knn_imputed.csv')\n",
    "\n",
    "# Select the two features 'CurrentTask_TargetEncoded' and 'LastTaskCompleted_TargetEncoded'\n",
    "features_to_impute = ['CurrentTask_TargetEncoded', 'LastTaskCompleted_TargetEncoded']\n",
    "\n",
    "# Initialize KNN imputer\n",
    "imputer = KNNImputer(n_neighbors=5)\n",
    "\n",
    "# Impute the missing values\n",
    "imputed_data = imputer.fit_transform(test_data[features_to_impute])\n",
    "\n",
    "# Transfer the filled data back to the DataFrame\n",
    "imputed_df = pd.DataFrame(imputed_data, columns=features_to_impute, index=test_data.index)\n",
    "\n",
    "# Re-assign the filled features back to the original dataset\n",
    "test_data[features_to_impute] = imputed_df[features_to_impute]\n",
    "\n",
    "print(\"Processed testing data with imputed values:\")\n",
    "print(test_data.head())\n",
    "\n",
    "# Save the imputed data to a new csv file\n",
    "test_output_file_path = 'test_data_knn_imputed.csv'\n",
    "test_data.to_csv(test_output_file_path, index=False)"
   ]
  },
  {
   "cell_type": "markdown",
   "id": "01cdd471-de3c-4445-9709-67bb1ab982ce",
   "metadata": {
    "tags": []
   },
   "source": [
    "### CurrentGameMode-Encoding"
   ]
  },
  {
   "cell_type": "code",
   "execution_count": 15,
   "id": "c0ece48c-30f7-48b5-96b7-ad2741e15341",
   "metadata": {
    "tags": []
   },
   "outputs": [
    {
     "name": "stdout",
     "output_type": "stream",
     "text": [
      "[nan 'Career' 'FreePlay' 'Special' 'Challenge']\n"
     ]
    }
   ],
   "source": [
    "from sklearn.preprocessing import LabelEncoder\n",
    "\n",
    "# load the data\n",
    "test_data = pd.read_csv('test_data_knn_imputed.csv')\n",
    "print(test_data['CurrentGameMode'].unique())\n",
    "\n",
    "# Initialize LabelEncoder\n",
    "le = LabelEncoder()\n",
    "\n",
    "# Encoding 'CurrentGameMode' using Label Encoding\n",
    "test_data['CurrentGameMode_LabelEncoded'] = le.fit_transform(test_data['CurrentGameMode'])"
   ]
  },
  {
   "cell_type": "markdown",
   "id": "c0e92a91-f457-487b-aa29-a7a9025a541e",
   "metadata": {
    "tags": []
   },
   "source": [
    "### CurrentGameMode-KNN"
   ]
  },
  {
   "cell_type": "code",
   "execution_count": 16,
   "id": "a6692818-fa64-40eb-954b-12295d089b60",
   "metadata": {
    "tags": []
   },
   "outputs": [
    {
     "name": "stdout",
     "output_type": "stream",
     "text": [
      "Processed testing data with imputed CurrentGameMode:\n",
      "  UserID    QuestionTiming              TimeUtc CurrentGameMode  \\\n",
      "0     p1  System Initiated  2022-08-28 15:50:22             NaN   \n",
      "1     p1    User Initiated  2022-08-28 16:05:02          Career   \n",
      "2     p1    User Initiated  2022-09-07 03:31:50             NaN   \n",
      "3     p1  System Initiated  2022-09-08 01:30:05             NaN   \n",
      "4     p1  System Initiated  2022-09-08 01:43:45          Career   \n",
      "\n",
      "                  CurrentTask  CurrentSessionLength LastTaskCompleted  \\\n",
      "0                         NaN                     0               NaN   \n",
      "1  RECREATIONGROUND_SKATEPARK                    14               NaN   \n",
      "2                         NaN                     0               NaN   \n",
      "3                         NaN                     0               NaN   \n",
      "4  RECREATIONGROUND_SKATEPARK                    13               NaN   \n",
      "\n",
      "   LevelProgressionAmount QuestionType  CurrentTask_TargetEncoded  \\\n",
      "0                     NaN    Wellbeing                       50.0   \n",
      "1                0.563458    Wellbeing                       32.0   \n",
      "2                     NaN    Wellbeing                       50.0   \n",
      "3                     NaN    Wellbeing                       50.0   \n",
      "4                0.829827    Wellbeing                       32.0   \n",
      "\n",
      "   LastTaskCompleted_TargetEncoded  CurrentGameMode_LabelEncoded  \n",
      "0                             51.0                           4.0  \n",
      "1                             51.0                           0.0  \n",
      "2                             51.0                           4.0  \n",
      "3                             51.0                           4.0  \n",
      "4                             51.0                           0.0  \n"
     ]
    }
   ],
   "source": [
    "# Initialize KNN Imputer\n",
    "imputer = KNNImputer(n_neighbors=5)\n",
    "\n",
    "# Select feature 'CurrentGameMode_LabelEncoded' to be imputed\n",
    "features_to_impute = ['CurrentGameMode_LabelEncoded', 'CurrentTask_TargetEncoded']\n",
    "\n",
    "# Impute the missing values\n",
    "imputed_data = imputer.fit_transform(test_data[features_to_impute])\n",
    "\n",
    "# Transfer the filled data back to the DataFrame\n",
    "imputed_df = pd.DataFrame(imputed_data, columns=features_to_impute, index=test_data.index)\n",
    "\n",
    "# Re-new the original 'CurrentGameMode_LabelEncoded' data \n",
    "test_data['CurrentGameMode_LabelEncoded'] = imputed_df['CurrentGameMode_LabelEncoded']\n",
    "\n",
    "print(\"Processed testing data with imputed CurrentGameMode:\")\n",
    "print(test_data.head())\n",
    "\n",
    "# Save and renew the file\n",
    "test_output_file_path = 'test_data_knn_imputed.csv'\n",
    "test_data.to_csv(test_output_file_path, index=False)"
   ]
  },
  {
   "cell_type": "markdown",
   "id": "87a09701-716a-422d-b495-3d12a39a6bb5",
   "metadata": {
    "tags": []
   },
   "source": [
    "### TimeUtc-Convert Format"
   ]
  },
  {
   "cell_type": "code",
   "execution_count": 17,
   "id": "a7c19405-b5d0-4cc4-a5ad-63fbaecc56dd",
   "metadata": {
    "tags": []
   },
   "outputs": [],
   "source": [
    "test_data = pd.read_csv(\"test_data_knn_imputed.csv\")\n",
    "\n",
    "# Ensure TimeUtc is a datetime type\n",
    "test_data['TimeUtc'] = pd.to_datetime(test_data['TimeUtc'])\n",
    "\n",
    "# Extract components\n",
    "test_data['Year'] = test_data['TimeUtc'].dt.year\n",
    "test_data['Month'] = test_data['TimeUtc'].dt.month\n",
    "test_data['Day'] = test_data['TimeUtc'].dt.day\n",
    "test_data['Hour'] = test_data['TimeUtc'].dt.hour\n",
    "test_data['Minute'] = test_data['TimeUtc'].dt.minute\n",
    "test_data['Second'] = test_data['TimeUtc'].dt.second\n",
    "\n",
    "# Separate weekday and weekend days\n",
    "test_data['Weekday'] = test_data['TimeUtc'].dt.dayofweek\n",
    "test_data['WeekendFlag'] = (test_data['TimeUtc'].dt.weekday >= 5).astype(int)\n",
    "\n",
    "# Categorize different times of day into periods\n",
    "time_bins = [0, 6, 12, 18, 24]  # Define time_bins as 0-6, 6-12, 12-18, 18-24\n",
    "time_labels = ['Night', 'Morning', 'Afternoon', 'Evening']\n",
    "test_data['PeriodOfDay'] = pd.cut(test_data['TimeUtc'].dt.hour, bins=time_bins, labels=time_labels, right=False)\n",
    "\n",
    "# Remove the original Timestamp column to avoid redundancy\n",
    "test_data.drop('TimeUtc', axis=1, inplace=True)\n"
   ]
  },
  {
   "cell_type": "markdown",
   "id": "d529985c-d61e-44fb-9744-05654d787e09",
   "metadata": {
    "tags": []
   },
   "source": [
    "### TimeUtc-Encoding"
   ]
  },
  {
   "cell_type": "code",
   "execution_count": 18,
   "id": "a80f8933-126f-4640-be0f-03b8cc9e3386",
   "metadata": {
    "tags": []
   },
   "outputs": [
    {
     "data": {
      "text/html": [
       "<div>\n",
       "<style scoped>\n",
       "    .dataframe tbody tr th:only-of-type {\n",
       "        vertical-align: middle;\n",
       "    }\n",
       "\n",
       "    .dataframe tbody tr th {\n",
       "        vertical-align: top;\n",
       "    }\n",
       "\n",
       "    .dataframe thead th {\n",
       "        text-align: right;\n",
       "    }\n",
       "</style>\n",
       "<table border=\"1\" class=\"dataframe\">\n",
       "  <thead>\n",
       "    <tr style=\"text-align: right;\">\n",
       "      <th></th>\n",
       "      <th>UserID</th>\n",
       "      <th>QuestionTiming</th>\n",
       "      <th>CurrentGameMode</th>\n",
       "      <th>CurrentTask</th>\n",
       "      <th>CurrentSessionLength</th>\n",
       "      <th>LastTaskCompleted</th>\n",
       "      <th>LevelProgressionAmount</th>\n",
       "      <th>QuestionType</th>\n",
       "      <th>CurrentTask_TargetEncoded</th>\n",
       "      <th>LastTaskCompleted_TargetEncoded</th>\n",
       "      <th>...</th>\n",
       "      <th>Day</th>\n",
       "      <th>Hour</th>\n",
       "      <th>Minute</th>\n",
       "      <th>Second</th>\n",
       "      <th>Weekday</th>\n",
       "      <th>WeekendFlag</th>\n",
       "      <th>PeriodOfDay_Night</th>\n",
       "      <th>PeriodOfDay_Morning</th>\n",
       "      <th>PeriodOfDay_Afternoon</th>\n",
       "      <th>PeriodOfDay_Evening</th>\n",
       "    </tr>\n",
       "  </thead>\n",
       "  <tbody>\n",
       "    <tr>\n",
       "      <th>0</th>\n",
       "      <td>p1</td>\n",
       "      <td>System Initiated</td>\n",
       "      <td>NaN</td>\n",
       "      <td>NaN</td>\n",
       "      <td>0</td>\n",
       "      <td>NaN</td>\n",
       "      <td>NaN</td>\n",
       "      <td>Wellbeing</td>\n",
       "      <td>50.0</td>\n",
       "      <td>51.0</td>\n",
       "      <td>...</td>\n",
       "      <td>28</td>\n",
       "      <td>15</td>\n",
       "      <td>50</td>\n",
       "      <td>22</td>\n",
       "      <td>6</td>\n",
       "      <td>1</td>\n",
       "      <td>False</td>\n",
       "      <td>False</td>\n",
       "      <td>True</td>\n",
       "      <td>False</td>\n",
       "    </tr>\n",
       "    <tr>\n",
       "      <th>1</th>\n",
       "      <td>p1</td>\n",
       "      <td>User Initiated</td>\n",
       "      <td>Career</td>\n",
       "      <td>RECREATIONGROUND_SKATEPARK</td>\n",
       "      <td>14</td>\n",
       "      <td>NaN</td>\n",
       "      <td>0.563458</td>\n",
       "      <td>Wellbeing</td>\n",
       "      <td>32.0</td>\n",
       "      <td>51.0</td>\n",
       "      <td>...</td>\n",
       "      <td>28</td>\n",
       "      <td>16</td>\n",
       "      <td>5</td>\n",
       "      <td>2</td>\n",
       "      <td>6</td>\n",
       "      <td>1</td>\n",
       "      <td>False</td>\n",
       "      <td>False</td>\n",
       "      <td>True</td>\n",
       "      <td>False</td>\n",
       "    </tr>\n",
       "    <tr>\n",
       "      <th>2</th>\n",
       "      <td>p1</td>\n",
       "      <td>User Initiated</td>\n",
       "      <td>NaN</td>\n",
       "      <td>NaN</td>\n",
       "      <td>0</td>\n",
       "      <td>NaN</td>\n",
       "      <td>NaN</td>\n",
       "      <td>Wellbeing</td>\n",
       "      <td>50.0</td>\n",
       "      <td>51.0</td>\n",
       "      <td>...</td>\n",
       "      <td>7</td>\n",
       "      <td>3</td>\n",
       "      <td>31</td>\n",
       "      <td>50</td>\n",
       "      <td>2</td>\n",
       "      <td>0</td>\n",
       "      <td>True</td>\n",
       "      <td>False</td>\n",
       "      <td>False</td>\n",
       "      <td>False</td>\n",
       "    </tr>\n",
       "    <tr>\n",
       "      <th>3</th>\n",
       "      <td>p1</td>\n",
       "      <td>System Initiated</td>\n",
       "      <td>NaN</td>\n",
       "      <td>NaN</td>\n",
       "      <td>0</td>\n",
       "      <td>NaN</td>\n",
       "      <td>NaN</td>\n",
       "      <td>Wellbeing</td>\n",
       "      <td>50.0</td>\n",
       "      <td>51.0</td>\n",
       "      <td>...</td>\n",
       "      <td>8</td>\n",
       "      <td>1</td>\n",
       "      <td>30</td>\n",
       "      <td>5</td>\n",
       "      <td>3</td>\n",
       "      <td>0</td>\n",
       "      <td>True</td>\n",
       "      <td>False</td>\n",
       "      <td>False</td>\n",
       "      <td>False</td>\n",
       "    </tr>\n",
       "    <tr>\n",
       "      <th>4</th>\n",
       "      <td>p1</td>\n",
       "      <td>System Initiated</td>\n",
       "      <td>Career</td>\n",
       "      <td>RECREATIONGROUND_SKATEPARK</td>\n",
       "      <td>13</td>\n",
       "      <td>NaN</td>\n",
       "      <td>0.829827</td>\n",
       "      <td>Wellbeing</td>\n",
       "      <td>32.0</td>\n",
       "      <td>51.0</td>\n",
       "      <td>...</td>\n",
       "      <td>8</td>\n",
       "      <td>1</td>\n",
       "      <td>43</td>\n",
       "      <td>45</td>\n",
       "      <td>3</td>\n",
       "      <td>0</td>\n",
       "      <td>True</td>\n",
       "      <td>False</td>\n",
       "      <td>False</td>\n",
       "      <td>False</td>\n",
       "    </tr>\n",
       "  </tbody>\n",
       "</table>\n",
       "<p>5 rows × 23 columns</p>\n",
       "</div>"
      ],
      "text/plain": [
       "  UserID    QuestionTiming CurrentGameMode                 CurrentTask  \\\n",
       "0     p1  System Initiated             NaN                         NaN   \n",
       "1     p1    User Initiated          Career  RECREATIONGROUND_SKATEPARK   \n",
       "2     p1    User Initiated             NaN                         NaN   \n",
       "3     p1  System Initiated             NaN                         NaN   \n",
       "4     p1  System Initiated          Career  RECREATIONGROUND_SKATEPARK   \n",
       "\n",
       "   CurrentSessionLength LastTaskCompleted  LevelProgressionAmount  \\\n",
       "0                     0               NaN                     NaN   \n",
       "1                    14               NaN                0.563458   \n",
       "2                     0               NaN                     NaN   \n",
       "3                     0               NaN                     NaN   \n",
       "4                    13               NaN                0.829827   \n",
       "\n",
       "  QuestionType  CurrentTask_TargetEncoded  LastTaskCompleted_TargetEncoded  \\\n",
       "0    Wellbeing                       50.0                             51.0   \n",
       "1    Wellbeing                       32.0                             51.0   \n",
       "2    Wellbeing                       50.0                             51.0   \n",
       "3    Wellbeing                       50.0                             51.0   \n",
       "4    Wellbeing                       32.0                             51.0   \n",
       "\n",
       "   ...  Day  Hour  Minute  Second  Weekday  WeekendFlag  PeriodOfDay_Night  \\\n",
       "0  ...   28    15      50      22        6            1              False   \n",
       "1  ...   28    16       5       2        6            1              False   \n",
       "2  ...    7     3      31      50        2            0               True   \n",
       "3  ...    8     1      30       5        3            0               True   \n",
       "4  ...    8     1      43      45        3            0               True   \n",
       "\n",
       "   PeriodOfDay_Morning  PeriodOfDay_Afternoon  PeriodOfDay_Evening  \n",
       "0                False                   True                False  \n",
       "1                False                   True                False  \n",
       "2                False                  False                False  \n",
       "3                False                  False                False  \n",
       "4                False                  False                False  \n",
       "\n",
       "[5 rows x 23 columns]"
      ]
     },
     "execution_count": 18,
     "metadata": {},
     "output_type": "execute_result"
    }
   ],
   "source": [
    "#encoding for TimeOfDay.\n",
    "test_data = pd.get_dummies(test_data, columns=['PeriodOfDay'], drop_first=False)\n",
    "\n",
    "test_data.head()"
   ]
  },
  {
   "cell_type": "code",
   "execution_count": 19,
   "id": "490520a5-12da-4978-966e-a90df9d2c920",
   "metadata": {
    "tags": []
   },
   "outputs": [],
   "source": [
    "# Save the transformation and encoding for 'TimeUtc' to the 'train_data_knn_imputed.csv' \n",
    "test_output_file_path = 'test_data_knn_imputed.csv'\n",
    "test_data.to_csv(test_output_file_path, index=False)"
   ]
  },
  {
   "cell_type": "markdown",
   "id": "bb0e0ee9-1736-4878-8d92-278c660352ec",
   "metadata": {
    "tags": []
   },
   "source": [
    "### LevelProgressionAmount-KNN"
   ]
  },
  {
   "cell_type": "code",
   "execution_count": 20,
   "id": "fbf53e0a-9f52-4c0e-8f3d-b1b92a178ef9",
   "metadata": {
    "tags": []
   },
   "outputs": [
    {
     "name": "stdout",
     "output_type": "stream",
     "text": [
      "Successfully encoded and performed KNN imputation on LevelProgressionAmount. The result has been saved back to the original file test_data_knn_imputed.csv\n"
     ]
    }
   ],
   "source": [
    "import pandas as pd\n",
    "from sklearn.impute import KNNImputer\n",
    "from sklearn.preprocessing import StandardScaler, LabelEncoder\n",
    "\n",
    "# Read the CSV file\n",
    "file_path = 'test_data_knn_imputed.csv'\n",
    "df = pd.read_csv(file_path)\n",
    "\n",
    "# Select the column to encode and impute\n",
    "column_to_encode_and_impute = 'LevelProgressionAmount'\n",
    "\n",
    "# Encode the column\n",
    "label_encoder = LabelEncoder()\n",
    "df[column_to_encode_and_impute] = label_encoder.fit_transform(df[column_to_encode_and_impute].astype(str))\n",
    "\n",
    "# Create KNNImputer instance\n",
    "imputer = KNNImputer(n_neighbors=5)\n",
    "\n",
    "# Perform KNN imputation on the selected column\n",
    "df[[column_to_encode_and_impute]] = imputer.fit_transform(df[[column_to_encode_and_impute]])\n",
    "\n",
    "# Standardize the imputed column\n",
    "scaler = StandardScaler()\n",
    "df[[column_to_encode_and_impute]] = scaler.fit_transform(df[[column_to_encode_and_impute]])\n",
    "\n",
    "# Save the modified data back to the original file\n",
    "df.to_csv(file_path, index=False)\n",
    "\n",
    "print(f'Successfully encoded and performed KNN imputation on {column_to_encode_and_impute}. The result has been saved back to the original file {file_path}')\n"
   ]
  },
  {
   "cell_type": "markdown",
   "id": "3f16a8b1-ce41-4165-b061-5c6efcf09231",
   "metadata": {
    "tags": []
   },
   "source": [
    "### QuestionTiming-Dummy"
   ]
  },
  {
   "cell_type": "code",
   "execution_count": 21,
   "id": "6cf18aae-c658-4479-a010-96a696e609ee",
   "metadata": {
    "tags": []
   },
   "outputs": [
    {
     "name": "stdout",
     "output_type": "stream",
     "text": [
      "test_data_knn_imputed.csv\n"
     ]
    }
   ],
   "source": [
    "import pandas as pd\n",
    "\n",
    "file_path = 'test_data_knn_imputed.csv'\n",
    "df = pd.read_csv(file_path)\n",
    "\n",
    "df_encoded = pd.get_dummies(df, columns=['QuestionTiming'])\n",
    "\n",
    "df_encoded.to_csv(file_path, index=False)\n",
    "\n",
    "print(f'{file_path}')"
   ]
  },
  {
   "cell_type": "markdown",
   "id": "7f1f2a3a-4c73-4bfe-9e86-96fbe7f5cf32",
   "metadata": {
    "tags": []
   },
   "source": [
    "### Adding UserAvgResponse"
   ]
  },
  {
   "cell_type": "code",
   "execution_count": 22,
   "id": "3e6d85f9-a92e-4317-8011-a0ee33c4b078",
   "metadata": {
    "tags": []
   },
   "outputs": [
    {
     "name": "stdout",
     "output_type": "stream",
     "text": [
      "successfully add test_data_knn_imputed.csv\n"
     ]
    }
   ],
   "source": [
    "import pandas as pd\n",
    "\n",
    "train_data_path = 'data/train_data.csv'\n",
    "train_df = pd.read_csv(train_data_path)\n",
    "\n",
    "user_means = train_df.groupby('UserID')['ResponseValue'].mean()\n",
    "\n",
    "global_mean = train_df['ResponseValue'].mean()\n",
    "\n",
    "test_data_path = 'test_data_knn_imputed.csv'\n",
    "test_df = pd.read_csv(test_data_path)\n",
    "\n",
    "test_df['UserAvgResponse'] = test_df['UserID'].map(user_means)\n",
    "\n",
    "test_df['UserAvgResponse'].fillna(global_mean, inplace=True)\n",
    "\n",
    "test_df.to_csv(test_data_path, index=False)\n",
    "\n",
    "print(f'successfully add {test_data_path}')"
   ]
  },
  {
   "cell_type": "markdown",
   "id": "6fdc456b-7ab7-4de1-8fc4-a3caacd268da",
   "metadata": {
    "jp-MarkdownHeadingCollapsed": true,
    "tags": []
   },
   "source": [
    "## Modeling"
   ]
  },
  {
   "cell_type": "code",
   "execution_count": 23,
   "id": "a8cf20cc-ce50-4f92-b7c7-8396dd9073b0",
   "metadata": {
    "tags": []
   },
   "outputs": [
    {
     "name": "stdout",
     "output_type": "stream",
     "text": [
      "[LightGBM] [Warning] Found whitespace in feature_names, replace with underlines\n",
      "[LightGBM] [Warning] Found whitespace in feature_names, replace with underlines\n",
      "Training until validation scores don't improve for 10 rounds\n",
      "Did not meet early stopping. Best iteration is:\n",
      "[100]\tvalid_0's l2: 16650.8\tvalid_0's l1: 88.267\n",
      "Mean Squared Error: 16650.827745675826\n",
      "R-squared Score: 0.631057152155859\n",
      "Mean Absolute Error: 88.26697410140719\n"
     ]
    }
   ],
   "source": [
    "import pandas as pd\n",
    "from sklearn.model_selection import train_test_split\n",
    "from sklearn.metrics import mean_squared_error, r2_score, mean_absolute_error\n",
    "import lightgbm as lgb\n",
    "\n",
    "# Load the data\n",
    "data_path = 'train_data_knn_imputed.csv'\n",
    "data = pd.read_csv(data_path)\n",
    "\n",
    "# Selecting features and target variable\n",
    "features = [\n",
    "    \"CurrentSessionLength\", \"CurrentGameMode_LabelEncoded\", \"CurrentTask_TargetEncoded\",\n",
    "    \"LastTaskCompleted_TargetEncoded\", \"LevelProgressionAmount\", \"Month\",\n",
    "    \"WeekendFlag\", \"PeriodOfDay_Night\", \"QuestionTiming_System Initiated\",\"UserAvgResponse\"\n",
    "]\n",
    "X = data[features]\n",
    "y = data['ResponseValue']\n",
    "\n",
    "# Splitting the data into train and test sets\n",
    "X_train, X_test, y_train, y_test = train_test_split(X, y, test_size=0.2, random_state=42)\n",
    "\n",
    "# Creating and training the LightGBM model\n",
    "train_data = lgb.Dataset(X_train, label=y_train)\n",
    "test_data = lgb.Dataset(X_test, label=y_test, reference=train_data)\n",
    "\n",
    "# Setting parameters\n",
    "params = {\n",
    "    'boosting_type': 'gbdt',\n",
    "    'objective': 'regression',\n",
    "    'metric': ['l2', 'mae'],\n",
    "    'num_leaves': 31,\n",
    "    'learning_rate': 0.05,\n",
    "    'feature_fraction': 0.9,\n",
    "    'bagging_fraction': 0.8,\n",
    "    'bagging_freq': 5,\n",
    "    'verbose': 0\n",
    "}\n",
    "\n",
    "# Training the model\n",
    "num_round = 100\n",
    "bst = lgb.train(params, train_data, num_round, valid_sets=[test_data], callbacks=[lgb.early_stopping(stopping_rounds=10)])\n",
    "\n",
    "# Predicting and evaluating the model\n",
    "y_pred = bst.predict(X_test, num_iteration=bst.best_iteration)\n",
    "mse = mean_squared_error(y_test, y_pred)\n",
    "r2 = r2_score(y_test, y_pred)\n",
    "mae = mean_absolute_error(y_test, y_pred)\n",
    "\n",
    "# Print the evaluation results\n",
    "print(f\"Mean Squared Error: {mse}\")\n",
    "print(f\"R-squared Score: {r2}\")\n",
    "print(f\"Mean Absolute Error: {mae}\")"
   ]
  },
  {
   "cell_type": "code",
   "execution_count": 25,
   "id": "717ea6a7-92e0-4679-b5a0-8874daee45bb",
   "metadata": {
    "tags": []
   },
   "outputs": [
    {
     "name": "stdout",
     "output_type": "stream",
     "text": [
      "Predicted data saved to: predicted.csv\n"
     ]
    }
   ],
   "source": [
    "import pandas as pd\n",
    "import lightgbm as lgb\n",
    "\n",
    "\n",
    "test_data_path = 'test_data_knn_imputed.csv'  \n",
    "test_data = pd.read_csv(test_data_path)\n",
    "\n",
    "features = [\n",
    "    \"CurrentSessionLength\", \"CurrentGameMode_LabelEncoded\", \"CurrentTask_TargetEncoded\",\n",
    "    \"LastTaskCompleted_TargetEncoded\", \"LevelProgressionAmount\", \"Month\",\n",
    "    \"WeekendFlag\", \"PeriodOfDay_Night\", \"QuestionTiming_System Initiated\",\"UserAvgResponse\"\n",
    "]\n",
    "X_test = test_data[features]\n",
    "\n",
    "y_pred = bst.predict(X_test, num_iteration=bst.best_iteration)\n",
    "\n",
    "predicted_data = pd.DataFrame(y_pred)\n",
    "\n",
    "output_file_path = 'predicted.csv'\n",
    "predicted_data.to_csv(output_file_path, index=False, header=False)\n",
    "\n",
    "print(f\"Predicted data saved to: {output_file_path}\")"
   ]
  }
 ],
 "metadata": {
  "kernelspec": {
   "display_name": "Python 3 (ipykernel)",
   "language": "python",
   "name": "python3"
  },
  "language_info": {
   "codemirror_mode": {
    "name": "ipython",
    "version": 3
   },
   "file_extension": ".py",
   "mimetype": "text/x-python",
   "name": "python",
   "nbconvert_exporter": "python",
   "pygments_lexer": "ipython3",
   "version": "3.11.5"
  }
 },
 "nbformat": 4,
 "nbformat_minor": 5
}
