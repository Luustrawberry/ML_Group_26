{
 "cells": [
  {
   "cell_type": "markdown",
   "id": "d4da25b0-452e-47e7-92a9-7f70c02fcb2f",
   "metadata": {
    "tags": []
   },
   "source": [
    "## Group 26:\n",
    "    Minjia Li\n",
    "    Jay Mahn\n",
    "    Jiahui Liu\n",
    "    Lu Zeng"
   ]
  },
  {
   "cell_type": "markdown",
   "id": "d63d335a-8058-4507-ad7d-bacece398d41",
   "metadata": {
    "tags": []
   },
   "source": [
    "# Train_data"
   ]
  },
  {
   "cell_type": "markdown",
   "id": "0166c478-0b94-4166-92f7-0494187e27a6",
   "metadata": {
    "jp-MarkdownHeadingCollapsed": true,
    "tags": []
   },
   "source": [
    "## Data Cleaning"
   ]
  },
  {
   "cell_type": "markdown",
   "id": "66bd16e5-b648-4744-9808-426a49566b0f",
   "metadata": {
    "jp-MarkdownHeadingCollapsed": true,
    "tags": []
   },
   "source": [
    "### CurrentTask, LastTaskCompleted-Encoding "
   ]
  },
  {
   "cell_type": "code",
   "execution_count": 2,
   "id": "5644e3b9-b746-4169-9bdf-4a6026eaf598",
   "metadata": {
    "tags": []
   },
   "outputs": [],
   "source": [
    "import pandas as pd\n",
    "from sklearn.preprocessing import LabelEncoder\n",
    "import statsmodels.api as sm\n",
    "from statsmodels.formula.api import ols\n",
    "from sklearn.impute import KNNImputer\n",
    "\n",
    "train_data_path = 'data/train_data.csv'\n",
    "train_df = pd.read_csv(train_data_path)\n",
    "\n",
    "label_encoder = LabelEncoder()\n",
    "\n",
    "if train_df['CurrentTask'].dtype == 'object':\n",
    "    train_df['CurrentTask'] = label_encoder.fit_transform(train_df['CurrentTask'].astype(str))\n",
    "\n",
    "if train_df['LastTaskCompleted'].dtype == 'object':\n",
    "    train_df['LastTaskCompleted'] = label_encoder.fit_transform(train_df['LastTaskCompleted'].astype(str))\n",
    "\n",
    "output_file_path = 'train_data_knn_imputed.csv'\n",
    "train_df.to_csv(output_file_path, index=False)"
   ]
  },
  {
   "cell_type": "markdown",
   "id": "10f82597-1d5b-4cff-bd05-1fe064cef3a2",
   "metadata": {
    "jp-MarkdownHeadingCollapsed": true,
    "tags": []
   },
   "source": [
    "### CurrentTask, LastTaskCompleted-KNN"
   ]
  },
  {
   "cell_type": "code",
   "execution_count": 3,
   "id": "fb2c6402-a594-49ee-8208-afb95644173c",
   "metadata": {
    "tags": []
   },
   "outputs": [
    {
     "name": "stdout",
     "output_type": "stream",
     "text": [
      "Processed training data with imputed values:\n",
      "  UserID    QuestionTiming              TimeUtc CurrentGameMode  CurrentTask  \\\n",
      "0     p1    User Initiated  2022-08-18 22:55:27             NaN         49.0   \n",
      "1     p1  System Initiated  2022-08-18 23:38:31             NaN         49.0   \n",
      "2     p1    User Initiated  2022-08-18 23:39:24          Career         21.0   \n",
      "3     p1  System Initiated  2022-08-18 23:45:01          Career         33.0   \n",
      "4     p1  System Initiated  2022-08-18 23:51:22          Career         33.0   \n",
      "\n",
      "   CurrentSessionLength  LastTaskCompleted  LevelProgressionAmount  \\\n",
      "0                     2               51.0                     NaN   \n",
      "1                     0               51.0                     NaN   \n",
      "2                     1               32.0                1.000000   \n",
      "3                     6               32.0                0.168267   \n",
      "4                    13               32.0                0.429364   \n",
      "\n",
      "  QuestionType  ResponseValue  \n",
      "0    Wellbeing          509.0  \n",
      "1    Wellbeing          653.0  \n",
      "2    Wellbeing          705.0  \n",
      "3    Wellbeing          817.0  \n",
      "4    Wellbeing          810.0  \n"
     ]
    }
   ],
   "source": [
    "import numpy as np\n",
    "\n",
    "train_data = pd.read_csv('train_data_knn_imputed.csv')\n",
    "\n",
    "# Select the two features 'CurrentTask_TargetEncoded' and 'LastTaskCompleted_TargetEncoded'\n",
    "features_to_impute = ['CurrentTask', 'LastTaskCompleted']\n",
    "\n",
    "# Initialize KNN imputer\n",
    "imputer = KNNImputer(n_neighbors=5)\n",
    "\n",
    "# Impute the missing values\n",
    "imputed_data = imputer.fit_transform(train_data[features_to_impute])\n",
    "\n",
    "# Transfer the filled data back to the DataFrame\n",
    "imputed_df = pd.DataFrame(imputed_data, columns=features_to_impute, index=train_data.index)\n",
    "\n",
    "# Re-assign the filled features back to the original dataset\n",
    "train_data[features_to_impute] = imputed_df[features_to_impute]\n",
    "\n",
    "print(\"Processed training data with imputed values:\")\n",
    "print(train_data.head())\n",
    "\n",
    "# Save the imputed data to a new csv file\n",
    "train_output_file_path = 'train_data_knn_imputed.csv'\n",
    "train_data.to_csv(train_output_file_path, index=False)\n"
   ]
  },
  {
   "cell_type": "markdown",
   "id": "86da5eaf-03ab-4ffa-9ec1-3fd41ee6c16b",
   "metadata": {
    "jp-MarkdownHeadingCollapsed": true,
    "tags": []
   },
   "source": [
    "### CurrentGameMode-Encoding"
   ]
  },
  {
   "cell_type": "code",
   "execution_count": 4,
   "id": "dd7b6710-b938-4378-9145-f02ce562deff",
   "metadata": {
    "tags": []
   },
   "outputs": [
    {
     "name": "stdout",
     "output_type": "stream",
     "text": [
      "[nan 'Career' 'Special' 'FreePlay' 'Challenge']\n"
     ]
    },
    {
     "data": {
      "text/html": [
       "<div>\n",
       "<style scoped>\n",
       "    .dataframe tbody tr th:only-of-type {\n",
       "        vertical-align: middle;\n",
       "    }\n",
       "\n",
       "    .dataframe tbody tr th {\n",
       "        vertical-align: top;\n",
       "    }\n",
       "\n",
       "    .dataframe thead th {\n",
       "        text-align: right;\n",
       "    }\n",
       "</style>\n",
       "<table border=\"1\" class=\"dataframe\">\n",
       "  <thead>\n",
       "    <tr style=\"text-align: right;\">\n",
       "      <th></th>\n",
       "      <th>UserID</th>\n",
       "      <th>QuestionTiming</th>\n",
       "      <th>TimeUtc</th>\n",
       "      <th>CurrentGameMode</th>\n",
       "      <th>CurrentTask</th>\n",
       "      <th>CurrentSessionLength</th>\n",
       "      <th>LastTaskCompleted</th>\n",
       "      <th>LevelProgressionAmount</th>\n",
       "      <th>QuestionType</th>\n",
       "      <th>ResponseValue</th>\n",
       "    </tr>\n",
       "  </thead>\n",
       "  <tbody>\n",
       "    <tr>\n",
       "      <th>0</th>\n",
       "      <td>p1</td>\n",
       "      <td>User Initiated</td>\n",
       "      <td>2022-08-18 22:55:27</td>\n",
       "      <td>4</td>\n",
       "      <td>49.0</td>\n",
       "      <td>2</td>\n",
       "      <td>51.0</td>\n",
       "      <td>NaN</td>\n",
       "      <td>Wellbeing</td>\n",
       "      <td>509.0</td>\n",
       "    </tr>\n",
       "    <tr>\n",
       "      <th>1</th>\n",
       "      <td>p1</td>\n",
       "      <td>System Initiated</td>\n",
       "      <td>2022-08-18 23:38:31</td>\n",
       "      <td>4</td>\n",
       "      <td>49.0</td>\n",
       "      <td>0</td>\n",
       "      <td>51.0</td>\n",
       "      <td>NaN</td>\n",
       "      <td>Wellbeing</td>\n",
       "      <td>653.0</td>\n",
       "    </tr>\n",
       "    <tr>\n",
       "      <th>2</th>\n",
       "      <td>p1</td>\n",
       "      <td>User Initiated</td>\n",
       "      <td>2022-08-18 23:39:24</td>\n",
       "      <td>0</td>\n",
       "      <td>21.0</td>\n",
       "      <td>1</td>\n",
       "      <td>32.0</td>\n",
       "      <td>1.000000</td>\n",
       "      <td>Wellbeing</td>\n",
       "      <td>705.0</td>\n",
       "    </tr>\n",
       "    <tr>\n",
       "      <th>3</th>\n",
       "      <td>p1</td>\n",
       "      <td>System Initiated</td>\n",
       "      <td>2022-08-18 23:45:01</td>\n",
       "      <td>0</td>\n",
       "      <td>33.0</td>\n",
       "      <td>6</td>\n",
       "      <td>32.0</td>\n",
       "      <td>0.168267</td>\n",
       "      <td>Wellbeing</td>\n",
       "      <td>817.0</td>\n",
       "    </tr>\n",
       "    <tr>\n",
       "      <th>4</th>\n",
       "      <td>p1</td>\n",
       "      <td>System Initiated</td>\n",
       "      <td>2022-08-18 23:51:22</td>\n",
       "      <td>0</td>\n",
       "      <td>33.0</td>\n",
       "      <td>13</td>\n",
       "      <td>32.0</td>\n",
       "      <td>0.429364</td>\n",
       "      <td>Wellbeing</td>\n",
       "      <td>810.0</td>\n",
       "    </tr>\n",
       "  </tbody>\n",
       "</table>\n",
       "</div>"
      ],
      "text/plain": [
       "  UserID    QuestionTiming              TimeUtc  CurrentGameMode  CurrentTask  \\\n",
       "0     p1    User Initiated  2022-08-18 22:55:27                4         49.0   \n",
       "1     p1  System Initiated  2022-08-18 23:38:31                4         49.0   \n",
       "2     p1    User Initiated  2022-08-18 23:39:24                0         21.0   \n",
       "3     p1  System Initiated  2022-08-18 23:45:01                0         33.0   \n",
       "4     p1  System Initiated  2022-08-18 23:51:22                0         33.0   \n",
       "\n",
       "   CurrentSessionLength  LastTaskCompleted  LevelProgressionAmount  \\\n",
       "0                     2               51.0                     NaN   \n",
       "1                     0               51.0                     NaN   \n",
       "2                     1               32.0                1.000000   \n",
       "3                     6               32.0                0.168267   \n",
       "4                    13               32.0                0.429364   \n",
       "\n",
       "  QuestionType  ResponseValue  \n",
       "0    Wellbeing          509.0  \n",
       "1    Wellbeing          653.0  \n",
       "2    Wellbeing          705.0  \n",
       "3    Wellbeing          817.0  \n",
       "4    Wellbeing          810.0  "
      ]
     },
     "execution_count": 4,
     "metadata": {},
     "output_type": "execute_result"
    }
   ],
   "source": [
    "from sklearn.preprocessing import LabelEncoder\n",
    "\n",
    "# load the data\n",
    "train_data = pd.read_csv('train_data_knn_imputed.csv')\n",
    "print(train_data['CurrentGameMode'].unique())\n",
    "\n",
    "# Initialize LabelEncoder\n",
    "le = LabelEncoder()\n",
    "\n",
    "# Encoding 'CurrentGameMode' using Label Encoding\n",
    "train_data['CurrentGameMode'] = le.fit_transform(train_data['CurrentGameMode'])\n",
    "\n",
    "train_data.head()\n"
   ]
  },
  {
   "cell_type": "markdown",
   "id": "709ef0c3-f045-46fd-b200-be215f05e68b",
   "metadata": {
    "jp-MarkdownHeadingCollapsed": true,
    "tags": []
   },
   "source": [
    "### CurrentGameMode-KNN"
   ]
  },
  {
   "cell_type": "code",
   "execution_count": 5,
   "id": "2b5b86f1-55ef-4c5f-b5e4-546e0c8f8046",
   "metadata": {
    "tags": []
   },
   "outputs": [
    {
     "name": "stdout",
     "output_type": "stream",
     "text": [
      "Processed training data with imputed CurrentGameMode:\n",
      "  UserID    QuestionTiming              TimeUtc  CurrentGameMode  CurrentTask  \\\n",
      "0     p1    User Initiated  2022-08-18 22:55:27              4.0         49.0   \n",
      "1     p1  System Initiated  2022-08-18 23:38:31              4.0         49.0   \n",
      "2     p1    User Initiated  2022-08-18 23:39:24              0.0         21.0   \n",
      "3     p1  System Initiated  2022-08-18 23:45:01              0.0         33.0   \n",
      "4     p1  System Initiated  2022-08-18 23:51:22              0.0         33.0   \n",
      "\n",
      "   CurrentSessionLength  LastTaskCompleted  LevelProgressionAmount  \\\n",
      "0                     2               51.0                     NaN   \n",
      "1                     0               51.0                     NaN   \n",
      "2                     1               32.0                1.000000   \n",
      "3                     6               32.0                0.168267   \n",
      "4                    13               32.0                0.429364   \n",
      "\n",
      "  QuestionType  ResponseValue  \n",
      "0    Wellbeing          509.0  \n",
      "1    Wellbeing          653.0  \n",
      "2    Wellbeing          705.0  \n",
      "3    Wellbeing          817.0  \n",
      "4    Wellbeing          810.0  \n"
     ]
    }
   ],
   "source": [
    "# Initialize KNN Imputer\n",
    "imputer = KNNImputer(n_neighbors=5)\n",
    "\n",
    "# Select feature 'CurrentGameMode_LabelEncoded' to be imputed\n",
    "features_to_impute = ['CurrentGameMode', 'CurrentTask']\n",
    "\n",
    "# Impute the missing values\n",
    "imputed_data = imputer.fit_transform(train_data[features_to_impute])\n",
    "\n",
    "# Transfer the filled data back to the DataFrame\n",
    "imputed_df = pd.DataFrame(imputed_data, columns=features_to_impute, index=train_data.index)\n",
    "\n",
    "# Re-new the original 'CurrentGameMode_LabelEncoded' data \n",
    "train_data['CurrentGameMode'] = imputed_df['CurrentGameMode']\n",
    "\n",
    "print(\"Processed training data with imputed CurrentGameMode:\")\n",
    "print(train_data.head())\n",
    "\n",
    "# Save and renew the file\n",
    "train_output_file_path = 'train_data_knn_imputed.csv'\n",
    "train_data.to_csv(train_output_file_path, index=False)"
   ]
  },
  {
   "cell_type": "markdown",
   "id": "d8b67935-9f94-44ff-9703-a9a2bd6ec8e7",
   "metadata": {
    "jp-MarkdownHeadingCollapsed": true,
    "tags": []
   },
   "source": [
    "### TimeUtc-Convert Format"
   ]
  },
  {
   "cell_type": "code",
   "execution_count": 6,
   "id": "9bff60a9-76ef-41f5-b135-7c9427b6fa6e",
   "metadata": {
    "tags": []
   },
   "outputs": [
    {
     "data": {
      "text/html": [
       "<div>\n",
       "<style scoped>\n",
       "    .dataframe tbody tr th:only-of-type {\n",
       "        vertical-align: middle;\n",
       "    }\n",
       "\n",
       "    .dataframe tbody tr th {\n",
       "        vertical-align: top;\n",
       "    }\n",
       "\n",
       "    .dataframe thead th {\n",
       "        text-align: right;\n",
       "    }\n",
       "</style>\n",
       "<table border=\"1\" class=\"dataframe\">\n",
       "  <thead>\n",
       "    <tr style=\"text-align: right;\">\n",
       "      <th></th>\n",
       "      <th>UserID</th>\n",
       "      <th>QuestionTiming</th>\n",
       "      <th>CurrentGameMode</th>\n",
       "      <th>CurrentTask</th>\n",
       "      <th>CurrentSessionLength</th>\n",
       "      <th>LastTaskCompleted</th>\n",
       "      <th>LevelProgressionAmount</th>\n",
       "      <th>QuestionType</th>\n",
       "      <th>ResponseValue</th>\n",
       "      <th>Year</th>\n",
       "      <th>Month</th>\n",
       "      <th>Day</th>\n",
       "      <th>Hour</th>\n",
       "      <th>Minute</th>\n",
       "      <th>Second</th>\n",
       "      <th>Weekday</th>\n",
       "      <th>WeekendFlag</th>\n",
       "      <th>PeriodOfDay</th>\n",
       "    </tr>\n",
       "  </thead>\n",
       "  <tbody>\n",
       "    <tr>\n",
       "      <th>0</th>\n",
       "      <td>p1</td>\n",
       "      <td>User Initiated</td>\n",
       "      <td>4.0</td>\n",
       "      <td>49.0</td>\n",
       "      <td>2</td>\n",
       "      <td>51.0</td>\n",
       "      <td>NaN</td>\n",
       "      <td>Wellbeing</td>\n",
       "      <td>509.0</td>\n",
       "      <td>2022</td>\n",
       "      <td>8</td>\n",
       "      <td>18</td>\n",
       "      <td>22</td>\n",
       "      <td>55</td>\n",
       "      <td>27</td>\n",
       "      <td>3</td>\n",
       "      <td>0</td>\n",
       "      <td>Evening</td>\n",
       "    </tr>\n",
       "    <tr>\n",
       "      <th>1</th>\n",
       "      <td>p1</td>\n",
       "      <td>System Initiated</td>\n",
       "      <td>4.0</td>\n",
       "      <td>49.0</td>\n",
       "      <td>0</td>\n",
       "      <td>51.0</td>\n",
       "      <td>NaN</td>\n",
       "      <td>Wellbeing</td>\n",
       "      <td>653.0</td>\n",
       "      <td>2022</td>\n",
       "      <td>8</td>\n",
       "      <td>18</td>\n",
       "      <td>23</td>\n",
       "      <td>38</td>\n",
       "      <td>31</td>\n",
       "      <td>3</td>\n",
       "      <td>0</td>\n",
       "      <td>Evening</td>\n",
       "    </tr>\n",
       "    <tr>\n",
       "      <th>2</th>\n",
       "      <td>p1</td>\n",
       "      <td>User Initiated</td>\n",
       "      <td>0.0</td>\n",
       "      <td>21.0</td>\n",
       "      <td>1</td>\n",
       "      <td>32.0</td>\n",
       "      <td>1.000000</td>\n",
       "      <td>Wellbeing</td>\n",
       "      <td>705.0</td>\n",
       "      <td>2022</td>\n",
       "      <td>8</td>\n",
       "      <td>18</td>\n",
       "      <td>23</td>\n",
       "      <td>39</td>\n",
       "      <td>24</td>\n",
       "      <td>3</td>\n",
       "      <td>0</td>\n",
       "      <td>Evening</td>\n",
       "    </tr>\n",
       "    <tr>\n",
       "      <th>3</th>\n",
       "      <td>p1</td>\n",
       "      <td>System Initiated</td>\n",
       "      <td>0.0</td>\n",
       "      <td>33.0</td>\n",
       "      <td>6</td>\n",
       "      <td>32.0</td>\n",
       "      <td>0.168267</td>\n",
       "      <td>Wellbeing</td>\n",
       "      <td>817.0</td>\n",
       "      <td>2022</td>\n",
       "      <td>8</td>\n",
       "      <td>18</td>\n",
       "      <td>23</td>\n",
       "      <td>45</td>\n",
       "      <td>1</td>\n",
       "      <td>3</td>\n",
       "      <td>0</td>\n",
       "      <td>Evening</td>\n",
       "    </tr>\n",
       "    <tr>\n",
       "      <th>4</th>\n",
       "      <td>p1</td>\n",
       "      <td>System Initiated</td>\n",
       "      <td>0.0</td>\n",
       "      <td>33.0</td>\n",
       "      <td>13</td>\n",
       "      <td>32.0</td>\n",
       "      <td>0.429364</td>\n",
       "      <td>Wellbeing</td>\n",
       "      <td>810.0</td>\n",
       "      <td>2022</td>\n",
       "      <td>8</td>\n",
       "      <td>18</td>\n",
       "      <td>23</td>\n",
       "      <td>51</td>\n",
       "      <td>22</td>\n",
       "      <td>3</td>\n",
       "      <td>0</td>\n",
       "      <td>Evening</td>\n",
       "    </tr>\n",
       "  </tbody>\n",
       "</table>\n",
       "</div>"
      ],
      "text/plain": [
       "  UserID    QuestionTiming  CurrentGameMode  CurrentTask  \\\n",
       "0     p1    User Initiated              4.0         49.0   \n",
       "1     p1  System Initiated              4.0         49.0   \n",
       "2     p1    User Initiated              0.0         21.0   \n",
       "3     p1  System Initiated              0.0         33.0   \n",
       "4     p1  System Initiated              0.0         33.0   \n",
       "\n",
       "   CurrentSessionLength  LastTaskCompleted  LevelProgressionAmount  \\\n",
       "0                     2               51.0                     NaN   \n",
       "1                     0               51.0                     NaN   \n",
       "2                     1               32.0                1.000000   \n",
       "3                     6               32.0                0.168267   \n",
       "4                    13               32.0                0.429364   \n",
       "\n",
       "  QuestionType  ResponseValue  Year  Month  Day  Hour  Minute  Second  \\\n",
       "0    Wellbeing          509.0  2022      8   18    22      55      27   \n",
       "1    Wellbeing          653.0  2022      8   18    23      38      31   \n",
       "2    Wellbeing          705.0  2022      8   18    23      39      24   \n",
       "3    Wellbeing          817.0  2022      8   18    23      45       1   \n",
       "4    Wellbeing          810.0  2022      8   18    23      51      22   \n",
       "\n",
       "   Weekday  WeekendFlag PeriodOfDay  \n",
       "0        3            0     Evening  \n",
       "1        3            0     Evening  \n",
       "2        3            0     Evening  \n",
       "3        3            0     Evening  \n",
       "4        3            0     Evening  "
      ]
     },
     "execution_count": 6,
     "metadata": {},
     "output_type": "execute_result"
    }
   ],
   "source": [
    "train_data = pd.read_csv(\"train_data_knn_imputed.csv\")\n",
    "\n",
    "# Ensure TimeUtc is a datetime type\n",
    "train_data['TimeUtc'] = pd.to_datetime(train_data['TimeUtc'])\n",
    "\n",
    "# Extract components\n",
    "train_data['Year'] = train_data['TimeUtc'].dt.year\n",
    "train_data['Month'] = train_data['TimeUtc'].dt.month\n",
    "train_data['Day'] = train_data['TimeUtc'].dt.day\n",
    "train_data['Hour'] = train_data['TimeUtc'].dt.hour\n",
    "train_data['Minute'] = train_data['TimeUtc'].dt.minute\n",
    "train_data['Second'] = train_data['TimeUtc'].dt.second\n",
    "\n",
    "# Separate weekday and weekend days\n",
    "train_data['Weekday'] = train_data['TimeUtc'].dt.dayofweek\n",
    "train_data['WeekendFlag'] = (train_data['TimeUtc'].dt.weekday >= 5).astype(int)\n",
    "\n",
    "# Categorize different times of day into periods\n",
    "time_bins = [0, 6, 12, 18, 24]  # Define time_bins as 0-6, 6-12, 12-18, 18-24\n",
    "time_labels = ['Night', 'Morning', 'Afternoon', 'Evening']\n",
    "train_data['PeriodOfDay'] = pd.cut(train_data['TimeUtc'].dt.hour, bins=time_bins, labels=time_labels, right=False)\n",
    "\n",
    "# Remove the original Timestamp column to avoid redundancy\n",
    "train_data.drop('TimeUtc', axis=1, inplace=True)\n",
    "\n",
    "train_data.head()"
   ]
  },
  {
   "cell_type": "markdown",
   "id": "23dec67d-b3bf-4268-90dc-17fc9b4c3d5f",
   "metadata": {
    "jp-MarkdownHeadingCollapsed": true,
    "tags": []
   },
   "source": [
    "### TimeUtc-Encoding"
   ]
  },
  {
   "cell_type": "code",
   "execution_count": 7,
   "id": "e2156d07-c6aa-45a5-913a-cab3f43eaa46",
   "metadata": {
    "tags": []
   },
   "outputs": [
    {
     "data": {
      "text/html": [
       "<div>\n",
       "<style scoped>\n",
       "    .dataframe tbody tr th:only-of-type {\n",
       "        vertical-align: middle;\n",
       "    }\n",
       "\n",
       "    .dataframe tbody tr th {\n",
       "        vertical-align: top;\n",
       "    }\n",
       "\n",
       "    .dataframe thead th {\n",
       "        text-align: right;\n",
       "    }\n",
       "</style>\n",
       "<table border=\"1\" class=\"dataframe\">\n",
       "  <thead>\n",
       "    <tr style=\"text-align: right;\">\n",
       "      <th></th>\n",
       "      <th>UserID</th>\n",
       "      <th>QuestionTiming</th>\n",
       "      <th>CurrentGameMode</th>\n",
       "      <th>CurrentTask</th>\n",
       "      <th>CurrentSessionLength</th>\n",
       "      <th>LastTaskCompleted</th>\n",
       "      <th>LevelProgressionAmount</th>\n",
       "      <th>QuestionType</th>\n",
       "      <th>ResponseValue</th>\n",
       "      <th>Year</th>\n",
       "      <th>...</th>\n",
       "      <th>Day</th>\n",
       "      <th>Hour</th>\n",
       "      <th>Minute</th>\n",
       "      <th>Second</th>\n",
       "      <th>Weekday</th>\n",
       "      <th>WeekendFlag</th>\n",
       "      <th>PeriodOfDay_Night</th>\n",
       "      <th>PeriodOfDay_Morning</th>\n",
       "      <th>PeriodOfDay_Afternoon</th>\n",
       "      <th>PeriodOfDay_Evening</th>\n",
       "    </tr>\n",
       "  </thead>\n",
       "  <tbody>\n",
       "    <tr>\n",
       "      <th>0</th>\n",
       "      <td>p1</td>\n",
       "      <td>User Initiated</td>\n",
       "      <td>4.0</td>\n",
       "      <td>49.0</td>\n",
       "      <td>2</td>\n",
       "      <td>51.0</td>\n",
       "      <td>NaN</td>\n",
       "      <td>Wellbeing</td>\n",
       "      <td>509.0</td>\n",
       "      <td>2022</td>\n",
       "      <td>...</td>\n",
       "      <td>18</td>\n",
       "      <td>22</td>\n",
       "      <td>55</td>\n",
       "      <td>27</td>\n",
       "      <td>3</td>\n",
       "      <td>0</td>\n",
       "      <td>False</td>\n",
       "      <td>False</td>\n",
       "      <td>False</td>\n",
       "      <td>True</td>\n",
       "    </tr>\n",
       "    <tr>\n",
       "      <th>1</th>\n",
       "      <td>p1</td>\n",
       "      <td>System Initiated</td>\n",
       "      <td>4.0</td>\n",
       "      <td>49.0</td>\n",
       "      <td>0</td>\n",
       "      <td>51.0</td>\n",
       "      <td>NaN</td>\n",
       "      <td>Wellbeing</td>\n",
       "      <td>653.0</td>\n",
       "      <td>2022</td>\n",
       "      <td>...</td>\n",
       "      <td>18</td>\n",
       "      <td>23</td>\n",
       "      <td>38</td>\n",
       "      <td>31</td>\n",
       "      <td>3</td>\n",
       "      <td>0</td>\n",
       "      <td>False</td>\n",
       "      <td>False</td>\n",
       "      <td>False</td>\n",
       "      <td>True</td>\n",
       "    </tr>\n",
       "    <tr>\n",
       "      <th>2</th>\n",
       "      <td>p1</td>\n",
       "      <td>User Initiated</td>\n",
       "      <td>0.0</td>\n",
       "      <td>21.0</td>\n",
       "      <td>1</td>\n",
       "      <td>32.0</td>\n",
       "      <td>1.000000</td>\n",
       "      <td>Wellbeing</td>\n",
       "      <td>705.0</td>\n",
       "      <td>2022</td>\n",
       "      <td>...</td>\n",
       "      <td>18</td>\n",
       "      <td>23</td>\n",
       "      <td>39</td>\n",
       "      <td>24</td>\n",
       "      <td>3</td>\n",
       "      <td>0</td>\n",
       "      <td>False</td>\n",
       "      <td>False</td>\n",
       "      <td>False</td>\n",
       "      <td>True</td>\n",
       "    </tr>\n",
       "    <tr>\n",
       "      <th>3</th>\n",
       "      <td>p1</td>\n",
       "      <td>System Initiated</td>\n",
       "      <td>0.0</td>\n",
       "      <td>33.0</td>\n",
       "      <td>6</td>\n",
       "      <td>32.0</td>\n",
       "      <td>0.168267</td>\n",
       "      <td>Wellbeing</td>\n",
       "      <td>817.0</td>\n",
       "      <td>2022</td>\n",
       "      <td>...</td>\n",
       "      <td>18</td>\n",
       "      <td>23</td>\n",
       "      <td>45</td>\n",
       "      <td>1</td>\n",
       "      <td>3</td>\n",
       "      <td>0</td>\n",
       "      <td>False</td>\n",
       "      <td>False</td>\n",
       "      <td>False</td>\n",
       "      <td>True</td>\n",
       "    </tr>\n",
       "    <tr>\n",
       "      <th>4</th>\n",
       "      <td>p1</td>\n",
       "      <td>System Initiated</td>\n",
       "      <td>0.0</td>\n",
       "      <td>33.0</td>\n",
       "      <td>13</td>\n",
       "      <td>32.0</td>\n",
       "      <td>0.429364</td>\n",
       "      <td>Wellbeing</td>\n",
       "      <td>810.0</td>\n",
       "      <td>2022</td>\n",
       "      <td>...</td>\n",
       "      <td>18</td>\n",
       "      <td>23</td>\n",
       "      <td>51</td>\n",
       "      <td>22</td>\n",
       "      <td>3</td>\n",
       "      <td>0</td>\n",
       "      <td>False</td>\n",
       "      <td>False</td>\n",
       "      <td>False</td>\n",
       "      <td>True</td>\n",
       "    </tr>\n",
       "  </tbody>\n",
       "</table>\n",
       "<p>5 rows × 21 columns</p>\n",
       "</div>"
      ],
      "text/plain": [
       "  UserID    QuestionTiming  CurrentGameMode  CurrentTask  \\\n",
       "0     p1    User Initiated              4.0         49.0   \n",
       "1     p1  System Initiated              4.0         49.0   \n",
       "2     p1    User Initiated              0.0         21.0   \n",
       "3     p1  System Initiated              0.0         33.0   \n",
       "4     p1  System Initiated              0.0         33.0   \n",
       "\n",
       "   CurrentSessionLength  LastTaskCompleted  LevelProgressionAmount  \\\n",
       "0                     2               51.0                     NaN   \n",
       "1                     0               51.0                     NaN   \n",
       "2                     1               32.0                1.000000   \n",
       "3                     6               32.0                0.168267   \n",
       "4                    13               32.0                0.429364   \n",
       "\n",
       "  QuestionType  ResponseValue  Year  ...  Day  Hour  Minute  Second  Weekday  \\\n",
       "0    Wellbeing          509.0  2022  ...   18    22      55      27        3   \n",
       "1    Wellbeing          653.0  2022  ...   18    23      38      31        3   \n",
       "2    Wellbeing          705.0  2022  ...   18    23      39      24        3   \n",
       "3    Wellbeing          817.0  2022  ...   18    23      45       1        3   \n",
       "4    Wellbeing          810.0  2022  ...   18    23      51      22        3   \n",
       "\n",
       "   WeekendFlag  PeriodOfDay_Night  PeriodOfDay_Morning  PeriodOfDay_Afternoon  \\\n",
       "0            0              False                False                  False   \n",
       "1            0              False                False                  False   \n",
       "2            0              False                False                  False   \n",
       "3            0              False                False                  False   \n",
       "4            0              False                False                  False   \n",
       "\n",
       "   PeriodOfDay_Evening  \n",
       "0                 True  \n",
       "1                 True  \n",
       "2                 True  \n",
       "3                 True  \n",
       "4                 True  \n",
       "\n",
       "[5 rows x 21 columns]"
      ]
     },
     "execution_count": 7,
     "metadata": {},
     "output_type": "execute_result"
    }
   ],
   "source": [
    "#encoding for TimeOfDay.\n",
    "train_data = pd.get_dummies(train_data, columns=['PeriodOfDay'], drop_first=False)\n",
    "\n",
    "train_data.head()"
   ]
  },
  {
   "cell_type": "code",
   "execution_count": 8,
   "id": "1b5b0509-3cda-48bb-9ab1-71e0760fb37a",
   "metadata": {
    "tags": []
   },
   "outputs": [],
   "source": [
    "# Save the transformation and encoding for 'TimeUtc' to the 'train_data_knn_imputed.csv' \n",
    "train_output_file_path = 'train_data_knn_imputed.csv'\n",
    "train_data.to_csv(train_output_file_path, index=False)"
   ]
  },
  {
   "cell_type": "markdown",
   "id": "287f76b1-405e-4f3b-acfc-d71d5345b67e",
   "metadata": {
    "jp-MarkdownHeadingCollapsed": true,
    "tags": []
   },
   "source": [
    "### LevelProgressionAmount-KNN"
   ]
  },
  {
   "cell_type": "code",
   "execution_count": 9,
   "id": "09a478e4-c476-487f-8011-e6bd6b999381",
   "metadata": {
    "tags": []
   },
   "outputs": [
    {
     "name": "stdout",
     "output_type": "stream",
     "text": [
      "Successfully encoded and performed KNN imputation on LevelProgressionAmount. The result has been saved back to the original file train_data_knn_imputed.csv\n"
     ]
    }
   ],
   "source": [
    "import pandas as pd\n",
    "from sklearn.impute import KNNImputer\n",
    "from sklearn.preprocessing import StandardScaler, LabelEncoder\n",
    "\n",
    "# Read the CSV file\n",
    "file_path = 'train_data_knn_imputed.csv'\n",
    "df = pd.read_csv(file_path)\n",
    "\n",
    "# Select the column to encode and impute\n",
    "column_to_encode_and_impute = 'LevelProgressionAmount'\n",
    "\n",
    "# Encode the column\n",
    "label_encoder = LabelEncoder()\n",
    "df[column_to_encode_and_impute] = label_encoder.fit_transform(df[column_to_encode_and_impute].astype(str))\n",
    "\n",
    "# Create KNNImputer instance\n",
    "imputer = KNNImputer(n_neighbors=5)\n",
    "\n",
    "# Perform KNN imputation on the selected column\n",
    "df[[column_to_encode_and_impute]] = imputer.fit_transform(df[[column_to_encode_and_impute]])\n",
    "\n",
    "# Standardize the imputed column\n",
    "scaler = StandardScaler()\n",
    "df[[column_to_encode_and_impute]] = scaler.fit_transform(df[[column_to_encode_and_impute]])\n",
    "\n",
    "# Save the modified data back to the original file\n",
    "df.to_csv(file_path, index=False)\n",
    "\n",
    "print(f'Successfully encoded and performed KNN imputation on {column_to_encode_and_impute}. The result has been saved back to the original file {file_path}')\n"
   ]
  },
  {
   "cell_type": "markdown",
   "id": "147667a2-13c5-4c1c-80c5-946f85080643",
   "metadata": {
    "jp-MarkdownHeadingCollapsed": true,
    "tags": []
   },
   "source": [
    "### QuestionTiming-Dummy"
   ]
  },
  {
   "cell_type": "code",
   "execution_count": 10,
   "id": "231d75c8-277d-44b9-b7f7-53b080175eb4",
   "metadata": {
    "tags": []
   },
   "outputs": [
    {
     "name": "stdout",
     "output_type": "stream",
     "text": [
      "train_data_knn_imputed.csv\n"
     ]
    }
   ],
   "source": [
    "import pandas as pd\n",
    "\n",
    "file_path = 'train_data_knn_imputed.csv'\n",
    "df = pd.read_csv(file_path)\n",
    "\n",
    "df_encoded = pd.get_dummies(df, columns=['QuestionTiming'])\n",
    "\n",
    "df_encoded.to_csv(file_path, index=False)\n",
    "\n",
    "print(f'{file_path}')\n"
   ]
  },
  {
   "cell_type": "markdown",
   "id": "3de9be87-2a67-459e-bfef-88a5cd222846",
   "metadata": {
    "jp-MarkdownHeadingCollapsed": true,
    "tags": []
   },
   "source": [
    "### Mapping UserID with ResponseValue"
   ]
  },
  {
   "cell_type": "code",
   "execution_count": 11,
   "id": "49a753ad-716b-4e6f-9651-a3a88c32b005",
   "metadata": {
    "tags": []
   },
   "outputs": [
    {
     "name": "stdout",
     "output_type": "stream",
     "text": [
      "Successfully updated UserAvgResponse and saved the data back to the file train_data_knn_imputed.csv\n"
     ]
    }
   ],
   "source": [
    "file_path = 'train_data_knn_imputed.csv'\n",
    "df = pd.read_csv(file_path)\n",
    "\n",
    "# average responsevalue per user\n",
    "user_means = df.groupby('UserID')['ResponseValue'].mean()\n",
    "\n",
    "# overall average responsevalue\n",
    "global_mean = df['ResponseValue'].mean()\n",
    "\n",
    "# Creating new feature using average responsevalue per user\n",
    "df['UserAvgResponse'] = df['UserID'].map(user_means)\n",
    "\n",
    "# imputing missing value\n",
    "df['UserAvgResponse'].fillna(global_mean, inplace=True)\n",
    "\n",
    "# save new feature to file\n",
    "df.to_csv(file_path, index=False)\n",
    "\n",
    "print(f'Successfully updated UserAvgResponse and saved the data back to the file {file_path}')"
   ]
  },
  {
   "cell_type": "markdown",
   "id": "5100d655-f3b3-4405-bb50-24d8edb0ef2d",
   "metadata": {
    "jp-MarkdownHeadingCollapsed": true,
    "tags": []
   },
   "source": [
    "### Userid-Label"
   ]
  },
  {
   "cell_type": "code",
   "execution_count": 12,
   "id": "fccfa263-55af-49be-b52f-9ddfb00a93ae",
   "metadata": {
    "tags": []
   },
   "outputs": [
    {
     "name": "stdout",
     "output_type": "stream",
     "text": [
      "   UserID  CurrentGameMode  CurrentTask  CurrentSessionLength  \\\n",
      "0       0              4.0         49.0                     2   \n",
      "1       0              4.0         49.0                     0   \n",
      "2       0              0.0         21.0                     1   \n",
      "3       0              0.0         33.0                     6   \n",
      "4       0              0.0         33.0                    13   \n",
      "\n",
      "   LastTaskCompleted  LevelProgressionAmount QuestionType  ResponseValue  \\\n",
      "0               51.0                1.277095    Wellbeing          509.0   \n",
      "1               51.0                1.277095    Wellbeing          653.0   \n",
      "2               32.0                1.276479    Wellbeing          705.0   \n",
      "3               32.0               -1.295813    Wellbeing          817.0   \n",
      "4               32.0               -0.521869    Wellbeing          810.0   \n",
      "\n",
      "   Year  Month  ...  Second  Weekday  WeekendFlag  PeriodOfDay_Night  \\\n",
      "0  2022      8  ...      27        3            0              False   \n",
      "1  2022      8  ...      31        3            0              False   \n",
      "2  2022      8  ...      24        3            0              False   \n",
      "3  2022      8  ...       1        3            0              False   \n",
      "4  2022      8  ...      22        3            0              False   \n",
      "\n",
      "   PeriodOfDay_Morning  PeriodOfDay_Afternoon  PeriodOfDay_Evening  \\\n",
      "0                False                  False                 True   \n",
      "1                False                  False                 True   \n",
      "2                False                  False                 True   \n",
      "3                False                  False                 True   \n",
      "4                False                  False                 True   \n",
      "\n",
      "   QuestionTiming_System Initiated  QuestionTiming_User Initiated  \\\n",
      "0                            False                           True   \n",
      "1                             True                          False   \n",
      "2                            False                           True   \n",
      "3                             True                          False   \n",
      "4                             True                          False   \n",
      "\n",
      "   UserAvgResponse  \n",
      "0       724.318182  \n",
      "1       724.318182  \n",
      "2       724.318182  \n",
      "3       724.318182  \n",
      "4       724.318182  \n",
      "\n",
      "[5 rows x 23 columns]\n"
     ]
    }
   ],
   "source": [
    "import pandas as pd\n",
    "from sklearn.preprocessing import LabelEncoder\n",
    "\n",
    "train_data_path = 'train_data_knn_imputed.csv'\n",
    "train_df = pd.read_csv(train_data_path)\n",
    "\n",
    "label_encoder = LabelEncoder()\n",
    "\n",
    "train_df['UserID'] = label_encoder.fit_transform(train_df['UserID'])\n",
    "\n",
    "output_file_path = 'train_data_knn_imputed.csv'\n",
    "train_df.to_csv(output_file_path, index=False)\n",
    "\n",
    "print(train_df.head())\n"
   ]
  },
  {
   "cell_type": "markdown",
   "id": "15274ec8-2930-4615-90ab-72ae6c2c54e4",
   "metadata": {
    "jp-MarkdownHeadingCollapsed": true,
    "tags": []
   },
   "source": [
    "## Feature Importance"
   ]
  },
  {
   "cell_type": "markdown",
   "id": "f0b8d72f-04e2-43b9-afe7-d3b313904a18",
   "metadata": {
    "jp-MarkdownHeadingCollapsed": true,
    "tags": []
   },
   "source": [
    "#### CurrentGameMode"
   ]
  },
  {
   "cell_type": "code",
   "execution_count": 53,
   "id": "6839e28a-5896-497c-927f-ad1fa1809f08",
   "metadata": {
    "tags": []
   },
   "outputs": [
    {
     "name": "stdout",
     "output_type": "stream",
     "text": [
      "                          sum_sq        df           F  PR(>F)\n",
      "C(CurrentGameMode)  1.304125e+08       4.0  735.572934     0.0\n",
      "Residual            5.957734e+09  134415.0         NaN     NaN\n"
     ]
    }
   ],
   "source": [
    "train_data = pd.read_csv('train_data_knn_imputed.csv')\n",
    "# Fit the model\n",
    "model = ols('ResponseValue ~ C(CurrentGameMode)', data=train_data).fit()\n",
    "\n",
    "# Perform ANOVA\n",
    "anova_results = sm.stats.anova_lm(model, typ=2)  # Type 2 ANOVA DataFrame\n",
    "\n",
    "# Print the ANOVA table\n",
    "print(anova_results)"
   ]
  },
  {
   "cell_type": "markdown",
   "id": "8cba119a-0008-4f89-b5ae-9c08c17dbca1",
   "metadata": {
    "jp-MarkdownHeadingCollapsed": true,
    "tags": []
   },
   "source": [
    "#### QuestionTiming"
   ]
  },
  {
   "cell_type": "code",
   "execution_count": 56,
   "id": "1baa8b4e-ec8d-4c99-bbf8-7e65f81fced5",
   "metadata": {
    "tags": []
   },
   "outputs": [
    {
     "name": "stdout",
     "output_type": "stream",
     "text": [
      "Correlation: 0.025074037858450724, P-value: 3.773108096097224e-20\n"
     ]
    }
   ],
   "source": [
    "from scipy.stats import pointbiserialr\n",
    "\n",
    "train_data = pd.read_csv('train_data_knn_imputed.csv')\n",
    "\n",
    "# Calculate point-biserial correlation\n",
    "correlation, p_value = pointbiserialr(train_data['QuestionTiming_System Initiated'], train_data['ResponseValue'])\n",
    "print(f\"Correlation: {correlation}, P-value: {p_value}\")"
   ]
  },
  {
   "cell_type": "code",
   "execution_count": 58,
   "id": "a2bbbb73-59ae-4c4e-9a55-c6d680a69f97",
   "metadata": {
    "tags": []
   },
   "outputs": [
    {
     "name": "stdout",
     "output_type": "stream",
     "text": [
      "Correlation: -0.025074037858450724, P-value: 3.773108096097224e-20\n"
     ]
    }
   ],
   "source": [
    "from scipy.stats import pointbiserialr\n",
    "\n",
    "train_data = pd.read_csv('train_data_knn_imputed.csv')\n",
    "\n",
    "# Calculate point-biserial correlation\n",
    "correlation, p_value = pointbiserialr(train_data['QuestionTiming_User Initiated'], train_data['ResponseValue'])\n",
    "print(f\"Correlation: {correlation}, P-value: {p_value}\")"
   ]
  },
  {
   "cell_type": "markdown",
   "id": "684909a7-b99e-4a42-a58b-bb87b0a384b6",
   "metadata": {
    "jp-MarkdownHeadingCollapsed": true,
    "tags": []
   },
   "source": [
    "#### CurrentSessionLength"
   ]
  },
  {
   "cell_type": "code",
   "execution_count": 59,
   "id": "913ca33a-c48c-427f-86b6-99c0eb607ebf",
   "metadata": {
    "tags": []
   },
   "outputs": [
    {
     "name": "stdout",
     "output_type": "stream",
     "text": [
      "Correlation between CurrentSessionLength and ResponseValue: 0.060919849473147006\n"
     ]
    }
   ],
   "source": [
    "correlation = train_data['CurrentSessionLength'].corr(train_data['ResponseValue'])\n",
    "print(f'Correlation between CurrentSessionLength and ResponseValue: {correlation}')"
   ]
  },
  {
   "cell_type": "markdown",
   "id": "97d0f283-4ae1-4e9c-bf80-c6c9cdbc08a8",
   "metadata": {
    "jp-MarkdownHeadingCollapsed": true,
    "tags": []
   },
   "source": [
    "#### CurrentTask & LastTaskCompleted"
   ]
  },
  {
   "cell_type": "code",
   "execution_count": 60,
   "id": "dda853ff-000b-4bf2-92cc-800fadb7ce3d",
   "metadata": {
    "tags": []
   },
   "outputs": [
    {
     "name": "stdout",
     "output_type": "stream",
     "text": [
      "Correlation between CurrentTask and ResponseValue: -0.0935093415481444\n",
      "Correlation between LastTaskCompleted and ResponseValue: -0.06294934479613248\n"
     ]
    }
   ],
   "source": [
    "train_data = pd.read_csv('train_data_knn_imputed.csv')\n",
    "\n",
    "corr_current_task = train_data['CurrentTask'].corr(train_data['ResponseValue'])\n",
    "corr_last_task_completed = train_data['LastTaskCompleted'].corr(train_data['ResponseValue'])\n",
    "\n",
    "print(f'Correlation between CurrentTask and ResponseValue: {corr_current_task}')\n",
    "print(f'Correlation between LastTaskCompleted and ResponseValue: {corr_last_task_completed}')"
   ]
  },
  {
   "cell_type": "markdown",
   "id": "ff94c7de-1803-49aa-ba00-95e13f980eb0",
   "metadata": {
    "jp-MarkdownHeadingCollapsed": true,
    "tags": []
   },
   "source": [
    "#### LevelProgressionAmount"
   ]
  },
  {
   "cell_type": "code",
   "execution_count": 61,
   "id": "441e3cfb-5787-4867-b669-5baa7dc4ea45",
   "metadata": {
    "tags": []
   },
   "outputs": [
    {
     "name": "stdout",
     "output_type": "stream",
     "text": [
      "Correlation between LevelProgressionAmount and ResponseValue: -0.0508105841171102\n"
     ]
    }
   ],
   "source": [
    "correlation = train_data['LevelProgressionAmount'].corr(train_data['ResponseValue'])\n",
    "print(f'Correlation between LevelProgressionAmount and ResponseValue: {correlation}')"
   ]
  },
  {
   "cell_type": "markdown",
   "id": "7978cf27-bc77-4786-8e41-061d4bc700c9",
   "metadata": {
    "jp-MarkdownHeadingCollapsed": true,
    "tags": []
   },
   "source": [
    "#### TimeUtc"
   ]
  },
  {
   "cell_type": "markdown",
   "id": "0f6f2f9e-680b-4880-a3d2-4259895ad1df",
   "metadata": {
    "jp-MarkdownHeadingCollapsed": true,
    "tags": []
   },
   "source": [
    "##### Weekday"
   ]
  },
  {
   "cell_type": "code",
   "execution_count": 62,
   "id": "126cba2f-3dc3-47ce-8970-89948bf3ccbd",
   "metadata": {
    "tags": []
   },
   "outputs": [
    {
     "name": "stdout",
     "output_type": "stream",
     "text": [
      "[3 4 5 6 0 2 1]\n",
      "F-statistic: 9.982346547601745\n",
      "P-value: 4.757252476160118e-11\n"
     ]
    }
   ],
   "source": [
    "weekday_unique_values = train_data['Weekday'].unique()\n",
    "print(weekday_unique_values)\n",
    "\n",
    "from scipy.stats import f_oneway\n",
    "\n",
    "grouped_data = [train_data[train_data['Weekday'] == i]['ResponseValue'] for i in range(7)]\n",
    "\n",
    "f_stat, p_val = f_oneway(*grouped_data)\n",
    "print('F-statistic:', f_stat)\n",
    "print('P-value:', p_val)"
   ]
  },
  {
   "cell_type": "code",
   "execution_count": 63,
   "id": "2ee2d200-d8b1-47ed-926e-10ae5b203e6a",
   "metadata": {
    "tags": []
   },
   "outputs": [
    {
     "data": {
      "image/png": "[encoded data removed]",
      "text/plain": [
       "<Figure size 1000x600 with 1 Axes>"
      ]
     },
     "metadata": {},
     "output_type": "display_data"
    }
   ],
   "source": [
    "import seaborn as sns\n",
    "import matplotlib.pyplot as plt\n",
    "\n",
    "plt.figure(figsize=(10, 6))\n",
    "sns.boxplot(x='Weekday', y='ResponseValue', data=train_data)\n",
    "plt.title('ResponseValue by Weekday')\n",
    "plt.xlabel('Weekday')\n",
    "plt.ylabel('ResponseValue')\n",
    "plt.show()"
   ]
  },
  {
   "cell_type": "code",
   "execution_count": 64,
   "id": "bf728d1f-0648-4307-aff4-04bc7a82dac3",
   "metadata": {
    "tags": []
   },
   "outputs": [
    {
     "name": "stdout",
     "output_type": "stream",
     "text": [
      " Multiple Comparison of Means - Tukey HSD, FWER=0.05 \n",
      "=====================================================\n",
      "group1 group2 meandiff p-adj   lower    upper  reject\n",
      "-----------------------------------------------------\n",
      "     0      1  -4.5432 0.4142 -11.2391  2.1527  False\n",
      "     0      2  -0.6859 0.9999   -7.377  6.0052  False\n",
      "     0      3  -3.1834 0.7864  -9.7533  3.3864  False\n",
      "     0      4   0.2729    1.0  -6.0571  6.6029  False\n",
      "     0      5   6.4562 0.0382   0.1944  12.718   True\n",
      "     0      6   8.4067 0.0017   2.0817 14.7317   True\n",
      "     1      2   3.8573 0.6415  -2.9846 10.6992  False\n",
      "     1      3   1.3598 0.9969  -5.3636  8.0832  False\n",
      "     1      4   4.8161 0.3018  -1.6731 11.3053  False\n",
      "     1      5  10.9994    0.0   4.5767 17.4221   True\n",
      "     1      6  12.9499    0.0   6.4655 19.4343   True\n",
      "     2      3  -2.4975 0.9295  -9.2161  4.2211  False\n",
      "     2      4   0.9588 0.9995  -5.5255  7.4431  False\n",
      "     2      5   7.1421 0.0179   0.7243 13.5598   True\n",
      "     2      6   9.0926 0.0007   2.6132 15.5721   True\n",
      "     3      4   3.4563 0.6808  -2.9028  9.8154  False\n",
      "     3      5   9.6396 0.0001   3.3484 15.9308   True\n",
      "     3      6  11.5901    0.0    5.236 17.9443   True\n",
      "     4      5   6.1833 0.0408    0.143 12.2236   True\n",
      "     4      6   8.1338 0.0017    2.028 14.2397   True\n",
      "     5      6   1.9505 0.9637  -4.0846  7.9857  False\n",
      "-----------------------------------------------------\n"
     ]
    },
    {
     "data": {
      "image/png": "[encoded data removed]",
      "text/plain": [
       "<Figure size 1000x600 with 1 Axes>"
      ]
     },
     "metadata": {},
     "output_type": "display_data"
    }
   ],
   "source": [
    "from statsmodels.stats.multicomp import pairwise_tukeyhsd\n",
    "\n",
    "tukey = pairwise_tukeyhsd(endog=train_data['ResponseValue'], groups=train_data['Weekday'], alpha=0.05)\n",
    "print(tukey)\n",
    "\n",
    "tukey.plot_simultaneous()\n",
    "plt.show()"
   ]
  },
  {
   "cell_type": "markdown",
   "id": "faf00c86-f330-49b6-89d1-e77ceb5685b2",
   "metadata": {
    "jp-MarkdownHeadingCollapsed": true,
    "tags": []
   },
   "source": [
    "##### Weekend"
   ]
  },
  {
   "cell_type": "code",
   "execution_count": 65,
   "id": "6d4724cf-2900-4c70-85ca-5c8ff837fbd9",
   "metadata": {
    "tags": []
   },
   "outputs": [
    {
     "name": "stdout",
     "output_type": "stream",
     "text": [
      "[0 1]\n",
      "Point-Biserial Correlation: 0.019626286413512523, P-value: 6.187889079493329e-13\n",
      "Mean on Weekdays: 756.1773873369965, Mean on Weekends: 765.1190305497098\n",
      "T-statistic: -7.196983488263627, P-value: 6.187889079510141e-13\n"
     ]
    },
    {
     "data": {
      "image/png": "[encoded data removed]",
      "text/plain": [
       "<Figure size 800x600 with 1 Axes>"
      ]
     },
     "metadata": {},
     "output_type": "display_data"
    }
   ],
   "source": [
    "from scipy.stats import pointbiserialr, ttest_ind\n",
    "\n",
    "WeekendFlag_unique_values = train_data['WeekendFlag'].unique()\n",
    "print(WeekendFlag_unique_values)\n",
    "\n",
    "correlation, p_value = pointbiserialr(train_data['WeekendFlag'], train_data['ResponseValue'])\n",
    "print(f\"Point-Biserial Correlation: {correlation}, P-value: {p_value}\")\n",
    "\n",
    "mean_weekday = train_data[train_data['WeekendFlag'] == 0]['ResponseValue'].mean()\n",
    "mean_weekend = train_data[train_data['WeekendFlag'] == 1]['ResponseValue'].mean()\n",
    "print(f\"Mean on Weekdays: {mean_weekday}, Mean on Weekends: {mean_weekend}\")\n",
    "\n",
    "group_weekday = train_data[train_data['WeekendFlag'] == 0]['ResponseValue']\n",
    "group_weekend = train_data[train_data['WeekendFlag'] == 1]['ResponseValue']\n",
    "t_stat, p_val = ttest_ind(group_weekday, group_weekend)\n",
    "print(f\"T-statistic: {t_stat}, P-value: {p_val}\")\n",
    "\n",
    "plt.figure(figsize=(8, 6))\n",
    "sns.boxplot(x='WeekendFlag', y='ResponseValue', data=train_data)\n",
    "plt.title('ResponseValue by WeekendFlag')\n",
    "plt.xlabel('WeekendFlag')\n",
    "plt.ylabel('ResponseValue')\n",
    "plt.show()"
   ]
  },
  {
   "cell_type": "markdown",
   "id": "5af25efc-18f8-4b16-bfd5-ac65e42c8b7d",
   "metadata": {
    "jp-MarkdownHeadingCollapsed": true,
    "tags": []
   },
   "source": [
    "##### Period of day"
   ]
  },
  {
   "cell_type": "code",
   "execution_count": 66,
   "id": "8e1aceb2-c60b-43dc-aa60-5fe2a2017e83",
   "metadata": {
    "tags": []
   },
   "outputs": [
    {
     "name": "stdout",
     "output_type": "stream",
     "text": [
      "                            OLS Regression Results                            \n",
      "==============================================================================\n",
      "Dep. Variable:          ResponseValue   R-squared:                       0.000\n",
      "Model:                            OLS   Adj. R-squared:                  0.000\n",
      "Method:                 Least Squares   F-statistic:                     14.86\n",
      "Date:                Fri, 24 May 2024   Prob (F-statistic):           1.13e-09\n",
      "Time:                        23:21:16   Log-Likelihood:            -9.1126e+05\n",
      "No. Observations:              134420   AIC:                         1.823e+06\n",
      "Df Residuals:                  134416   BIC:                         1.823e+06\n",
      "Df Model:                           3                                         \n",
      "Covariance Type:            nonrobust                                         \n",
      "=================================================================================================\n",
      "                                    coef    std err          t      P>|t|      [0.025      0.975]\n",
      "-------------------------------------------------------------------------------------------------\n",
      "Intercept                       758.8099      1.452    522.692      0.000     755.964     761.655\n",
      "PeriodOfDay_Afternoon[T.True]    -4.2965      1.899     -2.262      0.024      -8.019      -0.574\n",
      "PeriodOfDay_Evening[T.True]      -1.6446      1.780     -0.924      0.355      -5.132       1.843\n",
      "PeriodOfDay_Night[T.True]         5.8180      1.800      3.233      0.001       2.290       9.346\n",
      "==============================================================================\n",
      "Omnibus:                    14513.912   Durbin-Watson:                   0.638\n",
      "Prob(Omnibus):                  0.000   Jarque-Bera (JB):            19671.237\n",
      "Skew:                          -0.902   Prob(JB):                         0.00\n",
      "Kurtosis:                       3.508   Cond. No.                         5.90\n",
      "==============================================================================\n",
      "\n",
      "Notes:\n",
      "[1] Standard Errors assume that the covariance matrix of the errors is correctly specified.\n"
     ]
    }
   ],
   "source": [
    "import statsmodels.formula.api as smf\n",
    "\n",
    "formula = 'ResponseValue ~ PeriodOfDay_Afternoon + PeriodOfDay_Evening + PeriodOfDay_Night'\n",
    "\n",
    "model = smf.ols(formula, data=train_data).fit()\n",
    "\n",
    "print(model.summary())"
   ]
  },
  {
   "cell_type": "markdown",
   "id": "c9ba45de-8d1a-49af-ae74-79eeb2f2b683",
   "metadata": {
    "jp-MarkdownHeadingCollapsed": true,
    "tags": []
   },
   "source": [
    "#### Lasso"
   ]
  },
  {
   "cell_type": "code",
   "execution_count": null,
   "id": "539535f8-47ab-44da-a060-79b61123fd2f",
   "metadata": {
    "tags": []
   },
   "outputs": [
    {
     "data": {
      "image/png": "[encoded data removed]",
      "text/plain": [
       "<Figure size 1000x600 with 1 Axes>"
      ]
     },
     "metadata": {},
     "output_type": "display_data"
    }
   ],
   "source": [
    "import pandas as pd\n",
    "from sklearn.linear_model import Lasso\n",
    "from sklearn.model_selection import train_test_split\n",
    "import matplotlib.pyplot as plt\n",
    "\n",
    "file_path = 'train_data_knn_imputed.csv'  \n",
    "final_data = pd.read_csv(file_path)\n",
    "\n",
    "target = 'ResponseValue'\n",
    "features = final_data.drop(columns=[target,'QuestionType'])\n",
    "target_data = final_data[target]\n",
    "\n",
    "X_train, X_test, y_train, y_test = train_test_split(features, target_data, test_size=0.2, random_state=42)\n",
    "\n",
    "lasso = Lasso(alpha=0.1)  \n",
    "lasso.fit(X_train, y_train)\n",
    "\n",
    "coefficients = lasso.coef_\n",
    "\n",
    "feature_importance = pd.DataFrame({'Feature': features.columns, 'Importance': coefficients})\n",
    "feature_importance = feature_importance.sort_values(by='Importance', ascending=False)\n",
    "\n",
    "plt.figure(figsize=(10, 6))\n",
    "plt.barh(feature_importance['Feature'], feature_importance['Importance'])\n",
    "plt.xlabel('Importance')\n",
    "plt.ylabel('Feature')\n",
    "plt.title('Feature Importance from Lasso Regression')\n",
    "plt.show()\n"
   ]
  },
  {
   "cell_type": "markdown",
   "id": "046f287c-4085-4371-9605-823dae1c4b98",
   "metadata": {
    "jp-MarkdownHeadingCollapsed": true,
    "tags": []
   },
   "source": [
    "#### XGBoost"
   ]
  },
  {
   "cell_type": "code",
   "execution_count": 17,
   "id": "37378db7-be02-4c4a-b61e-ae75fbd15391",
   "metadata": {
    "tags": []
   },
   "outputs": [
    {
     "data": {
      "image/png": "[encoded data removed]",
      "text/plain": [
       "<Figure size 1000x600 with 1 Axes>"
      ]
     },
     "metadata": {},
     "output_type": "display_data"
    }
   ],
   "source": [
    "import pandas as pd\n",
    "import xgboost as xgb\n",
    "from sklearn.model_selection import train_test_split\n",
    "import matplotlib.pyplot as plt\n",
    "\n",
    "file_path = 'train_data_knn_imputed.csv' \n",
    "final_data = pd.read_csv(file_path)\n",
    "\n",
    "target = 'ResponseValue'\n",
    "features = final_data.drop(columns=[target,'QuestionType'])\n",
    "target_data = final_data[target]\n",
    "\n",
    "X_train, X_test, y_train, y_test = train_test_split(features, target_data, test_size=0.2, random_state=42)\n",
    "\n",
    "xgb_model = xgb.XGBRegressor(objective='reg:squarederror', random_state=42)\n",
    "xgb_model.fit(X_train, y_train)\n",
    "\n",
    "importance = xgb_model.feature_importances_\n",
    "\n",
    "feature_importance_xgb = pd.DataFrame({'Feature': features.columns, 'Importance': importance})\n",
    "feature_importance_xgb = feature_importance_xgb.sort_values(by='Importance', ascending=False)\n",
    "\n",
    "plt.figure(figsize=(10, 6))\n",
    "plt.barh(feature_importance_xgb['Feature'], feature_importance_xgb['Importance'])\n",
    "plt.xlabel('Importance')\n",
    "plt.ylabel('Feature')\n",
    "plt.title('Feature Importance from XGBoost')\n",
    "plt.show()\n"
   ]
  },
  {
   "cell_type": "markdown",
   "id": "18d48f25-b981-4a87-bf50-4b0934df0627",
   "metadata": {
    "jp-MarkdownHeadingCollapsed": true,
    "tags": []
   },
   "source": [
    "# Test_data"
   ]
  },
  {
   "cell_type": "code",
   "execution_count": 34,
   "id": "850d958c-5ebc-4661-9c70-38d01cee8b01",
   "metadata": {
    "tags": []
   },
   "outputs": [],
   "source": [
    "test_data= pd.read_csv('data/test_data.csv')"
   ]
  },
  {
   "cell_type": "markdown",
   "id": "deb80caf-6450-4754-a38a-f1486ec10954",
   "metadata": {
    "tags": []
   },
   "source": [
    "### CurrentTask, LastTaskCompleted-Encoding "
   ]
  },
  {
   "cell_type": "code",
   "execution_count": 38,
   "id": "d00d565e-d4f3-4c7b-a21a-628f187f1dd2",
   "metadata": {
    "tags": []
   },
   "outputs": [],
   "source": [
    "import pandas as pd\n",
    "from sklearn.preprocessing import LabelEncoder\n",
    "\n",
    "test_data_path = 'data/test_data.csv'\n",
    "test_df = pd.read_csv(test_data_path)\n",
    "\n",
    "label_encoder = LabelEncoder()\n",
    "\n",
    "if test_df['CurrentTask'].dtype == 'object':\n",
    "    test_df['CurrentTask'] = label_encoder.fit_transform(test_df['CurrentTask'].astype(str))\n",
    "\n",
    "if test_df['LastTaskCompleted'].dtype == 'object':\n",
    "    test_df['LastTaskCompleted'] = label_encoder.fit_transform(test_df['LastTaskCompleted'].astype(str))\n",
    "\n",
    "output_file_path = 'test_data_knn_imputed.csv'\n",
    "test_df.to_csv(output_file_path, index=False)\n"
   ]
  },
  {
   "cell_type": "markdown",
   "id": "5fcd3df6-89b2-41aa-9add-426d47e0c013",
   "metadata": {
    "tags": []
   },
   "source": [
    "### CurrentTask, LastTaskCompleted-KNN"
   ]
  },
  {
   "cell_type": "code",
   "execution_count": 39,
   "id": "7bd8d389-a56d-438e-97a3-c80427f68711",
   "metadata": {
    "tags": []
   },
   "outputs": [
    {
     "name": "stdout",
     "output_type": "stream",
     "text": [
      "Processed testing data with imputed values:\n",
      "  UserID    QuestionTiming              TimeUtc CurrentGameMode  CurrentTask  \\\n",
      "0     p1  System Initiated  2022-08-28 15:50:22             NaN         50.0   \n",
      "1     p1    User Initiated  2022-08-28 16:05:02          Career         32.0   \n",
      "2     p1    User Initiated  2022-09-07 03:31:50             NaN         50.0   \n",
      "3     p1  System Initiated  2022-09-08 01:30:05             NaN         50.0   \n",
      "4     p1  System Initiated  2022-09-08 01:43:45          Career         32.0   \n",
      "\n",
      "   CurrentSessionLength  LastTaskCompleted  LevelProgressionAmount  \\\n",
      "0                     0               51.0                     NaN   \n",
      "1                    14               51.0                0.563458   \n",
      "2                     0               51.0                     NaN   \n",
      "3                     0               51.0                     NaN   \n",
      "4                    13               51.0                0.829827   \n",
      "\n",
      "  QuestionType  \n",
      "0    Wellbeing  \n",
      "1    Wellbeing  \n",
      "2    Wellbeing  \n",
      "3    Wellbeing  \n",
      "4    Wellbeing  \n"
     ]
    }
   ],
   "source": [
    "from sklearn.impute import KNNImputer\n",
    "\n",
    "test_data = pd.read_csv('test_data_knn_imputed.csv')\n",
    "\n",
    "# Select the two features 'CurrentTask_TargetEncoded' and 'LastTaskCompleted_TargetEncoded'\n",
    "features_to_impute = ['CurrentTask', 'LastTaskCompleted']\n",
    "\n",
    "# Initialize KNN imputer\n",
    "imputer = KNNImputer(n_neighbors=5)\n",
    "\n",
    "# Impute the missing values\n",
    "imputed_data = imputer.fit_transform(test_data[features_to_impute])\n",
    "\n",
    "# Transfer the filled data back to the DataFrame\n",
    "imputed_df = pd.DataFrame(imputed_data, columns=features_to_impute, index=test_data.index)\n",
    "\n",
    "# Re-assign the filled features back to the original dataset\n",
    "test_data[features_to_impute] = imputed_df[features_to_impute]\n",
    "\n",
    "print(\"Processed testing data with imputed values:\")\n",
    "print(test_data.head())\n",
    "\n",
    "# Save the imputed data to a new csv file\n",
    "test_output_file_path = 'test_data_knn_imputed.csv'\n",
    "test_data.to_csv(test_output_file_path, index=False)"
   ]
  },
  {
   "cell_type": "markdown",
   "id": "01cdd471-de3c-4445-9709-67bb1ab982ce",
   "metadata": {
    "tags": []
   },
   "source": [
    "### CurrentGameMode-Encoding"
   ]
  },
  {
   "cell_type": "code",
   "execution_count": 40,
   "id": "c0ece48c-30f7-48b5-96b7-ad2741e15341",
   "metadata": {
    "tags": []
   },
   "outputs": [
    {
     "name": "stdout",
     "output_type": "stream",
     "text": [
      "[nan 'Career' 'FreePlay' 'Special' 'Challenge']\n"
     ]
    }
   ],
   "source": [
    "from sklearn.preprocessing import LabelEncoder\n",
    "\n",
    "# load the data\n",
    "test_data = pd.read_csv('test_data_knn_imputed.csv')\n",
    "print(test_data['CurrentGameMode'].unique())\n",
    "\n",
    "# Initialize LabelEncoder\n",
    "le = LabelEncoder()\n",
    "\n",
    "# Encoding 'CurrentGameMode' using Label Encoding\n",
    "test_data['CurrentGameMode'] = le.fit_transform(test_data['CurrentGameMode'])"
   ]
  },
  {
   "cell_type": "markdown",
   "id": "c0e92a91-f457-487b-aa29-a7a9025a541e",
   "metadata": {
    "tags": []
   },
   "source": [
    "### CurrentGameMode-KNN"
   ]
  },
  {
   "cell_type": "code",
   "execution_count": 41,
   "id": "a6692818-fa64-40eb-954b-12295d089b60",
   "metadata": {
    "tags": []
   },
   "outputs": [
    {
     "name": "stdout",
     "output_type": "stream",
     "text": [
      "Processed testing data with imputed CurrentGameMode:\n",
      "  UserID    QuestionTiming              TimeUtc  CurrentGameMode  CurrentTask  \\\n",
      "0     p1  System Initiated  2022-08-28 15:50:22              4.0         50.0   \n",
      "1     p1    User Initiated  2022-08-28 16:05:02              0.0         32.0   \n",
      "2     p1    User Initiated  2022-09-07 03:31:50              4.0         50.0   \n",
      "3     p1  System Initiated  2022-09-08 01:30:05              4.0         50.0   \n",
      "4     p1  System Initiated  2022-09-08 01:43:45              0.0         32.0   \n",
      "\n",
      "   CurrentSessionLength  LastTaskCompleted  LevelProgressionAmount  \\\n",
      "0                     0               51.0                     NaN   \n",
      "1                    14               51.0                0.563458   \n",
      "2                     0               51.0                     NaN   \n",
      "3                     0               51.0                     NaN   \n",
      "4                    13               51.0                0.829827   \n",
      "\n",
      "  QuestionType  \n",
      "0    Wellbeing  \n",
      "1    Wellbeing  \n",
      "2    Wellbeing  \n",
      "3    Wellbeing  \n",
      "4    Wellbeing  \n"
     ]
    }
   ],
   "source": [
    "# Initialize KNN Imputer\n",
    "imputer = KNNImputer(n_neighbors=5)\n",
    "\n",
    "# Select feature 'CurrentGameMode_LabelEncoded' to be imputed\n",
    "features_to_impute = ['CurrentGameMode', 'CurrentTask']\n",
    "\n",
    "# Impute the missing values\n",
    "imputed_data = imputer.fit_transform(test_data[features_to_impute])\n",
    "\n",
    "# Transfer the filled data back to the DataFrame\n",
    "imputed_df = pd.DataFrame(imputed_data, columns=features_to_impute, index=test_data.index)\n",
    "\n",
    "# Re-new the original 'CurrentGameMode_LabelEncoded' data \n",
    "test_data['CurrentGameMode'] = imputed_df['CurrentGameMode']\n",
    "\n",
    "print(\"Processed testing data with imputed CurrentGameMode:\")\n",
    "print(test_data.head())\n",
    "\n",
    "# Save and renew the file\n",
    "test_output_file_path = 'test_data_knn_imputed.csv'\n",
    "test_data.to_csv(test_output_file_path, index=False)"
   ]
  },
  {
   "cell_type": "markdown",
   "id": "87a09701-716a-422d-b495-3d12a39a6bb5",
   "metadata": {
    "tags": []
   },
   "source": [
    "### TimeUtc-Convert Format"
   ]
  },
  {
   "cell_type": "code",
   "execution_count": 42,
   "id": "a7c19405-b5d0-4cc4-a5ad-63fbaecc56dd",
   "metadata": {
    "tags": []
   },
   "outputs": [],
   "source": [
    "test_data = pd.read_csv(\"test_data_knn_imputed.csv\")\n",
    "\n",
    "# Ensure TimeUtc is a datetime type\n",
    "test_data['TimeUtc'] = pd.to_datetime(test_data['TimeUtc'])\n",
    "\n",
    "# Extract components\n",
    "test_data['Year'] = test_data['TimeUtc'].dt.year\n",
    "test_data['Month'] = test_data['TimeUtc'].dt.month\n",
    "test_data['Day'] = test_data['TimeUtc'].dt.day\n",
    "test_data['Hour'] = test_data['TimeUtc'].dt.hour\n",
    "test_data['Minute'] = test_data['TimeUtc'].dt.minute\n",
    "test_data['Second'] = test_data['TimeUtc'].dt.second\n",
    "\n",
    "# Separate weekday and weekend days\n",
    "test_data['Weekday'] = test_data['TimeUtc'].dt.dayofweek\n",
    "test_data['WeekendFlag'] = (test_data['TimeUtc'].dt.weekday >= 5).astype(int)\n",
    "\n",
    "# Categorize different times of day into periods\n",
    "time_bins = [0, 6, 12, 18, 24]  # Define time_bins as 0-6, 6-12, 12-18, 18-24\n",
    "time_labels = ['Night', 'Morning', 'Afternoon', 'Evening']\n",
    "test_data['PeriodOfDay'] = pd.cut(test_data['TimeUtc'].dt.hour, bins=time_bins, labels=time_labels, right=False)\n",
    "\n",
    "# Remove the original Timestamp column to avoid redundancy\n",
    "test_data.drop('TimeUtc', axis=1, inplace=True)\n"
   ]
  },
  {
   "cell_type": "markdown",
   "id": "d529985c-d61e-44fb-9744-05654d787e09",
   "metadata": {
    "tags": []
   },
   "source": [
    "### TimeUtc-Encoding"
   ]
  },
  {
   "cell_type": "code",
   "execution_count": 43,
   "id": "a80f8933-126f-4640-be0f-03b8cc9e3386",
   "metadata": {
    "tags": []
   },
   "outputs": [
    {
     "data": {
      "text/html": [
       "<div>\n",
       "<style scoped>\n",
       "    .dataframe tbody tr th:only-of-type {\n",
       "        vertical-align: middle;\n",
       "    }\n",
       "\n",
       "    .dataframe tbody tr th {\n",
       "        vertical-align: top;\n",
       "    }\n",
       "\n",
       "    .dataframe thead th {\n",
       "        text-align: right;\n",
       "    }\n",
       "</style>\n",
       "<table border=\"1\" class=\"dataframe\">\n",
       "  <thead>\n",
       "    <tr style=\"text-align: right;\">\n",
       "      <th></th>\n",
       "      <th>UserID</th>\n",
       "      <th>QuestionTiming</th>\n",
       "      <th>CurrentGameMode</th>\n",
       "      <th>CurrentTask</th>\n",
       "      <th>CurrentSessionLength</th>\n",
       "      <th>LastTaskCompleted</th>\n",
       "      <th>LevelProgressionAmount</th>\n",
       "      <th>QuestionType</th>\n",
       "      <th>Year</th>\n",
       "      <th>Month</th>\n",
       "      <th>Day</th>\n",
       "      <th>Hour</th>\n",
       "      <th>Minute</th>\n",
       "      <th>Second</th>\n",
       "      <th>Weekday</th>\n",
       "      <th>WeekendFlag</th>\n",
       "      <th>PeriodOfDay_Night</th>\n",
       "      <th>PeriodOfDay_Morning</th>\n",
       "      <th>PeriodOfDay_Afternoon</th>\n",
       "      <th>PeriodOfDay_Evening</th>\n",
       "    </tr>\n",
       "  </thead>\n",
       "  <tbody>\n",
       "    <tr>\n",
       "      <th>0</th>\n",
       "      <td>p1</td>\n",
       "      <td>System Initiated</td>\n",
       "      <td>4.0</td>\n",
       "      <td>50.0</td>\n",
       "      <td>0</td>\n",
       "      <td>51.0</td>\n",
       "      <td>NaN</td>\n",
       "      <td>Wellbeing</td>\n",
       "      <td>2022</td>\n",
       "      <td>8</td>\n",
       "      <td>28</td>\n",
       "      <td>15</td>\n",
       "      <td>50</td>\n",
       "      <td>22</td>\n",
       "      <td>6</td>\n",
       "      <td>1</td>\n",
       "      <td>False</td>\n",
       "      <td>False</td>\n",
       "      <td>True</td>\n",
       "      <td>False</td>\n",
       "    </tr>\n",
       "    <tr>\n",
       "      <th>1</th>\n",
       "      <td>p1</td>\n",
       "      <td>User Initiated</td>\n",
       "      <td>0.0</td>\n",
       "      <td>32.0</td>\n",
       "      <td>14</td>\n",
       "      <td>51.0</td>\n",
       "      <td>0.563458</td>\n",
       "      <td>Wellbeing</td>\n",
       "      <td>2022</td>\n",
       "      <td>8</td>\n",
       "      <td>28</td>\n",
       "      <td>16</td>\n",
       "      <td>5</td>\n",
       "      <td>2</td>\n",
       "      <td>6</td>\n",
       "      <td>1</td>\n",
       "      <td>False</td>\n",
       "      <td>False</td>\n",
       "      <td>True</td>\n",
       "      <td>False</td>\n",
       "    </tr>\n",
       "    <tr>\n",
       "      <th>2</th>\n",
       "      <td>p1</td>\n",
       "      <td>User Initiated</td>\n",
       "      <td>4.0</td>\n",
       "      <td>50.0</td>\n",
       "      <td>0</td>\n",
       "      <td>51.0</td>\n",
       "      <td>NaN</td>\n",
       "      <td>Wellbeing</td>\n",
       "      <td>2022</td>\n",
       "      <td>9</td>\n",
       "      <td>7</td>\n",
       "      <td>3</td>\n",
       "      <td>31</td>\n",
       "      <td>50</td>\n",
       "      <td>2</td>\n",
       "      <td>0</td>\n",
       "      <td>True</td>\n",
       "      <td>False</td>\n",
       "      <td>False</td>\n",
       "      <td>False</td>\n",
       "    </tr>\n",
       "    <tr>\n",
       "      <th>3</th>\n",
       "      <td>p1</td>\n",
       "      <td>System Initiated</td>\n",
       "      <td>4.0</td>\n",
       "      <td>50.0</td>\n",
       "      <td>0</td>\n",
       "      <td>51.0</td>\n",
       "      <td>NaN</td>\n",
       "      <td>Wellbeing</td>\n",
       "      <td>2022</td>\n",
       "      <td>9</td>\n",
       "      <td>8</td>\n",
       "      <td>1</td>\n",
       "      <td>30</td>\n",
       "      <td>5</td>\n",
       "      <td>3</td>\n",
       "      <td>0</td>\n",
       "      <td>True</td>\n",
       "      <td>False</td>\n",
       "      <td>False</td>\n",
       "      <td>False</td>\n",
       "    </tr>\n",
       "    <tr>\n",
       "      <th>4</th>\n",
       "      <td>p1</td>\n",
       "      <td>System Initiated</td>\n",
       "      <td>0.0</td>\n",
       "      <td>32.0</td>\n",
       "      <td>13</td>\n",
       "      <td>51.0</td>\n",
       "      <td>0.829827</td>\n",
       "      <td>Wellbeing</td>\n",
       "      <td>2022</td>\n",
       "      <td>9</td>\n",
       "      <td>8</td>\n",
       "      <td>1</td>\n",
       "      <td>43</td>\n",
       "      <td>45</td>\n",
       "      <td>3</td>\n",
       "      <td>0</td>\n",
       "      <td>True</td>\n",
       "      <td>False</td>\n",
       "      <td>False</td>\n",
       "      <td>False</td>\n",
       "    </tr>\n",
       "  </tbody>\n",
       "</table>\n",
       "</div>"
      ],
      "text/plain": [
       "  UserID    QuestionTiming  CurrentGameMode  CurrentTask  \\\n",
       "0     p1  System Initiated              4.0         50.0   \n",
       "1     p1    User Initiated              0.0         32.0   \n",
       "2     p1    User Initiated              4.0         50.0   \n",
       "3     p1  System Initiated              4.0         50.0   \n",
       "4     p1  System Initiated              0.0         32.0   \n",
       "\n",
       "   CurrentSessionLength  LastTaskCompleted  LevelProgressionAmount  \\\n",
       "0                     0               51.0                     NaN   \n",
       "1                    14               51.0                0.563458   \n",
       "2                     0               51.0                     NaN   \n",
       "3                     0               51.0                     NaN   \n",
       "4                    13               51.0                0.829827   \n",
       "\n",
       "  QuestionType  Year  Month  Day  Hour  Minute  Second  Weekday  WeekendFlag  \\\n",
       "0    Wellbeing  2022      8   28    15      50      22        6            1   \n",
       "1    Wellbeing  2022      8   28    16       5       2        6            1   \n",
       "2    Wellbeing  2022      9    7     3      31      50        2            0   \n",
       "3    Wellbeing  2022      9    8     1      30       5        3            0   \n",
       "4    Wellbeing  2022      9    8     1      43      45        3            0   \n",
       "\n",
       "   PeriodOfDay_Night  PeriodOfDay_Morning  PeriodOfDay_Afternoon  \\\n",
       "0              False                False                   True   \n",
       "1              False                False                   True   \n",
       "2               True                False                  False   \n",
       "3               True                False                  False   \n",
       "4               True                False                  False   \n",
       "\n",
       "   PeriodOfDay_Evening  \n",
       "0                False  \n",
       "1                False  \n",
       "2                False  \n",
       "3                False  \n",
       "4                False  "
      ]
     },
     "execution_count": 43,
     "metadata": {},
     "output_type": "execute_result"
    }
   ],
   "source": [
    "#encoding for TimeOfDay.\n",
    "test_data = pd.get_dummies(test_data, columns=['PeriodOfDay'], drop_first=False)\n",
    "\n",
    "test_data.head()"
   ]
  },
  {
   "cell_type": "code",
   "execution_count": 44,
   "id": "490520a5-12da-4978-966e-a90df9d2c920",
   "metadata": {
    "tags": []
   },
   "outputs": [],
   "source": [
    "# Save the transformation and encoding for 'TimeUtc' to the 'train_data_knn_imputed.csv' \n",
    "test_output_file_path = 'test_data_knn_imputed.csv'\n",
    "test_data.to_csv(test_output_file_path, index=False)"
   ]
  },
  {
   "cell_type": "markdown",
   "id": "bb0e0ee9-1736-4878-8d92-278c660352ec",
   "metadata": {
    "tags": []
   },
   "source": [
    "### LevelProgressionAmount-KNN"
   ]
  },
  {
   "cell_type": "code",
   "execution_count": 45,
   "id": "fbf53e0a-9f52-4c0e-8f3d-b1b92a178ef9",
   "metadata": {
    "tags": []
   },
   "outputs": [
    {
     "name": "stdout",
     "output_type": "stream",
     "text": [
      "Successfully encoded and performed KNN imputation on LevelProgressionAmount. The result has been saved back to the original file test_data_knn_imputed.csv\n"
     ]
    }
   ],
   "source": [
    "import pandas as pd\n",
    "from sklearn.impute import KNNImputer\n",
    "from sklearn.preprocessing import StandardScaler, LabelEncoder\n",
    "\n",
    "# Read the CSV file\n",
    "file_path = 'test_data_knn_imputed.csv'\n",
    "df = pd.read_csv(file_path)\n",
    "\n",
    "# Select the column to encode and impute\n",
    "column_to_encode_and_impute = 'LevelProgressionAmount'\n",
    "\n",
    "# Encode the column\n",
    "label_encoder = LabelEncoder()\n",
    "df[column_to_encode_and_impute] = label_encoder.fit_transform(df[column_to_encode_and_impute].astype(str))\n",
    "\n",
    "# Create KNNImputer instance\n",
    "imputer = KNNImputer(n_neighbors=5)\n",
    "\n",
    "# Perform KNN imputation on the selected column\n",
    "df[[column_to_encode_and_impute]] = imputer.fit_transform(df[[column_to_encode_and_impute]])\n",
    "\n",
    "# Standardize the imputed column\n",
    "scaler = StandardScaler()\n",
    "df[[column_to_encode_and_impute]] = scaler.fit_transform(df[[column_to_encode_and_impute]])\n",
    "\n",
    "# Save the modified data back to the original file\n",
    "df.to_csv(file_path, index=False)\n",
    "\n",
    "print(f'Successfully encoded and performed KNN imputation on {column_to_encode_and_impute}. The result has been saved back to the original file {file_path}')\n"
   ]
  },
  {
   "cell_type": "markdown",
   "id": "3f16a8b1-ce41-4165-b061-5c6efcf09231",
   "metadata": {
    "tags": []
   },
   "source": [
    "### QuestionTiming-Dummy"
   ]
  },
  {
   "cell_type": "code",
   "execution_count": 46,
   "id": "6cf18aae-c658-4479-a010-96a696e609ee",
   "metadata": {
    "tags": []
   },
   "outputs": [
    {
     "name": "stdout",
     "output_type": "stream",
     "text": [
      "test_data_knn_imputed.csv\n"
     ]
    }
   ],
   "source": [
    "import pandas as pd\n",
    "\n",
    "file_path = 'test_data_knn_imputed.csv'\n",
    "df = pd.read_csv(file_path)\n",
    "\n",
    "df_encoded = pd.get_dummies(df, columns=['QuestionTiming'])\n",
    "\n",
    "df_encoded.to_csv(file_path, index=False)\n",
    "\n",
    "print(f'{file_path}')"
   ]
  },
  {
   "cell_type": "markdown",
   "id": "7f1f2a3a-4c73-4bfe-9e86-96fbe7f5cf32",
   "metadata": {
    "tags": []
   },
   "source": [
    "### Adding UserAvgResponse"
   ]
  },
  {
   "cell_type": "code",
   "execution_count": 47,
   "id": "3e6d85f9-a92e-4317-8011-a0ee33c4b078",
   "metadata": {
    "tags": []
   },
   "outputs": [
    {
     "name": "stdout",
     "output_type": "stream",
     "text": [
      "successfully add test_data_knn_imputed.csv\n"
     ]
    }
   ],
   "source": [
    "import pandas as pd\n",
    "\n",
    "train_data_path = 'data/train_data.csv'\n",
    "train_df = pd.read_csv(train_data_path)\n",
    "\n",
    "user_means = train_df.groupby('UserID')['ResponseValue'].mean()\n",
    "\n",
    "global_mean = train_df['ResponseValue'].mean()\n",
    "\n",
    "test_data_path = 'test_data_knn_imputed.csv'\n",
    "test_df = pd.read_csv(test_data_path)\n",
    "\n",
    "test_df['UserAvgResponse'] = test_df['UserID'].map(user_means)\n",
    "\n",
    "test_df['UserAvgResponse'].fillna(global_mean, inplace=True)\n",
    "\n",
    "test_df.to_csv(test_data_path, index=False)\n",
    "\n",
    "print(f'successfully add {test_data_path}')"
   ]
  },
  {
   "cell_type": "markdown",
   "id": "6fdc456b-7ab7-4de1-8fc4-a3caacd268da",
   "metadata": {
    "jp-MarkdownHeadingCollapsed": true,
    "tags": []
   },
   "source": [
    "# Model"
   ]
  },
  {
   "cell_type": "markdown",
   "id": "863bc3ef-ec81-4e39-9664-c889bbab9adb",
   "metadata": {
    "jp-MarkdownHeadingCollapsed": true,
    "tags": []
   },
   "source": [
    "### Hyperparameter Tuning"
   ]
  },
  {
   "cell_type": "code",
   "execution_count": 28,
   "id": "17d9d33b-7b10-428b-ba92-05bac86fa96f",
   "metadata": {
    "tags": []
   },
   "outputs": [
    {
     "name": "stdout",
     "output_type": "stream",
     "text": [
      "Best parameters: OrderedDict([('max_depth', 41), ('min_samples_leaf', 3), ('min_samples_split', 20), ('n_estimators', 397)])\n",
      "Mean Squared Error: 16129.3563\n"
     ]
    }
   ],
   "source": [
    "import pandas as pd\n",
    "from sklearn.model_selection import train_test_split\n",
    "from sklearn.ensemble import RandomForestRegressor\n",
    "from sklearn.metrics import mean_squared_error\n",
    "from skopt import BayesSearchCV\n",
    "from skopt.space import Real, Categorical, Integer\n",
    "\n",
    "data_path = 'train_data_knn_imputed.csv'\n",
    "data = pd.read_csv(data_path)\n",
    "\n",
    "features = [\n",
    "    \"CurrentSessionLength\", \"CurrentGameMode\", \"CurrentTask\",\n",
    "    \"LastTaskCompleted\", \"LevelProgressionAmount\", \"Month\", \"Year\",\n",
    "    \"WeekendFlag\", \"PeriodOfDay_Night\", \"QuestionTiming_System Initiated\", \"UserAvgResponse\"\n",
    "]\n",
    "X = data[features]\n",
    "y = data['ResponseValue']\n",
    "\n",
    "\n",
    "X_train, X_test, y_train, y_test = train_test_split(X, y, test_size=0.2, random_state=42)\n",
    "\n",
    "rf = RandomForestRegressor(random_state=42)\n",
    "search_spaces = {\n",
    "    'n_estimators': Integer(100, 500),\n",
    "    'max_depth': Integer(5, 50),\n",
    "    'min_samples_split': Integer(2, 20),\n",
    "    'min_samples_leaf': Integer(1, 10)\n",
    "}\n",
    "\n",
    "opt = BayesSearchCV(rf, search_spaces, n_iter=32, n_jobs=-1, cv=3, scoring='neg_mean_squared_error', random_state=42)\n",
    "\n",
    "opt.fit(X_train, y_train)\n",
    "\n",
    "print(\"Best parameters:\", opt.best_params_)\n",
    "\n",
    "best_rf = opt.best_estimator_\n",
    "y_pred = best_rf.predict(X_test)\n",
    "\n",
    "mse = mean_squared_error(y_test, y_pred)\n",
    "print(\"Mean Squared Error: {:.4f}\".format(mse))\n"
   ]
  },
  {
   "cell_type": "markdown",
   "id": "49fb65f4-71fe-4f00-aece-9f12c5182051",
   "metadata": {
    "jp-MarkdownHeadingCollapsed": true,
    "tags": []
   },
   "source": [
    "### LightGBM"
   ]
  },
  {
   "cell_type": "code",
   "execution_count": 50,
   "id": "0ebf14f9-0b89-4ec3-915e-20e0bd9fc919",
   "metadata": {
    "tags": []
   },
   "outputs": [
    {
     "name": "stderr",
     "output_type": "stream",
     "text": [
      "D:\\Software\\Anaconda3\\Lib\\site-packages\\lightgbm\\engine.py:172: UserWarning: Found `n_estimators` in params. Will use it instead of argument\n",
      "  _log_warning(f\"Found `{alias}` in params. Will use it instead of argument\")\n"
     ]
    },
    {
     "name": "stdout",
     "output_type": "stream",
     "text": [
      "[LightGBM] [Warning] Found whitespace in feature_names, replace with underlines\n",
      "[LightGBM] [Warning] Found whitespace in feature_names, replace with underlines\n",
      "Training until validation scores don't improve for 10 rounds\n",
      "Early stopping, best iteration is:\n",
      "[145]\tvalid_0's l2: 16601.1\tvalid_0's l1: 87.9432\n",
      "Mean Squared Error: 16601.079816411584\n",
      "R-squared Score: 0.6321594482685471\n",
      "Mean Absolute Error: 87.94319361282112\n"
     ]
    }
   ],
   "source": [
    "import pandas as pd\n",
    "from sklearn.model_selection import train_test_split\n",
    "from sklearn.metrics import mean_squared_error, r2_score, mean_absolute_error\n",
    "import lightgbm as lgb\n",
    "\n",
    "data_path = 'train_data_knn_imputed.csv'\n",
    "data = pd.read_csv(data_path)\n",
    "\n",
    "features = [\n",
    "    \"CurrentSessionLength\", \"CurrentGameMode\", \"CurrentTask\",\n",
    "    \"LastTaskCompleted\", \"LevelProgressionAmount\", \"Month\", \"Year\",\n",
    "    \"WeekendFlag\", \"PeriodOfDay_Night\", \"QuestionTiming_System Initiated\", \"UserAvgResponse\"\n",
    "]\n",
    "X = data[features]\n",
    "y = data['ResponseValue']\n",
    "\n",
    "X_train, X_test, y_train, y_test = train_test_split(X, y, test_size=0.2, random_state=42)\n",
    "\n",
    "train_data = lgb.Dataset(X_train, label=y_train)\n",
    "test_data = lgb.Dataset(X_test, label=y_test, reference=train_data)\n",
    "\n",
    "params = {\n",
    "    'boosting_type': 'gbdt',\n",
    "    'objective': 'regression',\n",
    "    'metric': ['l2', 'mae'],\n",
    "    'num_leaves': 41,  \n",
    "    'learning_rate': 0.05,\n",
    "    'feature_fraction': 0.9,\n",
    "    'bagging_fraction': 0.8,\n",
    "    'bagging_freq': 5,\n",
    "    'verbose': 0,\n",
    "    'max_depth': 41,  \n",
    "    'min_data_in_leaf': 3,  \n",
    "    'min_split_gain': 20,  \n",
    "    'n_estimators': 397 \n",
    "}\n",
    "\n",
    "num_round = 100\n",
    "bst = lgb.train(params, train_data, num_round, valid_sets=[test_data], callbacks=[lgb.early_stopping(stopping_rounds=10)])\n",
    "\n",
    "y_pred = bst.predict(X_test, num_iteration=bst.best_iteration)\n",
    "mse = mean_squared_error(y_test, y_pred)\n",
    "r2 = r2_score(y_test, y_pred)\n",
    "mae = mean_absolute_error(y_test, y_pred)\n",
    "\n",
    "print(f\"Mean Squared Error: {mse}\")\n",
    "print(f\"R-squared Score: {r2}\")\n",
    "print(f\"Mean Absolute Error: {mae}\")\n"
   ]
  },
  {
   "cell_type": "code",
   "execution_count": 51,
   "id": "717ea6a7-92e0-4679-b5a0-8874daee45bb",
   "metadata": {
    "tags": []
   },
   "outputs": [
    {
     "name": "stdout",
     "output_type": "stream",
     "text": [
      "Predicted data saved to: predicted.csv\n"
     ]
    }
   ],
   "source": [
    "import pandas as pd\n",
    "import lightgbm as lgb\n",
    "\n",
    "\n",
    "test_data_path = 'test_data_knn_imputed.csv'  \n",
    "test_data = pd.read_csv(test_data_path)\n",
    "\n",
    "features = [\n",
    "    \"CurrentSessionLength\", \"CurrentGameMode\", \"CurrentTask\",\n",
    "    \"LastTaskCompleted\", \"LevelProgressionAmount\", \"Month\", \"Year\",\n",
    "    \"WeekendFlag\", \"PeriodOfDay_Night\", \"QuestionTiming_System Initiated\", \"UserAvgResponse\"\n",
    "]\n",
    "X_test = test_data[features]\n",
    "\n",
    "y_pred = bst.predict(X_test, num_iteration=bst.best_iteration)\n",
    "\n",
    "predicted_data = pd.DataFrame(y_pred)\n",
    "\n",
    "output_file_path = 'predicted.csv'\n",
    "predicted_data.to_csv(output_file_path, index=False, header=False)\n",
    "\n",
    "print(f\"Predicted data saved to: {output_file_path}\")"
   ]
  }
 ],
 "metadata": {
  "kernelspec": {
   "display_name": "Python 3 (ipykernel)",
   "language": "python",
   "name": "python3"
  },
  "language_info": {
   "codemirror_mode": {
    "name": "ipython",
    "version": 3
   },
   "file_extension": ".py",
   "mimetype": "text/x-python",
   "name": "python",
   "nbconvert_exporter": "python",
   "pygments_lexer": "ipython3",
   "version": "3.11.5"
  }
 },
 "nbformat": 4,
 "nbformat_minor": 5
}
